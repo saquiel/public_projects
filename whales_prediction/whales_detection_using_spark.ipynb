{
 "cells": [
  {
   "cell_type": "markdown",
   "metadata": {
    "slideshow": {
     "slide_type": "slide"
    }
   },
   "source": [
    "# Whale Classification from echo-location clicks"
   ]
  },
  {
   "cell_type": "markdown",
   "metadata": {
    "hide_input": false,
    "slideshow": {
     "slide_type": "subslide"
    }
   },
   "source": [
    "The echo-location clicks emitted by beaked whales are used to predict 2 whale species (Curviers and Gervais). "
   ]
  },
  {
   "cell_type": "markdown",
   "metadata": {
    "hide_input": false,
    "slideshow": {
     "slide_type": "skip"
    }
   },
   "source": [
    "The classification was done by Professor Hildebrand and became the basis for an estimate of the numbers of animals present at these sites. These results were presented in: Hildebrand, J. A., Baumann-Pickering, S., Frasier, K. E., Trickey, J. S., Merkens, K. P., Wiggins, S. M., McDonald, M. A., Garrison, L. P., Harris, D., Marques, T. A., and Thomas, L. (2015). \"Passive acoustic monitoring of beaked whale densities in the Gulf of Mexico,\" Scientific Reports 5, 16343."
   ]
  },
  {
   "cell_type": "code",
   "execution_count": 1,
   "metadata": {
    "slideshow": {
     "slide_type": "skip"
    }
   },
   "outputs": [
    {
     "name": "stderr",
     "output_type": "stream",
     "text": [
      "WARNING:root:'PYARROW_IGNORE_TIMEZONE' environment variable was not set. It is required to set this environment variable to '1' in both driver and executor sides if you use pyarrow>=2.0.0. pandas-on-Spark will set it for you but it does not work if there is a Spark context already launched.\n"
     ]
    }
   ],
   "source": [
    "import numpy as np\n",
    "import matplotlib.pyplot as plt\n",
    "import pyspark\n",
    "from pyspark import SparkContext, SparkConf\n",
    "from pyspark.sql import SparkSession\n",
    "import pyspark.pandas as ps"
   ]
  },
  {
   "cell_type": "code",
   "execution_count": 2,
   "metadata": {},
   "outputs": [
    {
     "name": "stdout",
     "output_type": "stream",
     "text": [
      "Running Spark session stopped\n",
      "No Running Spark session to stop\n"
     ]
    },
    {
     "name": "stderr",
     "output_type": "stream",
     "text": [
      "22/04/10 10:07:06 WARN Utils: Your hostname, zenbook-ZenBook-UX534FT-UX534FT resolves to a loopback address: 127.0.1.1; using 192.168.1.11 instead (on interface wlo1)\n",
      "22/04/10 10:07:06 WARN Utils: Set SPARK_LOCAL_IP if you need to bind to another address\n",
      "WARNING: An illegal reflective access operation has occurred\n",
      "WARNING: Illegal reflective access by org.apache.spark.unsafe.Platform (file:/home/zenbook/Documents/spark-3.2.0-bin-hadoop3.2/jars/spark-unsafe_2.12-3.2.0.jar) to constructor java.nio.DirectByteBuffer(long,int)\n",
      "WARNING: Please consider reporting this to the maintainers of org.apache.spark.unsafe.Platform\n",
      "WARNING: Use --illegal-access=warn to enable warnings of further illegal reflective access operations\n",
      "WARNING: All illegal access operations will be denied in a future release\n",
      "Using Spark's default log4j profile: org/apache/spark/log4j-defaults.properties\n",
      "Setting default log level to \"WARN\".\n",
      "To adjust logging level use sc.setLogLevel(newLevel). For SparkR, use setLogLevel(newLevel).\n",
      "22/04/10 10:07:07 WARN NativeCodeLoader: Unable to load native-hadoop library for your platform... using builtin-java classes where applicable\n"
     ]
    }
   ],
   "source": [
    "conf = pyspark.SparkConf()\n",
    "conf.setAppName('pandas_api')\n",
    "conf.set('spark.executor.memory', '2g')\n",
    "conf.set(\"spark.driver.memory\", \"2g\")\n",
    "conf.setMaster('local[2]')  # 4 cores \n",
    "conf.set(\"spark.sql.execution.arrow.pyspark.enabled\", \"true\") # Force arrow\n",
    "conf.set(\"spark.sql.execution.arrow.pyspark.fallback.enabled\", \"true\") # better bug tracing\n",
    "\n",
    "# Helper try/expect for rerun spark session\n",
    "try: \n",
    "    print(\"Running Spark session stopped\")\n",
    "    sc.stop()\n",
    "except: \n",
    "    print(\"No Running Spark session to stop\")\n",
    "    pass\n",
    "\n",
    "\n",
    "sc = pyspark.SparkContext(conf=conf).getOrCreate()\n",
    "spark = SparkSession(sc)"
   ]
  },
  {
   "cell_type": "markdown",
   "metadata": {
    "slideshow": {
     "slide_type": "skip"
    }
   },
   "source": [
    "## The Dataset\n",
    "The full dataset has 6.5 million clicks with data of the size of about 27GB. University of California San Diego filters the mis-classified clicks and faulty data.\n",
    "The sample of 15MB contains about 2000 samples from each species."
   ]
  },
  {
   "cell_type": "code",
   "execution_count": 3,
   "metadata": {
    "slideshow": {
     "slide_type": "skip"
    }
   },
   "outputs": [
    {
     "name": "stderr",
     "output_type": "stream",
     "text": [
      "22/04/10 10:07:12 WARN TaskSetManager: Stage 0 contains a task of very large size (5223 KiB). The maximum recommended task size is 1000 KiB.\n"
     ]
    },
    {
     "data": {
      "text/html": [
       "<div>\n",
       "<style scoped>\n",
       "    .dataframe tbody tr th:only-of-type {\n",
       "        vertical-align: middle;\n",
       "    }\n",
       "\n",
       "    .dataframe tbody tr th {\n",
       "        vertical-align: top;\n",
       "    }\n",
       "\n",
       "    .dataframe thead th {\n",
       "        text-align: right;\n",
       "    }\n",
       "</style>\n",
       "<table border=\"1\" class=\"dataframe\">\n",
       "  <thead>\n",
       "    <tr style=\"text-align: right;\">\n",
       "      <th></th>\n",
       "      <th>label</th>\n",
       "      <th>peak_to_peak</th>\n",
       "      <th>MSN</th>\n",
       "      <th>MSP</th>\n",
       "      <th>rec_no</th>\n",
       "    </tr>\n",
       "  </thead>\n",
       "  <tbody>\n",
       "    <tr>\n",
       "      <th>0</th>\n",
       "      <td>Cuviers</td>\n",
       "      <td>50.2422</td>\n",
       "      <td>b'\\xf9\\x0f\\xe9\\xb7\\xaf\\xa3\"@\\xbf}\\x1d8g\\x04+\\x...</td>\n",
       "      <td>b'\\xd1\\x91\\\\\\xfeC\\xdaB\\xc0\\xa4\\xdf\\xbe\\x0e\\x9c...</td>\n",
       "      <td>01</td>\n",
       "    </tr>\n",
       "    <tr>\n",
       "      <th>1</th>\n",
       "      <td>Cuviers</td>\n",
       "      <td>55.0377</td>\n",
       "      <td>b'\\xf1c\\xcc]K\\xc8\\x01\\xc0\\x9b\\xe6\\x1d\\xa7\\xe8H...</td>\n",
       "      <td>b'\\x12\\x14?\\xc6\\xdc]A\\xc0\\x00\\x00\\x00\\x00\\x00\\...</td>\n",
       "      <td>01</td>\n",
       "    </tr>\n",
       "    <tr>\n",
       "      <th>2</th>\n",
       "      <td>Cuviers</td>\n",
       "      <td>44.9439</td>\n",
       "      <td>b'\\x12\\xa5\\xbd\\xc1\\x17f\\x17@\\\\ A\\xf1c\\xcc\\xed?...</td>\n",
       "      <td>b'\\xf2\\xb0Pk\\x9a\\xcfC\\xc0\\xb1\\xe1\\xe9\\x95\\xb2t...</td>\n",
       "      <td>01</td>\n",
       "    </tr>\n",
       "    <tr>\n",
       "      <th>3</th>\n",
       "      <td>Cuviers</td>\n",
       "      <td>72.7624</td>\n",
       "      <td>b'\\xebs\\xb5\\x15\\xfb\\x0b\\x17\\xc0H\\xe1z\\x14\\xaeg...</td>\n",
       "      <td>b'b\\x10X9\\xb4\\xf8@\\xc0\\xff!\\xfd\\xf6upB\\xc0\\x88...</td>\n",
       "      <td>01</td>\n",
       "    </tr>\n",
       "    <tr>\n",
       "      <th>4</th>\n",
       "      <td>Cuviers</td>\n",
       "      <td>57.1313</td>\n",
       "      <td>b'?5^\\xbaIL\\x1a\\xc0\\t\\x8a\\x1fc\\xee\\x9a\\x18\\xc0...</td>\n",
       "      <td>b'V\\x0e-\\xb2\\x9d\\xffE\\xc0`\\xe5\\xd0\"\\xdbIG\\xc0\\...</td>\n",
       "      <td>01</td>\n",
       "    </tr>\n",
       "  </tbody>\n",
       "</table>\n",
       "</div>"
      ],
      "text/plain": [
       "     label  peak_to_peak                                                                                                                                                                                                                                                                                                                                                                                                                                                                                                                                                                                                                                                                                                                                                                                                                                                                                                                                                                                                                                                                                                                                                                                                                                                                                                                                                                                                                                                                                                                                                                                                                                                                                                                                                                                                                                                                                                                                                                                                                                                                                                                                                                                                                                                                                                                                                                                                                                                                                                                                                                                                                                                                                                                                                                                                                                                                                                                                                                                                                                                                                                                                                                                                                                                                                                                                                                                                                                                                                                                                                                                                                                                                                                                                                                                                                                                                                                                                                                                                                                                                                                                                                                                                                                                                                                                                                                                                                                                                                                                                                                                                                                                                                                                                                                            MSN                                                                                                                                                                                                                                                                                                                                                                                                                                                                                                                                                                                                                                                                                                                                                                                                                                                                                                                                                                                                                                                                                                                                                                                                                                                                                                                                                                                                                                                                                                                                                                                                                                                                                                                                                                                                                                                                                                                                                                                                                                                                                                                                                                                                                                                                                                                                                                                                                                      MSP rec_no\n",
       "0  Cuviers       50.2422                                                                                         b'\\xf9\\x0f\\xe9\\xb7\\xaf\\xa3\"@\\xbf}\\x1d8g\\x04+\\xc0\\xae\\xb6b\\x7f\\xd9}\\x18\\xc04\\x80\\xb7@\\x82b\\x16@\\xe7\\x1d\\xa7\\xe8H.\\xeb\\xbf\\x04V\\x0e-\\xb2\\x9d\\xfb?:#J{\\x83/\\xe0?\\xf9\\x0f\\xe9\\xb7\\xaf\\x03\\n@\\x1aQ\\xda\\x1b|\\xe1\\x10@q\\xac\\x8b\\xdbh\\x00\\x1f@\\xd6V\\xec/\\xbb\\'\\x04@\\x8f\\xc2\\xf5(\\\\\\x8f\\xee?\\x87\\x16\\xd9\\xce\\xf7S\\x07@\\xe2\\xe9\\x95\\xb2\\x0cq\\x16\\xc0S\\x96!\\x8euq\\xf9\\xbff\\x88c]\\xdc\\xc6\\x05\\xc0\\xf7\\x06_\\x98L\\xf5%\\xc03\\xc4\\xb1.n\\xe3\\x1b\\xc0\\xc19#J{\\x83$\\xc0\\x0e-\\xb2\\x9d\\xefg\\x1d@vq\\x1b\\r\\xe0\\xed0@\\x83\\xc0\\xca\\xa1E\\xf6\\x19@\\xa0\\x89\\xb0\\xe1\\xe9\\x95\\x10@)\\xcb\\x10\\xc7\\xba\\xb8\\x10\\xc0@\\x13a\\xc3\\xd3\\xab\\x07\\xc0\\xb2\\x9d\\xef\\xa7\\xc6\\xcb\\x13@\\xdb\\xf9~j\\xbct\\xf3?\\x9aw\\x9c\\xa2#y\\x14@\\x0eO\\xaf\\x94e\\x08\\x16@\\xc7K7\\x89A\\xe0\\x01\\xc0\\xd5\\th\"lx\\xf7?vO\\x1e\\x16jM\\xf8?\\xca2\\xc4\\xb1.n\\xfb?\\x12\\x83\\xc0\\xca\\xa1\\x05\\x1c\\xc0\\xb8\\xaf\\x03\\xe7\\x8cH$\\xc0EGr\\xf9\\x0f\\xe9\\xe5\\xbf\\x18\\x95\\xd4\\thb\\x12@\\x85\\xebQ\\xb8\\x1e\\x85\\xf5\\xbf\\xf3\\x1f\\xd2o_\\xc7\\x1a\\xc0\\x0e-\\xb2\\x9d\\xef\\'\\x06\\xc0g\\xd5\\xe7j+\\xf6\\x18@}?5^\\xba)%@\\x15\\x1d\\xc9\\xe5?\\xa4\\xd7\\xbfvq\\x1b\\r\\xe0-\\xe8?\\xb3\\x0cq\\xac\\x8b\\xdb\\x1b@w-!\\x1f\\xf4,\\x18@2w-!\\x1f\\xf4\\xec\\xbfjM\\xf3\\x8eSt\\xf0\\xbf.\\xff!\\xfd\\xf6u\\xe6?~\\x8c\\xb9k\\t\\xb9\\x19\\xc0\\x00o\\x81\\x04\\xc5\\x0f\\n\\xc0c\\x7f\\xd9=yX\\xf8?\\x1b\\x9e^)\\xcb\\xd0\\x18\\xc0\\xe5\\xf2\\x1f\\xd2o_\\xf0\\xbfL7\\x89A`\\xe5\\x12@g\\xd5\\xe7j+\\xf6\\x04@\\x91\\xed|?5\\xbe @W[\\xb1\\xbf\\xec\\x9e\\x00@\\xb1\\xbf\\xec\\x9e<\\xac\\x10@6\\xcd;N\\xd1\\x11\\x02@\\xfc\\x18s\\xd7\\x12r\\x1c\\xc0\\x89A`\\xe5\\xd0\"\\xe3?\\x03\\t\\x8a\\x1fc\\xee\\xf6\\xbf\"\\x8euq\\x1b\\x8d\\x00\\xc0\\x11\\xc7\\xba\\xb8\\x8d\\x06\\xfe?\\xac\\x8b\\xdbh\\x00\\xef\\x0c\\xc0\\xf7u\\xe0\\x9c\\x11%\\x17\\xc0\\xf4lV}\\xae\\xb6\\xe8\\xbf\\x0e\\xbe0\\x99*\\x18\\x18\\xc0\\xec/\\xbb\\'\\x0f\\xeb)@\\xd5\\th\"l89@\\x05\\xa3\\x92:\\x01M\\x11@\\x14?\\xc6\\xdc\\xb5\\x84\\xbc?s\\xd7\\x12\\xf2AO\\x14\\xc0\\xec/\\xbb\\'\\x0f\\xfb0\\xc0\\xf0\\x85\\xc9T\\xc1\\xa8\\x15\\xc0=\\x9bU\\x9f\\xab-\\x13\\xc0\\xda\\xac\\xfa\\\\m\\xa5$\\xc0\\xcc\\xee\\xc9\\xc3Bm\\x1c@6\\xab>W[\\xb1\\xf2?\\xbd\\xe3\\x14\\x1d\\xc9\\xe5\\xaf\\xbf\\xe0-\\x90\\xa0\\xf81\\r@\\x1b/\\xdd$\\x06\\x81\\xa5\\xbf\\x8c\\xdbh\\x00o\\xc1?@W[\\xb1\\xbf\\xec\\x1eO@-\\xb2\\x9d\\xef\\xa7&2@\\x07\\xce\\x19Q\\xdaSR\\xc0w-!\\x1f\\xf4\\xa4[\\xc0\\xbf}\\x1d8gT9\\xc0\\xb7b\\x7f\\xd9=\\x15P@0*\\xa9\\x13\\xd0\\x04[@D\\xfa\\xed\\xeb\\xc0\\xb96@~\\x1d8gD5U\\xc0\\xff!\\xfd\\xf6u\\xd8E\\xc06<\\xbdR\\x96\\xc1O@\\x8c\\xdbh\\x00o\\x05X@\\x8c\\xdbh\\x00o\\xa1:\\xc0\\x07\\xce\\x19Q\\xda\\xcb[\\xc0\\xcc]K\\xc8\\x07\\xb5U\\xc0jM\\xf3\\x8eS45\\xc0\\xd2\\x00\\xde\\x02\\t\\x16X@Qk\\x9aw\\x9c e@k\\x9aw\\x9c\\xa2#\\x0b\\xc0\\xe7\\xfb\\xa9\\xf1\\xd2\\x1f`\\xc0_)\\xcb\\x10\\xc7\\xbaI\\xc0\\xc0[ A\\xf1\\xb3?@\\x02+\\x87\\x16\\xd9\\xc6I@\\x8c\\xb9k\\t\\xf9\\xc0)\\xc0\\x9c\\xc4 \\xb0r\\x88V\\xc0\\xa5N@\\x13a\\x931@$\\x97\\xff\\x90~\\xa3b@\\xd1\"\\xdb\\xf9~\\x92Y@`vO\\x1e\\x16\\x96]\\xc0;p\\xce\\x88\\xd2\\x84c\\xc0\\x96!\\x8euq\\xcb<@|\\xf2\\xb0Pk\"R@2U0*\\xa9\\xb3.@\\\\\\x8f\\xc2\\xf5(\\x18\\\\\\xc0\\x15\\x8cJ\\xea\\x04T4@f\\x88c]\\xdc\\xd2X@d\\xcc]K\\xc8\\xc7\\x1c@\\x96!\\x8euq\\x83E\\xc0\\xa5N@\\x13a\\xa3?\\xc0X9\\xb4\\xc8v~G@_\\x98L\\x15\\x8c\\xeaI@\\xa8\\xc6K7\\x89\\x81/\\xc0\\x82sF\\x94\\xf6\\x06:\\xc0\\xfa\\xed\\xeb\\xc09\\x134@\\x14?\\xc6\\xdc\\xb5\\x84\\xf4?\\x0c\\x93\\xa9\\x82QIA\\xc0k+\\xf6\\x97\\xdd\\xdbJ\\xc0\\xd7\\xa3p=\\n\\x97\\x1e\\xc05\\xef8EG\\xb2&@\\xe3\\xc7\\x98\\xbb\\x96\\xf0 @\\x84\\x9e\\xcd\\xaa\\xcf\\xe58@\\x02\\x9a\\x08\\x1b\\x9e^>@\\x00o\\x81\\x04\\xc5\\xaf5@e\\xaa`TRG0@\\xfc\\x18s\\xd7\\x12\\x92-\\xc0,\\xd4\\x9a\\xe6\\x1d\\'+\\xc0_\\x07\\xce\\x19Q\\xfa6\\xc0\\xfd\\xf6u\\xe0\\x9c\\x91\\r@\\xe9\\xb7\\xaf\\x03\\xe7\\xec&@\\x1aQ\\xda\\x1b|\\xa1)\\xc0\\xc5 \\xb0rh\\xc1:\\xc0\\xac\\x1cZd;\\x9f\\x1a@\\x1c|a2UP4@\\xd4+e\\x19\\xe2\\x18\\x1a@8\\xf8\\xc2d\\xaa \\x10\\xc0\\x9c\\xc4 \\xb0r\\xe8*\\xc0T\\xe3\\xa5\\x9b\\xc4p3@\\xab>W[\\xb1\\xdf*\\xc0\\xfd\\x87\\xf4\\xdb\\xd7\\x81\\xfb\\xbf\\xb0\\x03\\xe7\\x8c(-\\x18@\\xadi\\xdeq\\x8a\\xbe0@,e\\x19\\xe2X\\xd7\\x10@\\xf6\\x97\\xdd\\x93\\x87\\x85\\xd2?F%u\\x02\\x9a\\x88\\x13@\\x8bl\\xe7\\xfb\\xa9\\xf1\\xe0?\\xb3\\xeas\\xb5\\x15;\\x18\\xc0A\\xf1c\\xcc]\\x0b\\x19\\xc0H\\xe1z\\x14\\xaeG\\x19@@\\x13a\\xc3\\xd3+\\r\\xc0_)\\xcb\\x10\\xc7\\x9a)\\xc0\\xf5\\xb9\\xda\\x8a\\xfde\\x0c\\xc0\\xbe0\\x99*\\x18\\x95,\\xc0\\x19\\x04V\\x0e-\\xf2\\x19@\\xe9H.\\xff!\\r2@y\\xe9&1\\x08\\xac\\xea\\xbf\\x7fj\\xbct\\x93\\x18\\xf9\\xbf\\x82\\xe2\\xc7\\x98\\xbb\\xb61\\xc0D\\x8bl\\xe7\\xfb\\xa9\\x03\\xc0d]\\xdcF\\x03(3@\\x02\\x9a\\x08\\x1b\\x9e^*@\\x04\\xe7\\x8c(\\xedM\\x19@\\xf1c\\xcc]K\\xc8\\t@9EGr\\xf9\\x8f\\x01\\xc0\\\\ A\\xf1c\\x0c/@\\x87\\x16\\xd9\\xce\\xf7s0\\xc0jM\\xf3\\x8eS\\x14#@\\x85\\xebQ\\xb8\\x1e\\x05\\x15\\xc0\\xff\\xb2{\\xf2\\xb0\\x10(\\xc0\\rq\\xac\\x8b\\xdb\\xa8\\x1b\\xc0\\x14\\xaeG\\xe1z\\x041\\xc0(~\\x8c\\xb9k\\t\\xe9\\xbff\\x88c]\\xdcF\\xfa?c\\x7f\\xd9=y\\xe80@aTR\\'\\xa0\\x89\\x01@\\xb1\\xe1\\xe9\\x95\\xb2\\x0c\\xfd\\xbf\\xee|?5^\\xfa\\x14\\xc0\\x81\\x95C\\x8blG&@\\xc6m4\\x80\\xb7\\xc0\\x15@k+\\xf6\\x97\\xdd\\x93\\xcf\\xbfY\\x17\\xb7\\xd1\\x00\\xde\\x0c@>\\xe8\\xd9\\xac\\xfa\\\\\\xef?\\xae\\xb6b\\x7f\\xd9=\\x05\\xc0\\x15\\x8cJ\\xea\\x04\\xb4\\x12\\xc0\\x90\\xa0\\xf81\\xe6\\x8e!\\xc0=,\\xd4\\x9a\\xe6\\x1d\\xdb?~\\x1d8gD)!@\\'1\\x08\\xac\\x1c\\xda\\r@u\\x02\\x9a\\x08\\x1b\\x9e\\x1d\\xc0'                                                                          b'\\xd1\\x91\\\\\\xfeC\\xdaB\\xc0\\xa4\\xdf\\xbe\\x0e\\x9c\\x1bD\\xc0\\x83/L\\xa6\\n\\x1eP\\xc0t$\\x97\\xff\\x90VQ\\xc0i\\x00o\\x81\\x04\\rQ\\xc0d]\\xdcF\\x03\\xa8P\\xc0\\x9f\\xcd\\xaa\\xcf\\xd5\\xc6H\\xc0\\x14?\\xc6\\xdc\\xb5,J\\xc0\\xe5a\\xa1\\xd64\\'E\\xc0\\x05\\xa3\\x92:\\x01mC\\xc0\\xfb\\xcb\\xee\\xc9\\xc3ZA\\xc0\\x1a\\xc0[ AA;\\xc0\\xe5\\xf2\\x1f\\xd2o_7\\xc07\\x1a\\xc0[ \\xc16\\xc0\\x1e\\x16jM\\xf3\\xbe4\\xc0\\x8f\\xc2\\xf5(\\\\_2\\xc0\\xef8EGr\\x897\\xc05\\xef8EG\\xc29\\xc0\\x9f\\xab\\xad\\xd8_\\xf60\\xc0(\\x0f\\x0b\\xb5\\xa69/\\xc0\\x1c\\xeb\\xe26\\x1a\\xa00\\xc0>yX\\xa85\\x8d,\\xc0\\xaeG\\xe1z\\x14\\xae\\'\\xc0\\xb6\\x84|\\xd0\\xb3\\xb9&\\xc0o\\x12\\x83\\xc0\\xcaA(\\xc0\\x0f\\x0b\\xb5\\xa6y\\xa7+\\xc0\\x95\\xd4\\th\"L1\\xc0\\xc0\\xec\\x9e<,\\xd45\\xc0\\xe0-\\x90\\xa0\\xf8\\xc17\\xc0j\\xdeq\\x8a\\x8e\\x144\\xc0\\xb7\\xd1\\x00\\xde\\x02\\xc9/\\xc0\\xd2\\x00\\xde\\x02\\tJ+\\xc0l\\t\\xf9\\xa0g\\xb3,\\xc0\\x1aQ\\xda\\x1b|A*\\xc0\\xc2\\x17&S\\x05c&\\xc0g\\xd5\\xe7j+v#\\xc0\\xc0\\xec\\x9e<,\\xf4 \\xc0(\\x0f\\x0b\\xb5\\xa6\\xf9\\x1c\\xc0h\\xb3\\xeas\\xb5U\\x17\\xc0k\\x9aw\\x9c\\xa2\\xa3\\x14\\xc0h\\xb3\\xeas\\xb5\\x95\\x15\\xc0\\xef8EGr9\\x19\\xc0{\\x14\\xaeG\\xe1z\\x1e\\xc0X\\xa85\\xcd;\\xce!\\xc0\\xc9\\xe5?\\xa4\\xdf>#\\xc02w-!\\x1f\\xf4!\\xc0\"\\xfd\\xf6u\\xe0\\xdc \\xc0\\x8b\\xfde\\xf7\\xe4\\x81\"\\xc0\\x19s\\xd7\\x12\\xf2\\xa1$\\xc0\\xa1\\xd64\\xef8\\xe5\\'\\xc0X9\\xb4\\xc8v\\xbe,\\xc0\\xaf%\\xe4\\x83\\x9eM1\\xc0\\xfb:p\\xce\\x88\\xb25\\xc0\\x9e^)\\xcb\\x10\\x877\\xc0\\\\\\x8f\\xc2\\xf5(\\xec;\\xc0\\xe0\\x9c\\x11\\xa5\\xbd\\xa1<\\xc0xz\\xa5,C\\x9c8\\xc0\\x054\\x116<\\r5\\xc0\\xa1g\\xb3\\xeas\\xa53\\xc0\\xfee\\xf7\\xe4a\\x113\\xc0\\xd9=yX\\xa8\\x153\\xc0\\x85|\\xd0\\xb3Y54\\xc0J\\x0c\\x02+\\x87f6\\xc0\\x86\\xc9T\\xc1\\xa8\\x147\\xc0\\x13\\xf2A\\xcffE7\\xc02w-!\\x1f$9\\xc0\\x08=\\x9bU\\x9f;:\\xc0\\x11\\xc7\\xba\\xb8\\x8d\\xf69\\xc0^\\xbaI\\x0c\\x02k8\\xc0\\xdd\\xb5\\x84|\\xd0c6\\xc0\\xd0D\\xd8\\xf0\\xf4\\xda5\\xc0\\xcaT\\xc1\\xa8\\xa4\\xbe8\\xc0]\\xfeC\\xfa\\xed\\x83@\\xc0\"\\xfd\\xf6u\\xe0\\x04D\\xc0\\x85\\xebQ\\xb8\\x1e\\x1d@\\xc0\\xdc\\xd7\\x81sF\\xf4B\\xc0\\xae\\xb6b\\x7f\\xd9]:\\xc0\\x8a\\x8e\\xe4\\xf2\\x1fr6\\xc0\\xd5x\\xe9&1H6\\xc0\\xb57\\xf8\\xc2d\\xfa5\\xc0|\\xf2\\xb0Pk\\xba8\\xc0\\xc6\\xdc\\xb5\\x84| =\\xc0J\\x0c\\x02+\\x87F=\\xc0\\xe4\\x83\\x9e\\xcd\\xaa_:\\xc0\\xbe0\\x99*\\x18\\x15;\\xc0\\xb6\\xf3\\xfd\\xd4x\\x89;\\xc0\\'\\xa0\\x89\\xb0\\xe1y:\\xc0\\x0f\\x9c3\\xa2\\xb4\\xb79\\xc0\\xcaT\\xc1\\xa8\\xa4\\x8e:\\xc0\\xb0\\x03\\xe7\\x8c(m=\\xc0\\x17HP\\xfc\\x18c?\\xc0|\\xf2\\xb0Pk\\xe2@\\xc0\\x1c|a2UP@\\xc0\\xd0D\\xd8\\xf0\\xf4\\x9a<\\xc0\\xfee\\xf7\\xe4a1:\\xc0\\x96C\\x8bl\\xe7;;\\xc0\\xc3d\\xaa`T\\xa2@\\xc0\\xa6\\nF%u\\xbaG\\xc0;\\xdfO\\x8d\\x97\\x86P\\xc0\\x868\\xd6\\xc5m\\x80Q\\xc0\\xc2\\x86\\xa7W\\xcajT\\xc0'     01\n",
       "1  Cuviers       55.0377                                                                       b'\\xf1c\\xcc]K\\xc8\\x01\\xc0\\x9b\\xe6\\x1d\\xa7\\xe8H\\x1a@\\x84\\x9e\\xcd\\xaa\\xcf\\x95,\\xc0-\\xb2\\x9d\\xef\\xa7f @\\xa6\\nF%u\\x02\\xf0\\xbf^\\xbaI\\x0c\\x02+\\x00@\\xae\\xb6b\\x7f\\xd9\\xbd\\x0b\\xc0\\xd3\\xde\\xe0\\x0b\\x93)\\x07\\xc0\\xff!\\xfd\\xf6u`\\x1d@\\x1f\\xf4lV}.\\x12\\xc0\\x80H\\xbf}\\x1d\\xb8\\x06@Zd;\\xdfO\\r\\x14@\\xdd$\\x06\\x81\\x95\\xc3!@\\x9f\\xab\\xad\\xd8_v\\xe5?v\\xe0\\x9c\\x11\\xa5\\xbd\\xc1\\xbf\\t\\x1b\\x9e^)\\x0b/\\xc0\\xbdR\\x96!\\x8e5\\x1f\\xc0\\xee|?5^\\xba\\xfc\\xbf`vO\\x1e\\x16\\xea$\\xc0\\xa5N@\\x13a\\xc3\\xdf?\\xa6\\nF%ub \\xc0E\\xd8\\xf0\\xf4JY\\xd6\\xbf\\x9aw\\x9c\\xa2#\\xd9$@T\\xe3\\xa5\\x9b\\xc4 %@\\xdb\\x8a\\xfde\\xf7\\xa4\\'@\\xf91\\xe6\\xae%$\\x10@\\xf4\\xfd\\xd4x\\xe9&\\x00\\xc0\\xb9\\xfc\\x87\\xf4\\xdb\\x97*\\xc0\\xf3\\x1f\\xd2o_G\\x1a\\xc0\\x93\\xa9\\x82QI\\x9d\\xfd\\xbf\\x054\\x116<\\xbd\\xfb\\xbfW[\\xb1\\xbf\\xec^\\x10\\xc0\\xbf\\x0e\\x9c3\\xa2\\xb4\\x1b\\xc0aTR\\'\\xa0\\x89\\xe0?@\\x13a\\xc3\\xd3+\\xf2?\\xd3\\xbc\\xe3\\x14\\x1d\\t,@\\xb5\\xa6y\\xc7):\\xf1\\xbf\\x868\\xd6\\xc5m\\xb4\\x00@\\xd4+e\\x19\\xe2\\x98\\x11\\xc0\\xfa~j\\xbctS\\x13\\xc0\\xac\\x1cZd;\\xdf\\xbf\\xbf\\x88\\xf4\\xdb\\xd7\\x813\\x1a\\xc0(\\x0f\\x0b\\xb5\\xa6\\xb9\\x18@\\xe5\\xf2\\x1f\\xd2o_\\xff?\\'\\xa0\\x89\\xb0\\xe1\\xe9\\xf5?h\"lxz\\xe5\\x17\\xc0\\xb3\\xeas\\xb5\\x15\\xbb#\\xc0{\\x14\\xaeG\\xe1:\\x13\\xc0\\x8f\\xe4\\xf2\\x1f\\xd2o\\x1e@\\x84\\rO\\xaf\\x94e\\xfc?I\\x9d\\x80&\\xc2\\x06\\x05@f\\xf7\\xe4a\\xa1V\\x06@\\x95\\xd4\\th\"l\\x11\\xc0\\xbe\\x9f\\x1a/\\xdd\\xa4\\x05\\xc0P\\x8d\\x97n\\x12C\\x13\\xc0\\xaa`TR\\'\\xe0\\x17\\xc0\\x95\\xd4\\th\"\\xec\\x08@\\x07_\\x98L\\x15\\x8c\\xf8?\\xf2\\xd2Mb\\x10X\\xc1\\xbf/\\xdd$\\x06\\x81\\x95\\x18@\\xfa\\xed\\xeb\\xc09#\\xf8\\xbfh\"lxz\\xe5\\x13\\xc0k+\\xf6\\x97\\xdd\\x93\\xf0\\xbf4\\x80\\xb7@\\x82b\\x12\\xc0\\xb3\\xeas\\xb5\\x15\\xfb\\x19\\xc0\\rq\\xac\\x8b\\xdbh\\xea\\xbf\\xf3\\x1f\\xd2o_\\xc7\\x11@\\x1a\\xc0[ A\\x015@\\xd2o_\\x07\\xce\\xe94@\\x97\\xff\\x90~\\xfb:\\x11@C\\xadi\\xdeq\\xea1\\xc0\\x91~\\xfb:p.A\\xc0\\t\\x1b\\x9e^)\\x0b)\\xc0\\x14\\xd0D\\xd8\\xf0T%@\\xc7):\\x92\\xcb\\x7f\\x0f@r\\x8a\\x8e\\xe4\\xf2?\"\\xc0\\xdc\\xd7\\x81sF\\xa4:\\xc0i\\x00o\\x81\\x04\\xd53\\xc0\\t\\x8a\\x1fc\\xee\\xca0@\\'\\xc2\\x86\\xa7WJ0@\\'\\xc2\\x86\\xa7W\\xca\\xfa?\\x9b\\xe6\\x1d\\xa7\\xe8\\xf8<@\\xc9v\\xbe\\x9f\\x1aOM@E\\xd8\\xf0\\xf4J\\xb9U@M\\x84\\rO\\xaf\\x94\\x0b\\xc0\\xcc]K\\xc8\\x07Sd\\xc0d;\\xdfO\\x8d\\x0fC\\xc0s\\xd7\\x12\\xf2A\\x8f0\\xc0O\\xaf\\x94e\\x88;C\\xc0\\x13a\\xc3\\xd3+\\xa9_@\\x94\\xf6\\x06_\\x98\\xbc@@o\\xf0\\x85\\xc9T\\x19M\\xc0\\xb0rh\\x91\\xed(d\\xc0\\xc5\\x8f1w-\\x99]\\xc0\\xb0rh\\x91\\xed0l@>\\xe8\\xd9\\xac\\xfahl@\\x0b$(~\\x8c\\x19:\\xc0\\xa85\\xcd;N]c\\xc0\\xeb\\xe26\\x1a\\xc0_Q\\xc0s\\xd7\\x12\\xf2AOM\\xc0\\xb5\\x15\\xfb\\xcb\\xeemg@2\\xe6\\xae%\\xe4\\xc5p@g\\xd5\\xe7j+\\x9aS\\xc0\\x93:\\x01M\\x84\\xf5k\\xc0x\\x9c\\xa2#\\xb9\\x86r\\xc0\\x8euq\\x1b\\r@$@\\x9bU\\x9f\\xab\\xad\\xf0g@\\xed\\x9e<,\\xd4\\x96d@\\xe7\\xfb\\xa9\\xf1\\xd2m&\\xc0K\\xea\\x044\\x11\\x0eW\\xc0\\xce\\x19Q\\xda\\x1b\\x8cB\\xc0\\x0c\\x93\\xa9\\x82Q\\xd96\\xc0\\xcf\\xf7S\\xe3\\xa5\\x9b\\x16@\\xe6?\\xa4\\xdf\\xbeN>\\xc0+\\xf6\\x97\\xdd\\x93\\xcfO@2w-!\\x1fdL@\\x8a\\x1fc\\xeeZ\\x022@\\x1e\\x16jM\\xf3\\x9e@\\xc0\\x04\\xe7\\x8c(\\xed\\r;\\xc0\\x19s\\xd7\\x12\\xf2\\xc1,\\xc0\\xde\\x93\\x87\\x85Z\\xa3<@\\xc9\\xe5?\\xa4\\xdf\\x8e:\\xc0vq\\x1b\\r\\xe0\\xed\\x11\\xc0\\xb0\\x03\\xe7\\x8c(5P@\\x1b/\\xdd$\\x06aG@\\r\\xe0-\\x90\\xa0\\xd8B\\xc0\\nh\"lx\\xe2A\\xc0\\xe2X\\x17\\xb7\\xd1@A\\xc0\\xf2A\\xcff\\xd5\\xffK\\xc0\\xf6\\x97\\xdd\\x93\\x875E\\xc0\\t\\x1b\\x9e^)\\xbb?\\xc09\\xb4\\xc8v\\xbeGK@\\x93\\x18\\x04V\\x0e\\xa9T@\\xc6\\xdc\\xb5\\x84|\\x98G@\\x00\\x00\\x00\\x00\\x00\\x80\\x12@8gDiop\\x1b@\\x19\\xe2X\\x17\\xb7\\xa1<\\xc0\\xc5\\xfe\\xb2{\\xf2\\xf0,\\xc0]m\\xc5\\xfe\\xb2[/\\xc0\\x9f\\xcd\\xaa\\xcf\\xd5F7\\xc04\\x116<\\xbdr5\\xc0\\x116<\\xbdRv,@\\xc7):\\x92\\xcb\\xdf\"@\\xd4+e\\x19\\xe28-@M\\x15\\x8cJ\\xea\\xe4.\\xc0\\n\\xd7\\xa3p=\\n\\xd7\\xbf\\xea\\x044\\x116|)@\\xce\\xaa\\xcf\\xd5V\\xac\"@-C\\x1c\\xeb\\xe2V%\\xc0\\xb0\\x03\\xe7\\x8c(\\xed\\x1e\\xc0\\xcd;N\\xd1\\x91\\x1c,\\xc0\\x1a\\xc0[ A\\x91+\\xc0\\xf7u\\xe0\\x9c\\x11\\xe56@&S\\x05\\xa3\\x92\\xfa.@\\xb1\\xe1\\xe9\\x95\\xb2\\xcc\\x12@\\xbe0\\x99*\\x18\\xb53\\xc0\\xd74\\xef8E\\x07\\x1d@\\x10z6\\xab>W\\xf1?\\xfc\\x18s\\xd7\\x12\\xf2\\xfe?\\x19s\\xd7\\x12\\xf2a \\xc0\\xd5\\xe7j+\\xf6\\x17\\x19@\\xcb\\x10\\xc7\\xba\\xb8\\xad#\\xc0\\xa3#\\xb9\\xfc\\x87\\xf4\\xf6?\\xb5\\x15\\xfb\\xcb\\xee\\xe91\\xc0\\x93\\x18\\x04V\\x0e\\xad\\x18\\xc09\\xb4\\xc8v\\xbe\\x9f\\xf8\\xbfgDio\\xf054@\\x05\\xc5\\x8f1w\\xad\\x0e@-!\\x1f\\xf4l\\x16+\\xc0\\xc8\\x98\\xbb\\x96\\x90\\x0f\\xf4\\xbfh\\x91\\xed|?\\xb5\\x08\\xc0\\xf7\\xe4a\\xa1\\xd6\\xb4\\x03@^\\xbaI\\x0c\\x02+\\xf6?\\xdch\\x00o\\x81\\x940@\\xb3{\\xf2\\xb0P\\xab\\x15@\\x86\\xc9T\\xc1\\xa8\\xe4\\x15@L7\\x89A`E&\\xc0\\xce\\x88\\xd2\\xde\\xe0\\x0b\\xf0\\xbf\\xe3\\xc7\\x98\\xbb\\x96\\x90\\x06\\xc0\\xf3\\x8eSt$\\x17\\x16\\xc0L7\\x89A`E\"\\xc0\\xd3\\xde\\xe0\\x0b\\x93\\xc91\\xc0q\\xac\\x8b\\xdbh *\\xc0Nb\\x10X9\\xe45@@\\xa4\\xdf\\xbe\\x0e\\\\#@\\x06\\x12\\x14?\\xc6\\x1c\\x11@\\x97\\xff\\x90~\\xfb\\xba\\x01\\xc0-!\\x1f\\xf4lV\\x01@\\xa8\\xc6K7\\x89\\xc1 \\xc0\\t\\xf9\\xa0g\\xb3\\xca&\\xc0\\x92\\\\\\xfeC\\xfa\\x8d,\\xc0]\\xfeC\\xfa\\xedk\\x00@\\x84\\rO\\xaf\\x94\\xe5,@KY\\x868\\xd6\\xc5#@\\xeeZB>\\xe8y&@\\xed\\r\\xbe0\\x99\\xaa\\x14\\xc0\\xaa\\x82QI\\x9d\\x80\\n@\\x02+\\x87\\x16\\xd9\\xee#\\xc0\\x8fSt$\\x97\\xbf%\\xc0^K\\xc8\\x07=\\x9b\\x02\\xc0\\x8e\\x06\\xf0\\x16H\\xd0\\x19@\\xad\\xfa\\\\m\\xc5\\xfe\\xee\\xbf'  b'\\x12\\x14?\\xc6\\xdc]A\\xc0\\x00\\x00\\x00\\x00\\x00\\xe8B\\xc0\\x9d\\x80&\\xc2\\x86#S\\xc0\\x12\\xa5\\xbd\\xc1\\x17\\xeeO\\xc0)\\xed\\r\\xbe0\\xa1O\\xc0xz\\xa5,CdM\\xc0\\x9c\\xc4 \\xb0r\\x08F\\xc0\\xe1\\x0b\\x93\\xa9\\x82\\x99A\\xc0\\xadi\\xdeq\\x8a^=\\xc0\\xc7):\\x92\\xcb/7\\xc0\\x02\\x9a\\x08\\x1b\\x9e~1\\xc0\\x16\\xfb\\xcb\\xee\\xc9\\xc3-\\xc00\\xbb\\'\\x0f\\x0b\\xb5/\\xc04\\x116<\\xbd\\x122\\xc0\\xd9\\xce\\xf7S\\xe3\\x950\\xc0\\xb5\\x15\\xfb\\xcb\\xee\\xc9+\\xc0\\xf4lV}\\xae6,\\xc0Dio\\xf0\\x85\\xd92\\xc0\\xf0\\x16HP\\xfc\\x183\\xc09EGr\\xf9\\xff1\\xc0~\\x8c\\xb9k\\t\\xd9;\\xc0T\\xe3\\xa5\\x9b\\xc4\\xc03\\xc0\\xa7\\xe8H.\\xff\\x81)\\xc0\\x1b\\x9e^)\\xcbP#\\xc0\\x1b\\r\\xe0-\\x90\\xc0 \\xc0\\xb6\\x84|\\xd0\\xb3y#\\xc0\\xdch\\x00o\\x81$)\\xc0vq\\x1b\\r\\xe0m&\\xc0d]\\xdcF\\x03\\xd8 \\xc0\\xff!\\xfd\\xf6u \\x19\\xc0B>\\xe8\\xd9\\xacz\\x0e\\xc0\\x0b$(~\\x8c\\xb9\\x01\\xc0\\xcf\\xf7S\\xe3\\xa5\\x9b\\xff\\xbf\\x84\\rO\\xaf\\x94e\\xfd\\xbfZ\\xf5\\xb9\\xda\\x8a\\xfd\\xfb\\xbf\\xa5,C\\x1c\\xeb\\xe2\\x01\\xc0TR\\'\\xa0\\x89\\xb0\\x06\\xc0\\xd8\\x81sF\\x94\\xf6\\x0b\\xc0/n\\xa3\\x01\\xbc\\x05\\x12\\xc0\"\\xfd\\xf6u\\xe0\\\\\\x1a\\xc0\\xfb\\xcb\\xee\\xc9\\xc3B$\\xc0\\xfe\\xd4x\\xe9&Q)\\xc0\\xc3d\\xaa`T2(\\xc0\\xdeq\\x8a\\x8e\\xe4\\xf2&\\xc0\\x1dZd;\\xdf\\x0f*\\xc0\\x9e^)\\xcb\\x10\\xf70\\xc0\\xe9H.\\xff!m3\\xc0lxz\\xa5,\\xa3+\\xc0\\xb5\\xa6y\\xc7)\\xba&\\xc0U\\xc1\\xa8\\xa4N\\x80&\\xc0\\xab\\xcf\\xd5V\\xec\\x0f(\\xc0D\\x8bl\\xe7\\xfbI+\\xc0\\xed\\r\\xbe0\\x99\\xaa-\\xc0\\xe6\\xae%\\xe4\\x83\\x9e*\\xc0\\x1f\\x85\\xebQ\\xb8^(\\xc0x\\x9c\\xa2#\\xb9\\x1c*\\xc0q\\x1b\\r\\xe0-\\x100\\xc0\\x99\\xbb\\x96\\x90\\x0fj2\\xc01\\x08\\xac\\x1cZ\\x042\\xc0\\xd2\\x00\\xde\\x02\\t\\xda3\\xc0-\\xb2\\x9d\\xef\\xa765\\xc0\\xd8\\xf0\\xf4JY\\xa64\\xc0V}\\xae\\xb6b\\x9f4\\xc0\\xd1\\x91\\\\\\xfeC\\n4\\xc0\\xd4+e\\x19\\xe2\\xf82\\xc0\\xe9\\xb7\\xaf\\x03\\xe7l2\\xc0+\\xf6\\x97\\xdd\\x93\\xc72\\xc0\\x8c\\xb9k\\t\\xf9P3\\xc0W\\xec/\\xbb\\'o0\\xc0Tt$\\x97\\xff\\x90*\\xc0\\xc1\\xa8\\xa4N@\\xf3\\'\\xc0V\\x0e-\\xb2\\x9d\\xcf(\\xc0B>\\xe8\\xd9\\xac\\xda+\\xc0\\xb8\\x1e\\x85\\xebQX/\\xc0\\'\\xa0\\x89\\xb0\\xe1\\x191\\xc0\\xbd\\xe3\\x14\\x1d\\xc9e3\\xc0\\xc2\\x17&S\\x05\\x836\\xc0\\xcd;N\\xd1\\x91\\xdc8\\xc0\\xb0\\x03\\xe7\\x8c(\\xed=\\xc0M\\x84\\rO\\xaf\\x04>\\xc0u\\x93\\x18\\x04V.;\\xc0\\x91\\x0fz6\\xab\\xde7\\xc0\\xf4lV}\\xae\\xa64\\xc0\\xf0\\x85\\xc9T\\xc1\\xd82\\xc0[\\xd3\\xbc\\xe3\\x14\\x8d1\\xc0&\\xe4\\x83\\x9e\\xcd\\x1a0\\xc0\\xe6\\xae%\\xe4\\x83N0\\xc0|\\xf2\\xb0Pk\\xca1\\xc0\\x88\\x85Z\\xd3\\xbc32\\xc0\\x12\\x83\\xc0\\xca\\xa1\\xe52\\xc0\\x9a\\x99\\x99\\x99\\x99\\xc93\\xc0j\\xdeq\\x8a\\x8e\\x144\\xc0\"\\xfd\\xf6u\\xe0\\x9c5\\xc0\\xce\\x88\\xd2\\xde\\xe0k6\\xc0c\\x7f\\xd9=y\\xc84\\xc0q=\\n\\xd7\\xa3\\x905\\xc0<N\\xd1\\x91\\\\n:\\xc0\\x8d\\x97n\\x12\\x83\\x80A\\xc0\\xfa\\xed\\xeb\\xc09\\x93L\\xc0C\\x1c\\xeb\\xe26\\x9aT\\xc0;p\\xce\\x88\\xd2\\x86O\\xc0'     01\n",
       "2  Cuviers       44.9439                                                                                                                                                         b'\\x12\\xa5\\xbd\\xc1\\x17f\\x17@\\\\ A\\xf1c\\xcc\\xed?4\\x80\\xb7@\\x82\\xe2\\xf5\\xbfG\\x03x\\x0b$(\\xf1\\xbft\\xb5\\x15\\xfb\\xcbn\\x12\\xc0\\xec/\\xbb\\'\\x0f\\x0b\\xe9?\\xc2\\x17&S\\x05\\xa3\\xe8?\\x7f\\xfb:p\\xce\\x88\\x00\\xc0\\x95\\xd4\\th\"\\xec\\x0e\\xc0\\xc2\\x86\\xa7W\\xca\\xb2\\r@\\x00o\\x81\\x04\\xc5\\x8f\\x03@)\\xed\\r\\xbe0\\xb9%\\xc0\\x1b\\r\\xe0-\\x90\\xa0\\xe8\\xbf\\xbe0\\x99*\\x18\\x15\\r@,e\\x19\\xe2X\\x17\\xdf?\\xb57\\xf8\\xc2d\\xea\\x12\\xc0\\xfeC\\xfa\\xed\\xeb\\xc0\\x0c@\\xe5a\\xa1\\xd64\\xef\\x13\\xc0/\\xdd$\\x06\\x81\\x95\\xf9\\xbf6<\\xbdR\\x96!\\x11@\\xbe\\x9f\\x1a/\\xdd\\xa4\\x0f@0*\\xa9\\x13\\xd0D\\xf1?\\xd9_vO\\x1e\\x96\\x18\\xc0\\xc0\\xec\\x9e<,\\xd4\\x10@\\xb8@\\x82\\xe2\\xc7\\xd8\\x13@=,\\xd4\\x9a\\xe6]\\x17@\\x83QI\\x9d\\x80&\\x18\\xc0\\x9f<,\\xd4\\x9af\\x08\\xc0\\x17\\xd9\\xce\\xf7S\\xe3\\x13\\xc0^K\\xc8\\x07=\\x9b\\xef\\xbf\\x96!\\x8euq\\x1b\\xf7?\\x95e\\x88c]\\x1c\\x1d\\xc0\\xa3#\\xb9\\xfc\\x87t\\x0c\\xc0F%u\\x02\\x9a\\x08\\xcb\\xbf`\\xe5\\xd0\"\\xdb9\\x10@\\xe1\\x0b\\x93\\xa9\\x82\\xd1\\x0e@k+\\xf6\\x97\\xdd\\x93\\xfc\\xbfX\\xa85\\xcd;N\\x1c\\xc0\\xc5\\xfe\\xb2{\\xf2p\\x15\\xc0=\\n\\xd7\\xa3p\\xbd\\x0b@L7\\x89A`e\\x1f@p\\xce\\x88\\xd2\\xde\\xe0\\x01\\xc0u\\x93\\x18\\x04V\\x0e\\x02\\xc0B\\xcff\\xd5\\xe7j\\x1a@[B>\\xe8\\xd9,\\n@\\x0b$(~\\x8c\\x99 \\xc0\\t\\xf9\\xa0g\\xb3\\xaa\\x15\\xc0\\xaa`TR\\' \\x1c@h\\xb3\\xeas\\xb5\\x95\\x1a@\\xc19#J{\\x03\\x0b@\\x03\\t\\x8a\\x1fcN\\'\\xc0\\xca2\\xc4\\xb1.n\\xf8?\\x90\\xa0\\xf81\\xe6\\x8e!\\xc0\\x03\\t\\x8a\\x1fc\\xee\\x1f\\xc0\\xf8S\\xe3\\xa5\\x9b\\xa4\\'@a2U0*)\\x12\\xc0f\\x88c]\\xdcF\\x02@\\xe4\\x14\\x1d\\xc9\\xe5?\\xe2?)\\\\\\x8f\\xc2\\xf5\\xa8\\x01\\xc00*\\xa9\\x13\\xd0D\\xc0?a\\xc3\\xd3+e\\x99\\r\\xc0\\xad\\xfa\\\\m\\xc5\\xbe\\x18\\xc0q\\xac\\x8b\\xdbh\\xa0 @\\x9d\\x11\\xa5\\xbd\\xc1\\x17\\xe6?\\xf2A\\xcff\\xd5\\xa7\\x13@\\xe0\\xbe\\x0e\\x9c3\\x823\\xc0\\xe8j+\\xf6\\x97\\xdd\\xf7?!\\xb0rh\\x91\\xdd>@\\xca\\xc3B\\xadi.1@\\x83/L\\xa6\\n\\xc6,\\xc02U0*\\xa93H\\xc0\\x0f\\x9c3\\xa2\\xb4\\xb7\"@\\x0eO\\xaf\\x94e\\x90@@\\xd8\\x81sF\\x94\\x065@\\xf7u\\xe0\\x9c\\x11\\xb54\\xc0l\\t\\xf9\\xa0g\\xfbI\\xc0\\xf0\\x16HP\\xfc89\\xc0\\xb8\\x1e\\x85\\xebQ\\x88F@\\xa2E\\xb6\\xf3\\xfd\\x9cJ@\"lxz\\xa5l @\\xf2A\\xcff\\xd5\\x93Q\\xc0(\\x0f\\x0b\\xb5\\xa6\\xe9W\\xc0\\x901w-!\\xcf5@\\x8a\\x8e\\xe4\\xf2\\x1f\\x1eR@P\\xfc\\x18s\\xd7vX@\\x89\\xd2\\xde\\xe0\\x0b\\xfbA@\\xb6\\x84|\\xd0\\xb3\\x19V\\xc0h\\x91\\xed|?\\xd58\\xc0.\\xff!\\xfd\\xf6\\xb5G@EGr\\xf9\\x0fi#\\xc0\\xff!\\xfd\\xf6uHU\\xc0P\\xfc\\x18s\\xd7\\xf29\\xc0\\x9bU\\x9f\\xab\\xad\\xb0@@k+\\xf6\\x97\\xdd\\xc3S@)\\xed\\r\\xbe0\\xd9 @\\x02+\\x87\\x16\\xd9\\x0e]\\xc0\\x0f\\x0b\\xb5\\xa6y\\xe76@\\xbc\\x96\\x90\\x0fz~D@\\xb7\\xd1\\x00\\xde\\x02\\x194\\xc0\\xe1\\x0b\\x93\\xa9\\x82q-\\xc0\\xce\\xaa\\xcf\\xd5V$@@\\xa8W\\xca2\\xc49N@\\x1a\\xc0[ AQ*\\xc0\\xf0\\x16HP\\xfc8;\\xc0o\\x81\\x04\\xc5\\x8f1 \\xc0\\x94\\x87\\x85Z\\xd3\\\\1\\xc0\\xa4\\xdf\\xbe\\x0e\\x9c\\xf3A\\xc0\\xbc\\x96\\x90\\x0fz\\xb68\\xc0^\\xbaI\\x0c\\x02K.@\"\\x8euq\\x1beG@\\x0e-\\xb2\\x9d\\xef\\x17=@\\xd9=yX\\xa85\\t@\\xfb\\\\m\\xc5\\xfe\\xf2\\x13\\xc0\\xe9\\xb7\\xaf\\x03\\xe7\\xcc\\x11\\xc0w-!\\x1f\\xf4l\\xe0?\\x9f<,\\xd4\\x9af)\\xc0\\xd7\\xa3p=\\ng:\\xc0\\xe0\\x9c\\x11\\xa5\\xbd!)\\xc0~\\x8c\\xb9k\\tY#@\\x06\\x81\\x95C\\x8b\\x0c;@2w-!\\x1f\\xf4\\x05@\\x19\\xe2X\\x17\\xb7\\xd1,\\xc0\\x93\\xa9\\x82QI\\x9d\\xec\\xbf\\xce\\xaa\\xcf\\xd5V\\x8c.\\xc0\\x9e^)\\xcb\\x10G\\n\\xc0=,\\xd4\\x9a\\xe6}*@\\x13a\\xc3\\xd3+E-\\xc0g\\xd5\\xe7j+\\xf6(\\xc0\\xe6?\\xa4\\xdf\\xbeN*@S\\x05\\xa3\\x92:q1@:#J{\\x83\\xaf/@\\xfc\\xa9\\xf1\\xd2Mb\\xe8\\xbf\\xfa\\xed\\xeb\\xc09\\xe3+\\xc0\\x9d\\x11\\xa5\\xbd\\xc1\\x97\\x16@,e\\x19\\xe2XW\\x1b@;\\xdfO\\x8d\\x97\\xee\\n\\xc0e\\xaa`TR\\'\\x1a\\xc0N\\xd1\\x91\\\\\\xfe\\x03\\x10@z\\xc7):\\x92\\x0b\\x1b@\\xf1\\xf4JY\\x86H4\\xc0]\\xfeC\\xfa\\xedk.\\xc0@\\xa4\\xdf\\xbe\\x0e\\x1c\\x0c\\xc0\\xd3Mb\\x10X\\x19+@\\xf7\\xe4a\\xa1\\xd6T#@\\x91~\\xfb:p\\xce\\x18\\xc0\\x10X9\\xb4\\xc86$\\xc0{\\x83/L\\xa6j%\\xc0a\\xc3\\xd3+e\\x19\\xe0?\\x19s\\xd7\\x12\\xf2A\\xf1\\xbf;\\x01M\\x84\\r\\x0f.@\\xc5\\x8f1w-A4@\\x06\\x12\\x14?\\xc6\\xdc,\\xc0\\xd7\\xa3p=\\nw#\\xc0\\x07\\xce\\x19Q\\xda\\x9b6@\\xc8\\x07=\\x9bU\\x9f\"@X\\xa85\\xcd;\\x8e\\x1f\\xc0\\'\\xa0\\x89\\xb0\\xe1\\x89+\\xc0\\\\ A\\xf1cl&\\xc0\\xe7\\x8c(\\xed\\r>\\x0b\\xc0\\xe5a\\xa1\\xd64o\\x01\\xc0*\\xa9\\x13\\xd0DX\\x08@\\x8a\\x1fc\\xeeZ\\xe23@\\xeb\\xe26\\x1a\\xc0\\x1b\\x13@\\xa5\\xbd\\xc1\\x17&s-\\xc0\\'\\xc2\\x86\\xa7W\\xaa#\\xc0\\x93\\x18\\x04V\\x0e\\xcd1\\xc0\\xda\\xac\\xfa\\\\mE\\x14@\\xc8\\x98\\xbb\\x96\\x90O\"@f\\x88c]\\xdcF\\xf1?mV}\\xae\\xb6\"\\x15\\xc0\\x87\\xa7W\\xca2\\xc4\\xd9?\\xd1\\x91\\\\\\xfeC:/@\\x10X9\\xb4\\xc86 @\\x00o\\x81\\x04\\xc5\\x8f\\x18@\\x00\\x00\\x00\\x00\\x00\\xc0\\x15\\xc0\\xe0\\xbe\\x0e\\x9c3b+\\xc0\\x868\\xd6\\xc5m\\xb4\\x17\\xc0\\xb3{\\xf2\\xb0P\\xab\\x17@\\xd8\\xf0\\xf4JY\\xa6 @0L\\xa6\\nF\\xa5\\x12\\xc0\\x1c|a2U0\\xe0?yX\\xa85\\xcd\\xbb(\\xc0+\\x87\\x16\\xd9\\xceg3\\xc0J{\\x83/L&\\x19\\xc0\\x93\\xa9\\x82QI\\x9d\"@2\\xe6\\xae%\\xe4\\xd34@\\xbe\\x9f\\x1a/\\xdd\\xa4\\x06\\xc0\\xff\\xb2{\\xf2\\xb0\\xd0\\x12\\xc0\\x07\\xce\\x19Q\\xda\\xbb+\\xc0\\x0e\\xbe0\\x99*\\xd8,@\\xe9&1\\x08\\xac\\x1c;@(~\\x8c\\xb9k\\t\\x1d@1\\x99*\\x18\\x95\\x14%\\xc0\\t\\x8a\\x1fc\\xee\\x9a.\\xc0\\xa3#\\xb9\\xfc\\x87\\x040\\xc0\\xf0\\x16HP\\xfc8&\\xc0\\xe9H.\\xff!\\x8d1@\\x93:\\x01M\\x84\\r\\xd7?+\\x87\\x16\\xd9\\xce\\x17#@\\xbf}\\x1d8g\\x04#\\xc0\\x08\\xac\\x1cZd[.\\xc0\\xd2\\x00\\xde\\x02\\t\\n @'                                                                                                                       b'\\xf2\\xb0Pk\\x9a\\xcfC\\xc0\\xb1\\xe1\\xe9\\x95\\xb2tE\\xc0\\x07\\xf0\\x16HP\\x80Q\\xc0\\xaeG\\xe1z\\x14\\x16T\\xc0gDio\\xf0\\xa1T\\xc0\\xfc\\xa9\\xf1\\xd2M\\xa6Q\\xc0|a2U0\\xfaI\\xc0{\\x83/L\\xa6\\x82D\\xc0A\\x82\\xe2\\xc7\\x98c@\\xc0$\\xb9\\xfc\\x87\\xf4\\xab;\\xc0\\xc3\\xf5(\\\\\\x8f\\xeaA\\xc0;p\\xce\\x88\\xd2~<\\xc0\\xb9\\xfc\\x87\\xf4\\xdb\\xd77\\xc0!\\xb0rh\\x91M6\\xc0\\x0b\\xb5\\xa6y\\xc7\\t6\\xc0\\x8d\\x97n\\x12\\x83\\x805\\xc0\\xaf\\x94e\\x88cM5\\xc0\\x10z6\\xab>\\xf76\\xc03\\xc4\\xb1.n\\x038\\xc0+\\xf6\\x97\\xdd\\x93\\x17;\\xc0\\xfe\\xd4x\\xe9&\\x018\\xc0O@\\x13a\\xc3C2\\xc0\\xa6\\nF%u\\xe2/\\xc0Zd;\\xdfOm+\\xc0\\x98\\xdd\\x93\\x87\\x85\\xda+\\xc0\\x08=\\x9bU\\x9fk0\\xc0\\xf6\\x97\\xdd\\x93\\x87\\x851\\xc0w-!\\x1f\\xf4\\xec1\\xc0L7\\x89A`\\xf52\\xc0tF\\x94\\xf6\\x06\\xaf5\\xc0\\xaa`TR\\'\\xc05\\xc0\\xdcF\\x03x\\x0bt2\\xc0F%u\\x02\\x9a(3\\xc0Qk\\x9aw\\x9cB3\\xc0\\x1b\\r\\xe0-\\x90\\xe0-\\xc0\\xd1\"\\xdb\\xf9~\\xca1\\xc0 c\\xeeZB\\xae0\\xc0\\xe36\\x1a\\xc0[\\xa0+\\xc0\\xc3\\xd3+e\\x19b\\'\\xc0\\x86Z\\xd3\\xbc\\xe34%\\xc0X9\\xb4\\xc8v^&\\xc0\\x1dZd;\\xdfo,\\xc0\\xfe\\xd4x\\xe9&Q.\\xc0\\x8a\\xb0\\xe1\\xe9\\x95\\x92+\\xc0\\xef8EGr\\x19,\\xc0\\x1f\\xf4lV}\\xce+\\xc0\\xc5 \\xb0rh\\x11,\\xc0\\xc3d\\xaa`T\\xf2+\\xc0\\xc4B\\xadi\\xde\\xf1(\\xc0\\xe0\\xbe\\x0e\\x9c3\\x82(\\xc0\\nh\"lx\\xba.\\xc0Dio\\xf0\\x85\\t4\\xc0\\xe2X\\x17\\xb7\\xd1 3\\xc0\\xdch\\x00o\\x81D2\\xc0\\x88\\xf4\\xdb\\xd7\\x81S4\\xc0\\xa3\\x01\\xbc\\x05\\x12\\x146\\xc0\\x9d\\x80&\\xc2\\x8676\\xc0\\x9b\\xe6\\x1d\\xa7\\xe8\\xc89\\xc0\\x0e\\xbe0\\x99*\\xe0A\\xc0\\x06\\x81\\x95C\\x8b<?\\xc0\\x91\\xed|?5\\x9e:\\xc0[\\xd3\\xbc\\xe3\\x14M;\\xc0\\xb5\\x15\\xfb\\xcb\\xee9<\\xc0O\\xaf\\x94e\\x8838\\xc04\\xa2\\xb47\\xf8\"5\\xc0F%u\\x02\\x9a\\x984\\xc0\\xcf\\xf7S\\xe3\\xa5{7\\xc0o\\xf0\\x85\\xc9Ta9\\xc0\\x1f\\xf4lV}\\xbe7\\xc0\\xde\\x93\\x87\\x85Zs6\\xc0\\x9b\\xe6\\x1d\\xa7\\xe884\\xc0\\xef\\xc9\\xc3B\\xad\\x993\\xc0\\x94\\xf6\\x06_\\x98\\x0c7\\xc0\\xe6\\xae%\\xe4\\x83\\x0e9\\xc0H\\xe1z\\x14\\xae77\\xc0p\\xce\\x88\\xd2\\xde\\xd06\\xc09EGr\\xf9\\xcf6\\xc0\\xd74\\xef8Eg:\\xc0\\nh\"lx\\x12@\\xc0f\\xf7\\xe4a\\xa1\\xb6;\\xc0\\xd8\\x81sF\\x94\\xd6:\\xc0\\xf6(\\\\\\x8f\\xc2\\x959\\xc0\\x868\\xd6\\xc5m\\xf49\\xc0\\xa1\\xf81\\xe6\\xaeE;\\xc0\\xdeq\\x8a\\x8e\\xe4\\xa2;\\xc0\\xadi\\xdeq\\x8a\\x1e9\\xc0\\xe9&1\\x08\\xac\\x8c7\\xc0Gr\\xf9\\x0f\\xe9\\x978\\xc0`vO\\x1e\\x16z9\\xc0\\xbf\\x0e\\x9c3\\xa2D;\\xc0\\xf0\\x85\\xc9T\\xc1\\xe8;\\xc0<N\\xd1\\x91\\\\n@\\xc0\\xdeq\\x8a\\x8e\\xe4\\xc2F\\xc0*\\xa9\\x13\\xd0D\\xc8B\\xc0\\x03x\\x0b$(\\xb6A\\xc0\\xb5\\x15\\xfb\\xcb\\xeeyA\\xc0\\x95e\\x88c]\\x1cD\\xc0\\xa9\\x13\\xd0D\\xd8\\xb8H\\xc0\\x0f\\x9c3\\xa2\\xb4\\x07Q\\xc0\\x1c\\xeb\\xe26\\x1a\\xecR\\xc0\\xc9\\xe5?\\xa4\\xdfjR\\xc0'     01\n",
       "3  Cuviers       72.7624                                                                                                                                                                                                    b'\\xebs\\xb5\\x15\\xfb\\x0b\\x17\\xc0H\\xe1z\\x14\\xaeg\"@\\xff\\xb2{\\xf2\\xb0P\\xd7\\xbfc\\x7f\\xd9=yX\\x18@\\x99\\xbb\\x96\\x90\\x0f\\xfa\\n\\xc0\\xbe\\xc1\\x17&S\\x85\\x1d@\\x9c3\\xa2\\xb47\\xf8\\x15\\xc0\\x9f\\xab\\xad\\xd8_\\xf6\\x0b@\\xc1\\xca\\xa1E\\xb6s\\x06@z\\xc7):\\x92\\xcb\\x11\\xc0\\x7f\\xd9=yX(\\x10@\\x87\\x16\\xd9\\xce\\xf7S\\xdb\\xbfr\\x8a\\x8e\\xe4\\xf2\\x9f\\x1c@\\x1aQ\\xda\\x1b|!\\x11@v\\xe0\\x9c\\x11\\xa5=\\x0f@Qk\\x9aw\\x9c\\xa2\\x00@mV}\\xae\\xb6\"\\x14\\xc0/n\\xa3\\x01\\xbcE%@f\\x88c]\\xdcF\\xc3\\xbf\\xe0\\xbe\\x0e\\x9c3\\xa2\\x1d\\xc0\\xa5,C\\x1c\\xebb\\x04@\\x1c\\xeb\\xe26\\x1a\\xe0)\\xc0z\\xc7):\\x92K\\x0e\\xc0O\\xaf\\x94e\\x88c\\xe7?\\xe7\\xfb\\xa9\\xf1\\xd2M\\x03@\\xc9v\\xbe\\x9f\\x1a/\\xef\\xbf\\xf3\\x1f\\xd2o_\\x07\\x07@S\\x05\\xa3\\x92:\\x01\\xeb\\xbf\\x88c]\\xdcF\\x83\\x19@\\x86Z\\xd3\\xbc\\xe3\\x14\\x00@B>\\xe8\\xd9\\xacZ)@\\xe5\\xd0\"\\xdb\\xf9\\xbe\\x11@f\\xf7\\xe4a\\xa1\\xd6\"@h\\xb3\\xeas\\xb5U\\x14\\xc0`\\xe5\\xd0\"\\xdb\\xf9\\xec\\xbf\\x11\\xc7\\xba\\xb8\\x8d\\x86\\r\\xc0\\nh\"lx\\xda#\\xc0D\\x8bl\\xe7\\xfb)\\x10\\xc0\\xd1\\x91\\\\\\xfeC\\xba\\x13\\xc0\\x9e^)\\xcb\\x10\\x07\"\\xc0\\xc1\\xca\\xa1E\\xb6\\x13*\\xc0yX\\xa85\\xcd\\x8b3@\\x13a\\xc3\\xd3+%,@\\xd8\\x81sF\\x94\\x06?@\\xb4Y\\xf5\\xb9\\xda\\x8a\\xd5?\\xe0\\xbe\\x0e\\x9c3b\\x13@\\xc3\\xf5(\\\\\\x8f\\xc2&\\xc0)\\xcb\\x10\\xc7\\xba\\xb8\\xe5?\\xbdR\\x96!\\x8e\\xf5\\x1c\\xc0a\\xc3\\xd3+e9-\\xc0\\x84\\rO\\xaf\\x94\\xa5\\x18\\xc0\\xcc\\xee\\xc9\\xc3BM%\\xc0\\x93:\\x01M\\x84\\xad\"@+\\xf6\\x97\\xdd\\x93G\\x1b@<N\\xd1\\x91\\\\\\xbe\\x15@+\\xf6\\x97\\xdd\\x93\\x07-\\xc0\\xf9\\x0f\\xe9\\xb7\\xaf\\x83%@j\\xdeq\\x8a\\x8ed!@o\\x81\\x04\\xc5\\x8f\\xf1.@e\\xaa`TRG#@\\xc4B\\xadi\\xde\\xf1\\x0c\\xc0\\x10\\xe9\\xb7\\xaf\\x03\\'%\\xc0\\x10z6\\xab>\\x170\\xc0\\xb6\\x84|\\xd0\\xb3\\x19!@\\xca\\xc3B\\xadi\\x1e\\x1a@\\xa0\\x89\\xb0\\xe1\\xe9\\x95!\\xc0 \\xd2o_\\x07\\xce\\x99?\\x95e\\x88c]\\\\\\x01@!\\xb0rh\\x91\\xed\\x11\\xc05^\\xbaI\\x0c\\x826\\xc0\\x95e\\x88c]\\x14C\\xc0\\x99*\\x18\\x95\\xd4)/@\\xf1\\xf4JY\\x86\\xd5w@&S\\x05\\xa3\\x92\\x18\\x7f@\\x1aQ\\xda\\x1b\\xfc\\xd5\\x87\\xc0\\xaf%\\xe4\\x83\\xdeN\\x93\\xc0\\x82sF\\x94\\xf6\\xb4l@d\\xcc]KHr\\x8d@\\xa2\\xb47\\xf8\\x82Y\\x92@\\xfa~j\\xbct\\x03}\\xc0e\\xaa`TRV\\x8a\\xc0yX\\xa85\\xcd\\x83S@=\\n\\xd7\\xa3p\\x10p\\xc0\\xe5\\xf2\\x1f\\xd2\\xef\\xe6\\x85@\\xc8\\x98\\xbb\\x96\\x90\\x13R@f\\xf7\\xe4a\\xa1Y\\x8e\\xc0O\\xaf\\x94e\\x88\\xa8\\x91\\xc0\\xdd$\\x06\\x81\\x95\\x92\\x94@\\xaf\\x94e\\x88\\xe32\\x9a@e\\xaa`TR\\x99\\x88\\xc0\\x86Z\\xd3\\xbccd\\x8c\\xc0_)\\xcb\\x10\\xc7zY@\\xb3\\xeas\\xb5\\x95\\x87\\x84@!\\x1f\\xf4lV\\xc5M\\xc0\\x8bl\\xe7\\xfb\\xa9\\xc9m\\xc0\\x0e-\\xb2\\x9dop\\x86\\xc0\\x97\\xff\\x90~{\\x8b\\x82@\\xad\\xfa\\\\m\\xc5q\\x91@,e\\x19\\xe2X\\xbf\\x90\\xc0!\\xb0rh\\x11\\xdc\\x94\\xc0\\x0e-\\xb2\\x9d\\xef\\x9ar@\\xce\\xaa\\xcf\\xd5Vc\\xa0@Tt$\\x97\\x7f;\\x85@\\xd3\\xbc\\xe3\\x14=\\x91\\xa1\\xc0\\x13a\\xc3\\xd3+`z\\xc0\\x99*\\x18\\x95\\xd4\\x1e\\x91@\\x82\\xe2\\xc7\\x98\\xbbVi\\xc0 \\xd2o_\\x07\\x18~\\xc0G\\x03x\\x0b$q\\x7f@\\xc5\\xfe\\xb2{\\xf2Ts@F\\xb6\\xf3\\xfd\\xd43t\\xc0j\\xbct\\x93\\x18\\\\F\\xc0\\xce\\xaa\\xcf\\xd5V\\xfew@\\xca\\xc3B\\xadiXh@w\\xbe\\x9f\\x1a\\xef\\x0c\\x90\\xc0\\xfa~j\\xbct\\xdfX@\\xbe\\x9f\\x1a/]L\\x8e@1\\x99*\\x18\\x955s\\xc0\\x8d(\\xed\\r>\\xe3\\x86\\xc0\\x94\\x87\\x85Z\\xd31q@]\\xfeC\\xfam\\x9a\\x87@\\xed\\r\\xbe0\\x99\\xaeX@4\\xa2\\xb47\\xf8;\\x8e\\xc0 A\\xf1c\\xcc3`\\xc0\\x07\\xce\\x19QZM\\x88@\\x97\\x90\\x0fz6s_\\xc0P\\xfc\\x18s\\xd7\\x9d\\x85\\xc0\\x1f\\x85\\xebQ\\xb8xl@6\\xcd;N\\xd1%x@ \\xd2o_\\x07\\x1eO@\\xaeG\\xe1z\\x14\\xc6F\\xc0R\\xb8\\x1e\\x85\\xeb\\xc1Q\\xc0\\xbe0\\x99*\\x18\\x1bh@2w-!\\x1fFu\\xc0S\\x05\\xa3\\x92:#d\\xc0\\xde\\x02\\t\\x8a\\x1f\\x0fW@\\xfd\\x87\\xf4\\xdb\\xd7\\x85n@n4\\x80\\xb7@\\\\`\\xc0\\xa7\\xe8H.\\xff\\x1dc@!\\xb0rh\\x91\\x1db@\\xd5x\\xe9&1\\x90Q@M\\x84\\rO\\xafp_\\xc0!\\x1f\\xf4lVAm\\xc0x\\x0b$(~\\xb4@@\\xd74\\xef8E\\xc7 @\\xd9=yX\\xa8\\x0fn\\xc0\\xe9&1\\x08\\xac\\x1cG\\xc0\\xb6\\xf3\\xfd\\xd4x\\x85r@\\xaa\\x82QI\\x9dz`@\\xed\\r\\xbe0\\x99jE\\xc0\\xce\\xaa\\xcf\\xd5V\\x16k\\xc0&\\xe4\\x83\\x9e\\xcdMt@\\xe1z\\x14\\xaeGq0@\\x10z6\\xab>\\x05u\\xc0\\xd0D\\xd8\\xf0\\xf4\\xeaL\\xc0\\xc6m4\\x80\\xb7;p@_\\x07\\xce\\x19Q\\xeaR\\xc0TR\\'\\xa0\\x89\\xe8I\\xc02U0*\\xa9\\xe3J\\xc0\\xa1\\xd64\\xef8\\x15S\\xc02U0*\\xa9\\xfff@\\xfb\\xcb\\xee\\xc9\\xc3.Z@Tt$\\x97\\xff\\x0cT@/\\xdd$\\x06\\x81\\xc5q@U\\xc1\\xa8\\xa4N\\x98l\\xc0\\x10z6\\xab>\\x02v\\xc0m\\xe7\\xfb\\xa9\\xf1\\x84`@\\xe5a\\xa1\\xd64\\x7fW@\\x02\\x9a\\x08\\x1b\\x9e\\xf6M@\\x19s\\xd7\\x12\\xf2\\xe1\\'\\xc0X\\xa85\\xcd;\\xc6Z\\xc0C\\x1c\\xeb\\xe26\\x96S\\xc0\\xc4\\xb1.n\\xa3Mk\\xc0\\xbb\\'\\x0f\\x0b\\xb5Qs\\xc0\\xd8\\x81sF\\x94&r@\\xaf%\\xe4\\x83\\x9e\\x19]@)\\xcb\\x10\\xc7\\xbadQ\\xc0\\x01\\xde\\x02\\t\\x8a\\xb3]@\\x8f\\xc2\\xf5(\\\\\\xf7r@\\x90\\xa0\\xf81\\xe6fh@\\x99*\\x18\\x95\\xd4%a\\xc0+\\x87\\x16\\xd9\\xce\\x9dl\\xc0\\x7fj\\xbct\\x93\\xd0h@\\xe36\\x1a\\xc0[ \\x1e@yX\\xa85\\xcd;D\\xc0\\xa2E\\xb6\\xf3\\xfd\\x94\\x16\\xc0\\xf3\\x8eSt$\\xc1d\\xc0\\xa2\\xb47\\xf8\\xc2\\x949\\xc0 \\xd2o_\\x07\\x1aV\\xc0\\x91\\xed|?5RT@k+\\xf6\\x97\\xdd\\xd3=@\\xd1\\x91\\\\\\xfeC\\x8aZ\\xc05^\\xbaI\\x0c\\xcea\\xc0Dio\\xf0\\x85\\xe9k@I\\x9d\\x80&\\xc2(g@\\x14\\xaeG\\xe1z\\xeee\\xc0O\\x1e\\x16jMKZ\\xc0(\\x0f\\x0b\\xb5\\xa6MS@-C\\x1c\\xeb\\xe26\\xf9\\xbf\\xbak\\t\\xf9\\xa0\\x97E@\\x1f\\x85\\xebQ\\xb8\\xaeL\\xc0\\x14\\xd0D\\xd8\\xf0\\xc6`@'                                                                                                                                            b'b\\x10X9\\xb4\\xf8@\\xc0\\xff!\\xfd\\xf6upB\\xc0\\x88c]\\xdcF3M\\xc0p_\\x07\\xce\\x19\\x89K\\xc0\\xee\\xeb\\xc09#\\nJ\\xc0\\xbf}\\x1d8g\\x9cG\\xc0w-!\\x1f\\xf4DA\\xc0\\x07\\xce\\x19Q\\xda\\x83C\\xc0I.\\xff!\\xfd\\xa61\\xc0\\xf8S\\xe3\\xa5\\x9b\\xc4+\\xc0\\xe5\\xf2\\x1f\\xd2o_2\\xc0\\xa8\\xc6K7\\x89A0\\xc0\\xaa`TR\\'\\x802\\xc0F\\xb6\\xf3\\xfd\\xd4\\xf8*\\xc0\\xdc\\xd7\\x81sF4&\\xc0\\x92\\\\\\xfeC\\xfa\\xad-\\xc0\\xf2\\xb0Pk\\x9a\\xf7\\x11\\xc0\\xa7\\xe8H.\\xff!\\x08\\xc0\\x12\\x14?\\xc6\\xdc5\\r\\xc0R\\xb8\\x1e\\x85\\xebQ\\xf6?\\xc8\\x07=\\x9bU\\x1f\\x11@xz\\xa5,C\\x1c\\xfa?\\xe3\\xa5\\x9b\\xc4 \\x10+\\xc0\\xf0\\x16HP\\xfc\\x98\\x0f\\xc0\\x0bF%u\\x02\\x9a\\xf1?\\x83\\xc0\\xca\\xa1E\\xb6\\xef?8\\xf8\\xc2d\\xaa\\xe0\\x0b@\\x82sF\\x94\\xf6\\x86\\x11@k\\x9aw\\x9c\\xa2#\\xf7?\\xdc\\xd7\\x81sF\\x94\\xf1\\xbfi\\x00o\\x81\\x04\\xc5\\xf2\\xbf333333\\x04@\\xa4\\xdf\\xbe\\x0e\\x9c3\\x18@z\\xa5,C\\x1cK\"@\\xa4\\xdf\\xbe\\x0e\\x9c\\x13#@\\xfa~j\\xbct\\xb3!@q=\\n\\xd7\\xa3\\xb0\\x19@\\xc0[ A\\xf1\\xe3\\x03@\\xc3\\xf5(\\\\\\x8f\\xc2\\r@\\xf0\\x16HP\\xfcX\\x19@aTR\\'\\xa0I&@\\xc9v\\xbe\\x9f\\x1a\\x8f,@\\xc7):\\x92\\xcb\\x0f0@:#J{\\x83\\x8f0@W[\\xb1\\xbf\\xec\\xbe.@gDio\\xf0\\xa5(@\\xed\\r\\xbe0\\x99\\n\"@E\\xd8\\xf0\\xf4JY\\x1e@\\x91\\x0fz6\\xab\\xfe!@\\xc0[ A\\xf1C\\'@,\\xd4\\x9a\\xe6\\x1d\\x87,@\\xec\\xc09#J\\xbb.@\\x13a\\xc3\\xd3+\\xe5*@\\xd2o_\\x07\\xceY#@\\xf6\\x97\\xdd\\x93\\x87\\xe5\"@\\x82sF\\x94\\xf6\\xa6&@\\xa7\\xe8H.\\xff\\x81\\'@Dio\\xf0\\x85i%@F\\xb6\\xf3\\xfd\\xd4x!@\\x12\\x83\\xc0\\xca\\xa1\\xc5\\x1d@\\xe2\\xe9\\x95\\xb2\\x0c1\\x19@\"\\x8euq\\x1b\\x8d\\x07@\\x8d(\\xed\\r\\xbe0\\xfd\\xbf\\xd8\\xf0\\xf4JY\\xc6\\x10\\xc0=\\x9bU\\x9f\\xab\\xed\\x1a\\xc0%\\x06\\x81\\x95C\\x0b\\n\\xc0\\x8a\\x1fc\\xeeZB\\xbe\\xbf\\xaa`TR\\' \\x02\\xc0\\xbak\\t\\xf9\\xa0g\\xc3?\\xcaT\\xc1\\xa8\\xa4\\xce\\x02@k\\x9aw\\x9c\\xa2#\\x04@\\x87\\x16\\xd9\\xce\\xf7S\\x0e@!\\x1f\\xf4lV}\\x0e@X\\xa85\\xcd;\\xce\\x0b@-C\\x1c\\xeb\\xe26\\x06@?5^\\xbaI\\x0c\\x05@\\x8d\\x97n\\x12\\x83\\xc0\\xe6?\\xfb:p\\xce\\x88R\\x02\\xc0\\x8c\\xdbh\\x00o\\x81\\x16\\xc0\\xe8\\xd9\\xac\\xfa\\\\\\xad\\x1f\\xc0\\xee\\xeb\\xc09#\\x8a)\\xc0\\xfb\\xcb\\xee\\xc9\\xc3B,\\xc0C\\xadi\\xdeq\\x8a\\x14\\xc0\\x0bF%u\\x02\\x1a\\x04\\xc09\\xd6\\xc5m4\\x80\\xd3?V}\\xae\\xb6b\\xff\\x06@\\x7f\\xd9=yX\\xa8\\x07@\\xb8\\xaf\\x03\\xe7\\x8c(\\xf5?\\x0f\\x9c3\\xa2\\xb47\\xfc\\xbf\\x1f\\x85\\xebQ\\xb8\\xde\\x15\\xc0\\x0b$(~\\x8c\\xf9\\x12\\xc0s\\xd7\\x12\\xf2AO\\x18\\xc0\\xe1\\x0b\\x93\\xa9\\x82\\x11.\\xc0\\x9c\\xc4 \\xb0rh\\x1e\\xc0\\xc5\\xfe\\xb2{\\xf2\\xb0\\x08\\xc09EGr\\xf9\\xcf\\x10\\xc0 A\\xf1c\\xcc\\xbd&\\xc0x\\x9c\\xa2#\\xb9\\xfc8\\xc0\\xb1Pk\\x9aw\\x1cI\\xc0\\xd4\\x9a\\xe6\\x1d\\xa70N\\xc0^K\\xc8\\x07=sK\\xc0'     01\n",
       "4  Cuviers       57.1313  b'?5^\\xbaIL\\x1a\\xc0\\t\\x8a\\x1fc\\xee\\x9a\\x18\\xc09EGr\\xf9\\x8f\\t\\xc0\\x9aw\\x9c\\xa2#\\xb9\\x0e\\xc0+\\xf6\\x97\\xdd\\x93\\x87\\x04@\\x01M\\x84\\rO\\xaf\\xe0\\xbf\\x8a\\x8e\\xe4\\xf2\\x1f\\x92\\x12\\xc07\\x1a\\xc0[ A\\x11\\xc0t$\\x97\\xff\\x90>\\x17@)\\xcb\\x10\\xc7\\xba\\xb8\\xf5?\\x87\\x16\\xd9\\xce\\xf7\\xd3\\x0e@\\xf2\\xd2Mb\\x10X\\x08\\xc0\\x13a\\xc3\\xd3+e\\x04@\\x97\\x90\\x0fz6\\x0b$@\\xaa\\xf1\\xd2Mb\\x90\\x0f@\\xaa\\xf1\\xd2Mb\\x10\\xfa\\xbf\\xb9\\xfc\\x87\\xf4\\xdb7\"\\xc0\\x9f\\xcd\\xaa\\xcf\\xd5\\xd6\\x08\\xc0lxz\\xa5,\\x03#\\xc0\\x1b\\r\\xe0-\\x90\\xa0\\xe0?\\x8a\\x1fc\\xeeZB\\x0b\\xc0%u\\x02\\x9a\\x08\\x9b\\x15@\\x86\\xc9T\\xc1\\xa8\\xa4\\xfc?\\n\\xd7\\xa3p=\\n\\x05@\\x1f\\xf4lV}\\xce!@S\\x05\\xa3\\x92:\\xc1\\x1a\\xc0\\x14\\xaeG\\xe1z\\x14\\x0c\\xc0$(~\\x8c\\xb9k\\xb9?^\\xbaI\\x0c\\x02\\xeb\\x13@\\x7fj\\xbct\\x93\\xd8\\x19@\\xb57\\xf8\\xc2d\\xaa\\x1d@\\x0c\\x93\\xa9\\x82Q\\xc9\\x02@Y\\x17\\xb7\\xd1\\x00\\xde\\x11\\xc0\\x92\\\\\\xfeC\\xfam\\x1e\\xc0\\xc8\\x07=\\x9bU\\x1f$\\xc0_\\x07\\xce\\x19Q\\xda\\x9b\\xbf\\xcff\\xd5\\xe7j\\xab\\x1a@\\xd3\\xbc\\xe3\\x14\\x1d\\xc9\\x13\\xc0\\x17\\xb7\\xd1\\x00\\xde\\xc2\\x15\\xc0o\\x12\\x83\\xc0\\xcaa\\x15\\xc0\\xc6\\xdc\\xb5\\x84|\\x10\\x16\\xc0\\\\\\x8f\\xc2\\xf5(\\x9c\\x1d\\xc0\\xc8\\x07=\\x9bU\\x1f @\\xa9\\xa4N@\\x13!#@+\\x87\\x16\\xd9\\xce\\xb7\\x16@B\\xcff\\xd5\\xe7\\xca#@\\xa2\\xb47\\xf8\\xc2\\xe4%@\\xc0[ A\\xf1c\\xfe?\\xe7\\x8c(\\xed\\r~\\x18\\xc0\\xb3{\\xf2\\xb0P\\x0b\"\\xc0\\x0f\\x0b\\xb5\\xa6yG*\\xc0Y\\x868\\xd6\\xc5m\\x1e@\\xcc]K\\xc8\\x07\\x1d!@a2U0*\\xa9\\xdb\\xbf\\x10z6\\xab>7+\\xc0\\x9e\\xef\\xa7\\xc6K\\x97\"\\xc0<\\xbdR\\x96!\\x8e\\x16@\\x8a\\xb0\\xe1\\xe9\\x952\\x1a@\\xae\\xb6b\\x7f\\xd9=\\xfc\\xbf\\xbct\\x93\\x18\\x04V\\xe8\\xbfm\\xc5\\xfe\\xb2{\\xb2\\x10\\xc0~\\x1d8gDi\\xed?\\xaa\\xf1\\xd2Mb\\x10\\xfc\\xbf33333\\xb3\\x06@\\xcc]K\\xc8\\x07=\\xf8\\xbfw-!\\x1f\\xf4l\\xda\\xbf5\\xef8EGr\\n@-\\xb2\\x9d\\xef\\xa7\\xc6\\xf3\\xbf\\'\\xc2\\x86\\xa7W\\n\\x11@Qk\\x9aw\\x9c\"\\x00@~\\x1d8gD\\xc9!@y\\xe9&1\\x08\\xac\\x03\\xc0\\xe7\\xfb\\xa9\\xf1\\xd2M\\x00@\\xa1g\\xb3\\xeas5!\\xc0D\\xfa\\xed\\xeb\\xc09\\xf6\\xbf\\xf5\\xdb\\xd7\\x81s\\xc6\\x02\\xc0\\x81\\x95C\\x8bl\\xe7\\x05\\xc0d\\xcc]K\\xc8\\x07\\x0b@w-!\\x1f\\xf4l\\x0c\\xc0\\xc6m4\\x80\\xb7\\xc0\\x14\\xc0\\xc5\\xfe\\xb2{\\xf2\\xb0\\x1c\\xc0;p\\xce\\x88\\xd2\\xde\\x05\\xc0&\\xe4\\x83\\x9e\\xcd\\xaa\\xeb?\\x82sF\\x94\\xf6\\xc6)@\\xe7\\xfb\\xa9\\xf1\\xd2\\r$\\xc0\\xeeZB>\\xe8\\xc99\\xc0q=\\n\\xd7\\xa3\\xc0:@\\x83\\xc0\\xca\\xa1E*S@j\\xbct\\x93\\x18\\xd42\\xc0\\x17\\xb7\\xd1\\x00\\xdeJX\\xc0]\\xfeC\\xfa\\xedsC@\\x02\\x9a\\x08\\x1b\\x9e\\x9eH@\\x89A`\\xe5\\xd0\\xa2K\\xc0F\\xb6\\xf3\\xfd\\xd4\\x881\\xc0\\xc7\\xba\\xb8\\x8d\\x06\\xf0D@\\x00\\x91~\\xfb:p\\xf3?\\x92\\\\\\xfeC\\xfa\\xed\\xc3\\xbf\\x9bU\\x9f\\xab\\xad\\x8cP@e\\x19\\xe2X\\x17\\x7fC\\xc0\\xa4\\xdf\\xbe\\x0e\\x9cun\\xc0\\xab>W[\\xb1\\xc3T@\\x13a\\xc3\\xd3+\\xb4y@\\x0f\\x9c3\\xa2\\xb4\\xf1e\\xc04\\x80\\xb7@\\x827s\\xc0\"lxz\\xa5\\x8cX@\\x8a\\x1fc\\xeeZ\\xe8`@\\x1c|a2U0\\x14@\\xfeC\\xfa\\xed\\xeb@P\\xc01\\x99*\\x18\\x95T8\\xc0\\x10\\xe9\\xb7\\xaf\\x037;@xz\\xa5,C|L@%\\x06\\x81\\x95CK8\\xc0\\xfc\\x18s\\xd7\\x12\\x12<\\xc0(~\\x8c\\xb9k\\t\\r@\\xf3\\x8eSt$W&\\xc0 \\xd2o_\\x07\\x0e\\x17\\xc0yX\\xa85\\xcd\\x9bI@\\xe36\\x1a\\xc0[`\\x11@\\x1e\\x16jM\\xf3\\x8eD\\xc0T\\xe3\\xa5\\x9b\\xc4 \\xdc\\xbf\\xfa\\xed\\xeb\\xc09\\xf33@f\\xf7\\xe4a\\xa1\\x16&\\xc0Nb\\x10X9\\xf4\\x10\\xc0\\x80H\\xbf}\\x1d8\\xe7?\\xfee\\xf7\\xe4aa$\\xc0\\xe2X\\x17\\xb7\\xd1\\xa0-\\xc0G\\x03x\\x0b$\\xa8\\x1f@\\x8fSt$\\x97?:@\\x0e\\xbe0\\x99*X/\\xc0\\x0b\\xb5\\xa6y\\xc7)\\xba\\xbf\\xd7\\x12\\xf2A\\xcf&\\x1c@\\x0b\\xb5\\xa6y\\xc7\\xe9=@\\xef\\xc9\\xc3B\\xadi\\x03\\xc0\\xf7\\xe4a\\xa1\\xd6\\xa49\\xc0O\\xaf\\x94e\\x88c\\x00\\xc0\\x8b\\xfde\\xf7\\xe4a\\xeb\\xbf\\xb0rh\\x91\\xed\\xfc*\\xc0y\\xe9&1\\x08\\x0c#\\xc0T\\xe3\\xa5\\x9b\\xc4\\x00!\\xc0\\xdch\\x00o\\x81d/@\\xc0\\xec\\x9e<,\\x14\\x10\\xc0^K\\xc8\\x07=\\xdb\\x15\\xc0\\xc1\\xca\\xa1E\\xb6\\xb3\\x1c@\\n\\xd7\\xa3p=\\x8a\\x0c\\xc0\\xb4Y\\xf5\\xb9\\xda\\x8a#@\\xe2X\\x17\\xb7\\xd1 3@V}\\xae\\xb6b\\x7f\\x1b@\\x8f\\xe4\\xf2\\x1f\\xd2\\xaf\\x1f@\\x868\\xd6\\xc5m\\xf4\\x16\\xc0>yX\\xa85M\\x02\\xc0[B>\\xe8\\xd9,\\x02@\\xf5\\xdb\\xd7\\x81sf$\\xc0b\\x10X9\\xb4\\x08\\x15\\xc0a2U0*\\x89+\\xc0\\xf2A\\xcff\\xd5g\\x16@C\\xadi\\xdeqJ,\\xc0p\\xce\\x88\\xd2\\xde\\xe0\\x01\\xc0\\xd2\\x00\\xde\\x02\\t*4\\xc0\\xdb\\x8a\\xfde\\xf7\\xe4\\xeb?[B>\\xe8\\xd9l\\x18\\xc0?5^\\xbaI\\xdc3@\\xe2X\\x17\\xb7\\xd1\\x00.@T\\xe3\\xa5\\x9b\\xc4 \\x04\\xc0\\x8f\\xc2\\xf5(\\\\\\x8f\\xee\\xbf\\xf5\\xdb\\xd7\\x81s\\x86!@\\x98L\\x15\\x8cJ\\x1a2@\\xcd\\xcc\\xcc\\xcc\\xcc\\xcc\\xf4?k+\\xf6\\x97\\xdd\\x93\\x07@\\xcc\\xee\\xc9\\xc3B\\x8d.\\xc0]\\xfeC\\xfa\\xed\\xeb\\xf7\\xbfB\\xcff\\xd5\\xe7* \\xc0=\\x9bU\\x9f\\xab\\xad\\xdc\\xbf\\xce\\x19Q\\xda\\x1b<+\\xc0\\x116<\\xbdR\\x96\\x04@Gr\\xf9\\x0f\\xe9\\xb7\\xf3\\xbfh\\x91\\xed|?5\\n@\\xf5\\xb9\\xda\\x8a\\xfde\\xf0?\\xd0\\xd5V\\xec/;\\x13\\xc0\\x18&S\\x05\\xa3\\x12\\x16\\xc0\\x0b\\xb5\\xa6y\\xc7)\\x0e@+\\xf6\\x97\\xdd\\x93\\x07\\x19\\xc0?\\xc6\\xdc\\xb5\\x84|\\x90?\\xed\\x9e<,\\xd4Z\\x15\\xc0\\xcff\\xd5\\xe7jk\\x1d@\\x93\\xa9\\x82QI\\x9d+@yX\\xa85\\xcd;\\x13@\\x8c\\xb9k\\t\\xf9 \\x00\\xc0r\\xf9\\x0f\\xe9\\xb7\\xaf\\x14\\xc0\\x87\\xa7W\\xca2\\x04\\x1a@\\x98L\\x15\\x8cJ\\xea\\x13\\xc0M\\x15\\x8cJ\\xea\\x04 @EGr\\xf9\\x0f\\xa9\\x10@,\\xd4\\x9a\\xe6\\x1d\\'\\x17\\xc0T\\xe3\\xa5\\x9b\\xc4\\x00(\\xc0F\\x94\\xf6\\x06_\\x18\\x08\\xc0\\x07\\xf0\\x16HP\\xbc(\\xc0\\x18&S\\x05\\xa3\\x92\\x06@=\\n\\xd7\\xa3p\\xbd\\x08\\xc0\\xcaT\\xc1\\xa8\\xa4N\\xf0?\\x94\\x87\\x85Z\\xd3\\xbc\\xeb?E\\xd8\\xf0\\xf4JY\\x18@\\xb8@\\x82\\xe2\\xc7\\xf8.\\xc0'             b'V\\x0e-\\xb2\\x9d\\xffE\\xc0`\\xe5\\xd0\"\\xdbIG\\xc0\\x9d\\x80&\\xc2\\x86\\xb3P\\xc0\\xb2\\x9d\\xef\\xa7\\xc6/Q\\xc0\\xc6m4\\x80\\xb7\\xa4R\\xc0[B>\\xe8\\xd9tL\\xc0\\xd9\\xce\\xf7S\\xe3\\x1dG\\xc0\\xa9\\x13\\xd0D\\xd8\\xa8C\\xc0\\xb3{\\xf2\\xb0P\\x9b@\\xc0\\xe5\\xd0\"\\xdb\\xf9\\x86C\\xc0J{\\x83/L\\xa6:\\xc0\\xc4B\\xadi\\xde\\xb1?\\xc0d;\\xdfO\\x8d\\x07<\\xc0\\x00\\x91~\\xfb:\\xd0;\\xc0%u\\x02\\x9a\\x08+<\\xc0z\\xa5,C\\x1c\\xc3D\\xc0\\xe2\\xe9\\x95\\xb2\\x0cI@\\xc0\\xb4Y\\xf5\\xb9\\xda\\x1a?\\xc0\\xbaI\\x0c\\x02+\\x97<\\xc0D\\x8bl\\xe7\\xfb\\xf9;\\xc0\\x9f\\xab\\xad\\xd8_\\xee@\\xc0_\\x98L\\x15\\x8c\\x82C\\xc0f\\xf7\\xe4a\\xa1\\x86@\\xc0B\\xcff\\xd5\\xe7\\xca=\\xc0o\\x81\\x04\\xc5\\x8f\\x119\\xc0\\xf4lV}\\xae&5\\xc0\\'\\xa0\\x89\\xb0\\xe1i3\\xc0\\x15\\x8cJ\\xea\\x04\\x142\\xc0\\x0eO\\xaf\\x94e\\x981\\xc0\\x12\\x83\\xc0\\xca\\xa1\\xf52\\xc0\\xfb:p\\xce\\x88\\xf22\\xc0\\xd74\\xef8E\\xc71\\xc0\\xd1\\x91\\\\\\xfeCz1\\xc0\\xb9\\x8d\\x06\\xf0\\x16\\xd80\\xc0\\'\\xc2\\x86\\xa7W\\xba0\\xc0\\x9f<,\\xd4\\x9a\\x960\\xc0\\x14\\xd0D\\xd8\\xf0\\xb4+\\xc0k\\x9aw\\x9c\\xa2c&\\xc0s\\xd7\\x12\\xf2A/$\\xc0\\x7fj\\xbct\\x938!\\xc0\\xe9\\xb7\\xaf\\x03\\xe7\\x8c\\x1a\\xc0\\xb2\\x9d\\xef\\xa7\\xc6\\x8b\\x17\\xc0\\xfb\\\\m\\xc5\\xfer\\x19\\xc0]m\\xc5\\xfe\\xb2;\\x1a\\xc0\\r\\xe0-\\x90\\xa0x\\x19\\xc0\\x88c]\\xdcFC\\x19\\xc0\\xb9\\x8d\\x06\\xf0\\x16\\x88\\x1a\\xc0\\x1f\\x85\\xebQ\\xb8^\\x1e\\xc0;p\\xce\\x88\\xd2\\x1e!\\xc0\\xb8\\xaf\\x03\\xe7\\x8cH\"\\xc0\\xec\\xc09#J\\x9b\"\\xc0a2U0*\\t!\\xc0\\x9aw\\x9c\\xa2#\\xf9\\x1b\\xc0!\\xb0rh\\x91\\xed\\x16\\xc0\\x8c\\xdbh\\x00o\\x01\\x15\\xc0\\xaf%\\xe4\\x83\\x9e\\x8d\\x16\\xc0\\x13\\xf2A\\xcff\\x95\\x19\\xc0\\xc4B\\xadi\\xde\\xb1\\x1b\\xc0[\\xd3\\xbc\\xe3\\x14]\\x1d\\xc0w-!\\x1f\\xf4\\xec\\x1e\\xc0\\xcb\\x10\\xc7\\xba\\xb8\\r \\xc0\\'1\\x08\\xac\\x1c\\xba \\xc0q\\xac\\x8b\\xdbh\\x80!\\xc0\\xad\\xfa\\\\m\\xc5\\xfe\"\\xc0\\xcc]K\\xc8\\x07\\x1d%\\xc0[\\xd3\\xbc\\xe3\\x14\\x9d\\'\\xc05\\xef8EG2*\\xc0\\xd74\\xef8EG+\\xc0\\xde\\x93\\x87\\x85Z\\x13,\\xc0\\xec/\\xbb\\'\\x0f\\x8b-\\xc0RI\\x9d\\x80&\"/\\xc0\\xe6?\\xa4\\xdf\\xbeN0\\xc0\\xbaI\\x0c\\x02+G0\\xc05\\xef8EG20\\xc0\\x81&\\xc2\\x86\\xa7\\xf70\\xc0\\xb9\\xfc\\x87\\xf4\\xdb\\x172\\xc0\\x85|\\xd0\\xb3YU2\\xc0y\\xe9&1\\x08\\x9c1\\xc0\\xac\\x8b\\xdbh\\x00\\xef1\\xc0\\x98\\xdd\\x93\\x87\\x85\\x8a3\\xc0\\xe2X\\x17\\xb7\\xd1@6\\xc0\\xaa\\x82QI\\x9d@:\\xc0\\x9aw\\x9c\\xa2#\\x19:\\xc0\\xf8S\\xe3\\xa5\\x9b\\xf47\\xc0$\\x97\\xff\\x90~{7\\xc0\\x87\\x16\\xd9\\xce\\xf7C8\\xc0c\\xeeZB>x:\\xc0-!\\x1f\\xf4lF:\\xc0\\x16jM\\xf3\\x8e\\x938\\xc0c\\x7f\\xd9=yH;\\xc0w\\xbe\\x9f\\x1a/\\r:\\xc0\\xbc\\x96\\x90\\x0fz\\xe67\\xc0\\xdb\\xf9~j\\xbc\\xe4:\\xc0\\x8fSt$\\x97/?\\xc0\\xf5JY\\x868\\x06<\\xc0\\xda\\xac\\xfa\\\\mE9\\xc0\\xfd\\xf6u\\xe0\\x9c\\x11?\\xc0\\r\\xe0-\\x90\\xa0@G\\xc0\\xad\\xfa\\\\m\\xc5nL\\xc0\\xae\\xb6b\\x7f\\xd9\\x95Q\\xc0\\xe7\\x1d\\xa7\\xe8H:W\\xc0'     01"
      ]
     },
     "execution_count": 3,
     "metadata": {},
     "output_type": "execute_result"
    }
   ],
   "source": [
    "file_data = np.load(\"whale_data_15mb.np\", allow_pickle=True)\n",
    "data_psdf = ps.DataFrame(file_data, \n",
    "            columns=[\"time\", \"label\", \"site\", \"rec_no\", \"bout_i\", \"peak_to_peak\", \"MSN\", \"MSP\", \"TPWS1\", \"MD1\", \"FD1\", \"TPWS2\", \"MD2\", \"FD2\", \"TPWS3\", \"MD3\", \"FD3\"])\n",
    "# filter parameters\n",
    "data_psdf = data_psdf[[\"label\", \"peak_to_peak\", \"MSN\", \"MSP\", \"rec_no\"]]\n",
    "data_psdf.head(5)"
   ]
  },
  {
   "cell_type": "markdown",
   "metadata": {},
   "source": [
    "### Type Data"
   ]
  },
  {
   "cell_type": "code",
   "execution_count": 4,
   "metadata": {},
   "outputs": [],
   "source": [
    "import typing\n",
    "data_psdf['peak_to_peak'] = data_psdf['peak_to_peak'].astype('float')\n",
    "data_psdf['label'] = data_psdf['label'].astype('string')\n"
   ]
  },
  {
   "cell_type": "markdown",
   "metadata": {},
   "source": [
    "### Set label"
   ]
  },
  {
   "cell_type": "markdown",
   "metadata": {},
   "source": [
    "Species labels:\n",
    "\n",
    "0 = Gervais\n",
    "\n",
    "1 = Cuviers"
   ]
  },
  {
   "cell_type": "code",
   "execution_count": 5,
   "metadata": {},
   "outputs": [
    {
     "name": "stderr",
     "output_type": "stream",
     "text": [
      "22/04/10 10:07:13 WARN TaskSetManager: Stage 2 contains a task of very large size (5223 KiB). The maximum recommended task size is 1000 KiB.\n",
      "22/04/10 10:07:14 WARN TaskSetManager: Stage 4 contains a task of very large size (5223 KiB). The maximum recommended task size is 1000 KiB.\n",
      "                                                                                \r"
     ]
    },
    {
     "data": {
      "text/html": [
       "<div>\n",
       "<style scoped>\n",
       "    .dataframe tbody tr th:only-of-type {\n",
       "        vertical-align: middle;\n",
       "    }\n",
       "\n",
       "    .dataframe tbody tr th {\n",
       "        vertical-align: top;\n",
       "    }\n",
       "\n",
       "    .dataframe thead th {\n",
       "        text-align: right;\n",
       "    }\n",
       "</style>\n",
       "<table border=\"1\" class=\"dataframe\">\n",
       "  <thead>\n",
       "    <tr style=\"text-align: right;\">\n",
       "      <th></th>\n",
       "      <th>peak_to_peak</th>\n",
       "      <th>MSN</th>\n",
       "      <th>MSP</th>\n",
       "      <th>rec_no</th>\n",
       "    </tr>\n",
       "    <tr>\n",
       "      <th>label</th>\n",
       "      <th></th>\n",
       "      <th></th>\n",
       "      <th></th>\n",
       "      <th></th>\n",
       "    </tr>\n",
       "  </thead>\n",
       "  <tbody>\n",
       "    <tr>\n",
       "      <th>0</th>\n",
       "      <td>1937</td>\n",
       "      <td>1937</td>\n",
       "      <td>1937</td>\n",
       "      <td>1937</td>\n",
       "    </tr>\n",
       "    <tr>\n",
       "      <th>1</th>\n",
       "      <td>2238</td>\n",
       "      <td>2238</td>\n",
       "      <td>2238</td>\n",
       "      <td>2238</td>\n",
       "    </tr>\n",
       "  </tbody>\n",
       "</table>\n",
       "</div>"
      ],
      "text/plain": [
       "       peak_to_peak   MSN   MSP  rec_no\n",
       "label                                  \n",
       "0              1937  1937  1937    1937\n",
       "1              2238  2238  2238    2238"
      ]
     },
     "execution_count": 5,
     "metadata": {},
     "output_type": "execute_result"
    }
   ],
   "source": [
    "data_psdf[\"label\"] = data_psdf[\"label\"].apply(lambda row: 0 if row==u'Gervais' else 1)\n",
    "data_psdf.dtypes\n",
    "data_psdf.groupby([data_psdf[\"label\"]]).agg(\"count\")"
   ]
  },
  {
   "cell_type": "markdown",
   "metadata": {},
   "source": [
    "### Convert byte array to float np.array"
   ]
  },
  {
   "cell_type": "markdown",
   "metadata": {},
   "source": [
    "Binary coded MSN and MSP signal are transform into float array."
   ]
  },
  {
   "cell_type": "code",
   "execution_count": 6,
   "metadata": {},
   "outputs": [
    {
     "name": "stderr",
     "output_type": "stream",
     "text": [
      "22/04/10 10:07:17 WARN TaskSetManager: Stage 7 contains a task of very large size (5223 KiB). The maximum recommended task size is 1000 KiB.\n",
      "22/04/10 10:07:17 WARN TaskSetManager: Stage 8 contains a task of very large size (5220 KiB). The maximum recommended task size is 1000 KiB.\n"
     ]
    },
    {
     "name": "stdout",
     "output_type": "stream",
     "text": [
      "label                                                           1\n",
      "peak_to_peak                                              50.2422\n",
      "MSN             b'\\xf9\\x0f\\xe9\\xb7\\xaf\\xa3\"@\\xbf}\\x1d8g\\x04+\\x...\n",
      "MSP             b'\\xd1\\x91\\\\\\xfeC\\xdaB\\xc0\\xa4\\xdf\\xbe\\x0e\\x9c...\n",
      "rec_no                                                         01\n",
      "Name: 0, dtype: object\n"
     ]
    }
   ],
   "source": [
    "print(data_psdf.iloc[0])"
   ]
  },
  {
   "cell_type": "code",
   "execution_count": 7,
   "metadata": {},
   "outputs": [],
   "source": [
    "def array_to_float(array):\n",
    "    \"\"\"Convert a byte_array to float_array\"\"\"\n",
    "    return np.frombuffer(array, dtype=np.float64)"
   ]
  },
  {
   "cell_type": "code",
   "execution_count": 8,
   "metadata": {},
   "outputs": [
    {
     "name": "stderr",
     "output_type": "stream",
     "text": [
      "22/04/10 10:07:18 WARN TaskSetManager: Stage 11 contains a task of very large size (5223 KiB). The maximum recommended task size is 1000 KiB.\n",
      "22/04/10 10:07:18 WARN TaskSetManager: Stage 13 contains a task of very large size (5223 KiB). The maximum recommended task size is 1000 KiB.\n"
     ]
    }
   ],
   "source": [
    "data_psdf[\"MSN\"] = data_psdf[\"MSN\"].apply(array_to_float)\n",
    "data_psdf[\"MSP\"] = data_psdf[\"MSP\"].apply(array_to_float)"
   ]
  },
  {
   "cell_type": "code",
   "execution_count": 9,
   "metadata": {},
   "outputs": [
    {
     "name": "stderr",
     "output_type": "stream",
     "text": [
      "22/04/10 10:07:19 WARN TaskSetManager: Stage 15 contains a task of very large size (5223 KiB). The maximum recommended task size is 1000 KiB.\n"
     ]
    },
    {
     "data": {
      "text/html": [
       "<div>\n",
       "<style scoped>\n",
       "    .dataframe tbody tr th:only-of-type {\n",
       "        vertical-align: middle;\n",
       "    }\n",
       "\n",
       "    .dataframe tbody tr th {\n",
       "        vertical-align: top;\n",
       "    }\n",
       "\n",
       "    .dataframe thead th {\n",
       "        text-align: right;\n",
       "    }\n",
       "</style>\n",
       "<table border=\"1\" class=\"dataframe\">\n",
       "  <thead>\n",
       "    <tr style=\"text-align: right;\">\n",
       "      <th></th>\n",
       "      <th>label</th>\n",
       "      <th>peak_to_peak</th>\n",
       "      <th>MSN</th>\n",
       "      <th>MSP</th>\n",
       "      <th>rec_no</th>\n",
       "    </tr>\n",
       "  </thead>\n",
       "  <tbody>\n",
       "    <tr>\n",
       "      <th>0</th>\n",
       "      <td>1</td>\n",
       "      <td>50.2422</td>\n",
       "      <td>[9.3197, -13.5086, -6.1229, 5.5962, -0.8494, 1...</td>\n",
       "      <td>[-37.7052, -40.2157, -64.4694, -69.3526, -68.2...</td>\n",
       "      <td>01</td>\n",
       "    </tr>\n",
       "    <tr>\n",
       "      <th>1</th>\n",
       "      <td>1</td>\n",
       "      <td>55.0377</td>\n",
       "      <td>[-2.2228, 6.5712, -14.2926, 8.2005, -1.0006, 2...</td>\n",
       "      <td>[-34.7333, -37.8125, -76.5551, -63.8601, -63.2...</td>\n",
       "      <td>01</td>\n",
       "    </tr>\n",
       "    <tr>\n",
       "      <th>2</th>\n",
       "      <td>1</td>\n",
       "      <td>44.9439</td>\n",
       "      <td>[5.8497, 0.9312, -1.3678, -1.0723, -4.6082, 0....</td>\n",
       "      <td>[-39.6219, -42.9117, -70.0049, -80.345, -82.53...</td>\n",
       "      <td>01</td>\n",
       "    </tr>\n",
       "    <tr>\n",
       "      <th>3</th>\n",
       "      <td>1</td>\n",
       "      <td>72.7624</td>\n",
       "      <td>[-5.7617, 9.2025, -0.3643, 6.0864, -3.3721, 7....</td>\n",
       "      <td>[-33.943, -36.8786, -58.4006, -55.0711, -52.07...</td>\n",
       "      <td>01</td>\n",
       "    </tr>\n",
       "    <tr>\n",
       "      <th>4</th>\n",
       "      <td>1</td>\n",
       "      <td>57.1313</td>\n",
       "      <td>[-6.5745, -6.1513, -3.1953, -3.8404, 2.5662, -...</td>\n",
       "      <td>[-43.997, -46.577, -66.8051, -68.7465, -74.573...</td>\n",
       "      <td>01</td>\n",
       "    </tr>\n",
       "  </tbody>\n",
       "</table>\n",
       "</div>"
      ],
      "text/plain": [
       "   label  peak_to_peak                                                                                                                                                                                                                                                                                                                                                                                                                                                                                                                                                                                                                                                                                                                                                                                                                                                                                                                                                        MSN                                                                                                                                                                                                                                                                                                                                                                                                                                                                                                                                                                                                                                                                                                                                                                                                                                                                                                                                                                                                                                    MSP rec_no\n",
       "0      1       50.2422                                                  [9.3197, -13.5086, -6.1229, 5.5962, -0.8494, 1.726, 0.5058, 3.2518, 4.2202, 7.7504, 2.5194, 0.955, 2.916, -5.6104, -1.5902, -2.7221, -10.9791, -6.9721, -10.2568, 7.3515, 16.9292, 6.4905, 4.1464, -4.1804, -2.9589, 4.949, 1.216, 5.1183, 5.5082, -2.2345, 1.4669, 1.5189, 1.7144, -7.0055, -10.1417, -0.6847, 4.5961, -1.345, -6.6947, -2.7695, 6.2404, 10.5815, -0.3694, 0.7556, 6.9644, 6.0439, -0.9048, -1.0284, 0.7019, -6.4307, -3.2577, 1.5216, -6.2039, -1.0233, 4.724, 2.6202, 8.3715, 2.0776, 4.1682, 2.2587, -7.1114, 0.598, -1.4332, -2.0689, 1.8766, -3.6167, -5.7862, -0.7723, -6.0236, 12.9591, 25.2204, 4.3252, 0.1114, -5.0774, -16.9807, -5.4148, -4.7946, -10.3231, 7.1067, 1.1683, -0.0623, 3.6494, -0.042, 31.7556, 62.2416, 18.151, -73.3102, -110.5774, -25.3297, 64.3319, 108.0752, 22.7256, -84.8323, -43.6911, 63.5124, 96.0849, -26.6306, -111.1852, -86.8286, -21.2044, ...]                 [-37.7052, -40.2157, -64.4694, -69.3526, -68.2034, -66.6252, -49.5534, -52.3493, -42.3063, -38.8516, -34.7091, -27.2549, -23.3728, -22.7544, -20.7459, -18.3725, -23.5369, -25.7589, -16.9624, -15.6126, -16.6254, -14.2758, -11.84, -11.3627, -12.1285, -13.8271, -17.2974, -21.8288, -23.7577, -20.0803, -15.8926, -13.6446, -14.3504, -13.1279, -11.1934, -9.7308, -8.4769, -7.2438, -5.8337, -5.1598, -5.3962, -6.3061, -7.62, -8.9028, -9.6228, -8.9768, -8.4314, -9.2537, -10.3163, -11.9477, -14.372, -17.3032, -21.6974, -23.5276, -27.9225, -28.6318, -24.6104, -21.0517, -19.6463, -19.0679, -19.0846, -20.2084, -22.4005, -23.0807, -23.2711, -25.1411, -26.2329, -25.9631, -24.418, -22.3899, -21.8553, -24.7447, -33.0307, -40.0381, -32.2275, -37.9084, -26.3666, -22.4458, -22.282, -21.9781, -24.7282, -29.1269, -29.2755, -26.3737, -27.0824, -27.537, -26.4761, -25.7176, -26.5572, -29.4264, -31.3871, -33.7689, -32.6276, -28.6053, -26.1929, -27.234, -33.2682, -47.4567, -66.103, -70.0067, ...]     01\n",
       "1      1       55.0377                           [-2.2228, 6.5712, -14.2926, 8.2005, -1.0006, 2.021, -3.4677, -2.8953, 7.3442, -4.5454, 2.8399, 5.013, 8.882, 0.6707, -0.1386, -15.5218, -7.8023, -1.7955, -10.4572, 0.4963, -8.1923, -0.3492, 10.4241, 10.564, 11.8222, 4.0353, -2.019, -13.2966, -6.5697, -1.8509, -1.7337, -4.0927, -6.9264, 0.5168, 1.1357, 14.0178, -1.0767, 2.0881, -4.3993, -4.8315, -0.1245, -6.5503, 6.1813, 1.9608, 1.3696, -5.9741, -9.8654, -4.8075, 7.6092, 1.7748, 2.6283, 2.7923, -4.3556, -2.7055, -4.8155, -5.9689, 3.1153, 1.5342, -0.1355, 6.146, -1.5086, -4.9741, -1.0361, -4.5962, -6.4952, -0.8253, 4.4447, 21.0049, 20.9133, 4.3076, -17.9158, -34.3628, -12.5218, 10.6659, 3.9374, -9.1249, -26.6417, -19.8321, 16.7927, 16.2904, 1.6744, 28.9723, 58.618, 86.8952, -3.4476, -162.5947, -38.1215, -16.5596, -38.4651, 126.6433, 33.4734, -58.1979, -161.279, -118.3934, 225.529, 227.2806, -26.0998, -154.9158, -69.4961, -58.6192, ...]                  [-34.7333, -37.8125, -76.5551, -63.8601, -63.2593, -58.7833, -44.066, -35.1993, -29.3693, -23.1867, -17.4946, -14.8824, -15.8536, -18.0732, -16.5855, -13.8944, -14.1068, -18.8497, -19.0976, -17.9999, -27.8478, -19.753, -12.7539, -9.6578, -8.3761, -9.7377, -12.5713, -11.2146, -8.4219, -6.2817, -3.8099, -2.2156, -1.9755, -1.8373, -1.7494, -2.2358, -2.8362, -3.4954, -4.5056, -6.5907, -10.1304, -12.6585, -12.0983, -11.4744, -13.031, -16.9651, -19.4263, -13.8187, -11.3636, -11.2506, -12.0311, -13.6445, -14.8332, -13.3096, -12.185, -13.0561, -16.0632, -18.4143, -18.017, -19.8517, -21.2135, -20.6498, -20.6226, -20.0401, -18.9722, -18.4254, -18.7796, -19.3163, -16.4342, -13.2832, -11.9751, -12.4055, -13.9271, -15.6725, -17.1011, -19.3976, -22.5118, -24.8616, -29.9264, -30.0183, -27.181, -23.8698, -20.6511, -18.8467, -17.5511, -16.1047, -16.3067, -17.7907, -18.2021, -18.897, -19.7875, -20.0803, -21.6128, -22.4214, -20.7831, -21.565, -26.4311, -35.004, -57.1502, -82.4096, ...]     01\n",
       "2      1       44.9439                                           [5.8497, 0.9312, -1.3678, -1.0723, -4.6082, 0.7826, 0.7699, -2.0668, -3.8653, 3.7123, 2.4452, -10.8617, -0.7696, 3.6353, 0.4858, -4.7289, 3.5942, -4.9836, -1.599, 4.2828, 3.9555, 1.0793, -6.1466, 4.2072, 4.9617, 5.8417, -6.0376, -3.0501, -4.972, -0.9877, 1.4442, -7.2777, -3.5569, -0.2112, 4.0565, 3.8523, -1.7861, -7.0764, -5.3603, 3.4675, 7.849, -2.2348, -2.257, 6.6044, 3.2719, -8.2999, -5.4167, 7.0314, 6.6462, 3.3767, -11.6531, 1.5269, -8.7791, -7.9828, 11.8215, -4.5402, 2.2846, 0.5703, -2.2075, 0.1271, -3.6999, -6.1863, 8.3133, 0.6904, 4.9139, -19.5086, 1.4916, 30.8655, 17.1813, -14.3868, -48.4036, 9.3588, 33.1281, 21.0257, -20.7073, -51.9641, -25.2226, 45.065, 53.2265, 8.2122, -70.3099, -95.6508, 21.8091, 72.4707, 97.8569, 35.9613, -88.4016, -24.833, 47.4216, -9.7052, -85.1322, -25.9486, 33.3803, 79.0604, 8.4242, -116.232, 22.9042, 40.9881, -20.0977, -14.7217, ...]  [-39.6219, -42.9117, -70.0049, -80.345, -82.5303, -70.5985, -51.9546, -41.0207, -32.7781, -27.6717, -35.8325, -28.4954, -23.8432, -22.303, -22.0382, -21.502, -21.3023, -22.9658, -24.0134, -27.0921, -24.0045, -18.2647, -15.9423, -13.7135, -13.9268, -16.4204, -17.5216, -17.9256, -18.9585, -21.6837, -21.7506, -18.4533, -19.1586, -19.2602, -14.9386, -17.791, -16.6807, -13.8132, -11.6916, -10.6033, -11.1845, -14.2185, -15.1585, -13.7863, -14.0497, -13.9033, -14.034, -13.9733, -12.4724, -12.2543, -15.3642, -20.0372, -19.1282, -18.2676, -20.3262, -22.0784, -22.2169, -25.7848, -35.7513, -31.2365, -26.618, -27.3011, -28.2263, -24.2013, -21.1366, -20.5961, -23.483, -25.3802, -23.7441, -22.4506, -20.2223, -19.6003, -23.0492, -25.0567, -23.2175, -22.8159, -22.8124, -26.4034, -32.1443, -27.7134, -26.8382, -25.585, -25.9548, -27.2722, -27.6363, -25.1193, -23.5495, -24.5934, -25.4769, -27.2681, -27.9092, -32.8622, -45.5226, -37.5646, -35.4231, -34.9526, -40.2216, -49.4441, -68.1204, -75.6891, ...]     01\n",
       "3      1       72.7624  [-5.7617, 9.2025, -0.3643, 6.0864, -3.3721, 7.3802, -5.4924, 3.4953, 2.8065, -4.4488, 4.0394, -0.427, 7.1562, 4.2827, 3.9051, 2.0794, -5.0339, 10.6362, -0.1506, -7.4084, 2.5483, -12.9377, -3.7869, 0.7309, 2.413, -0.9745, 2.8786, -0.8439, 6.3782, 2.0102, 12.6771, 4.4365, 9.4192, -5.0837, -0.9055, -3.6907, -9.9267, -4.041, -4.9319, -9.0138, -13.0385, 19.5461, 14.0726, 31.0257, 0.3366, 4.8459, -11.38, 0.6788, -7.2398, -14.6121, -6.1617, -10.6509, 9.3389, 6.8199, 5.4359, -14.5148, 10.7572, 8.6964, 15.4718, 9.6393, -3.6181, -10.5762, -16.0908, 8.5502, 6.5297, -8.7928, 0.0252, 2.1701, -4.482, -22.508, -38.1591, 15.5817, 381.3453, 497.5358, -762.7481, -1235.7173, 229.6551, 942.2853, 1174.3779, -464.216, -842.7902, 78.0594, -257.0275, 700.8671, 72.3057, -971.2038, -1130.1332, 1316.646, 1676.7222, -787.1652, -908.5487, 101.9184, 656.9481, -59.5417, -238.302, -718.0545, 593.4353, 1116.4428, -1071.8368, -1335.017, ...]                                                                                                                            [-33.943, -36.8786, -58.4006, -55.0711, -52.0792, -47.2219, -34.5387, -39.0301, -17.6523, -13.884, -18.3728, -16.256, -18.5006, -13.486, -11.1021, -14.8398, -4.4918, -3.0166, -3.6513, 1.395, 4.2806, 1.6319, -13.5315, -3.9497, 1.1001, 0.991, 3.4847, 4.3818, 1.4462, -1.0987, -1.1731, 2.525, 6.0504, 9.1467, 9.5383, 8.8505, 6.4225, 2.4863, 3.72, 6.3369, 11.1438, 14.2795, 16.0617, 16.5606, 15.3729, 12.3241, 9.0207, 7.5872, 8.9974, 11.6327, 14.2639, 15.3658, 13.4476, 9.6754, 9.4483, 11.3261, 11.7539, 10.7061, 8.736, 7.443, 6.2979, 2.9439, -1.8244, -4.1937, -6.7321, -3.2555, -0.1182, -2.2657, 0.1516, 2.3509, 2.5174, 3.791, 3.8112, 3.4757, 2.7768, 2.631, 0.711, -2.2903, -5.6264, -7.9193, -12.7698, -14.1304, -5.1352, -2.5127, 0.3047, 2.8747, 2.9572, 1.3224, -1.7636, -5.4675, -4.7437, -6.0774, -15.0342, -7.602, -3.0864, -4.2031, -11.3707, -24.9872, -50.2224, -60.3801, ...]     01\n",
       "4      1       57.1313                                                       [-6.5745, -6.1513, -3.1953, -3.8404, 2.5662, -0.5214, -4.6427, -4.3136, 5.8111, 1.3576, 3.8535, -3.043, 2.5494, 10.0219, 3.9455, -1.629, -9.1091, -3.1049, -9.5062, 0.5196, -3.4074, 5.4014, 1.7902, 2.63, 8.9033, -6.6887, -3.51, 0.0993, 4.9795, 6.4615, 7.4164, 2.3483, -4.4668, -7.6074, -10.0612, -0.0272, 6.6674, -4.9464, -5.4403, -5.3455, -5.5161, -7.4025, 8.0612, 9.5646, 5.6795, 9.8963, 10.9468, 1.8994, -6.1231, -9.0221, -13.1396, 7.6072, 8.5567, -0.4322, -13.6079, -9.2955, 5.6388, 6.5494, -1.7651, -0.7605, -4.1743, 0.9191, -1.754, 2.8375, -1.5149, -0.4129, 3.3058, -1.236, 4.2601, 2.0169, 8.8931, -2.459, 2.038, -8.6044, -1.3891, -2.3469, -2.738, 3.3788, -3.5532, -5.1882, -7.1728, -2.7338, 0.8646, 12.8886, -10.027, -25.7887, 26.7525, 76.6605, -18.8285, -97.1698, 38.9057, 49.2392, -55.272, -17.5345, 41.8752, 1.2149, -0.1557, 66.1981, -38.9929, -243.6753, ...]                       [-43.997, -46.577, -66.8051, -68.7465, -74.5737, -56.9129, -46.2335, -39.3191, -33.2134, -39.0545, -26.6496, -31.6948, -28.0295, -27.8134, -28.1681, -41.5243, -32.5707, -31.1049, -28.5905, -27.9765, -33.8623, -39.0199, -33.0518, -29.7926, -25.0686, -21.1511, -19.4136, -18.0782, -17.5953, -18.9595, -18.9474, -17.7784, -17.4776, -16.8441, -16.7279, -16.5883, -13.8534, -11.1946, -10.0923, -8.6105, -6.6376, -5.8865, -6.3623, -6.5583, -6.3678, -6.3157, -6.6329, -7.5925, -8.5602, -9.1417, -9.3033, -8.5179, -6.9933, -5.732, -5.2514, -5.6383, -6.3959, -6.9237, -7.3409, -7.7314, -8.0268, -8.3635, -8.7508, -9.4976, -10.5567, -11.8068, -13.0982, -13.6392, -14.0378, -14.7716, -15.5667, -16.3076, -16.278, -16.1964, -16.9674, -18.0932, -18.3334, -17.6095, -17.9336, -19.5411, -22.2532, -26.2524, -26.0982, -23.9555, -23.4824, -24.2655, -26.4697, -26.2751, -24.5764, -27.2831, -26.0515, -23.9003, -26.8935, -31.1859, -28.0243, -25.2712, -31.0688, -46.5049, -56.8654, -70.3414, ...]     01"
      ]
     },
     "execution_count": 9,
     "metadata": {},
     "output_type": "execute_result"
    }
   ],
   "source": [
    "data_psdf.head(5)"
   ]
  },
  {
   "cell_type": "markdown",
   "metadata": {
    "slideshow": {
     "slide_type": "subslide"
    }
   },
   "source": [
    "### Examples of waveforms and spectra for both species"
   ]
  },
  {
   "cell_type": "code",
   "execution_count": 10,
   "metadata": {},
   "outputs": [],
   "source": [
    "df_gervais = data_psdf[data_psdf[\"label\"]== 0]\n",
    "df_cuviers = data_psdf[data_psdf[\"label\"]== 1]"
   ]
  },
  {
   "cell_type": "code",
   "execution_count": 11,
   "metadata": {},
   "outputs": [
    {
     "name": "stderr",
     "output_type": "stream",
     "text": [
      "22/04/10 10:07:20 WARN TaskSetManager: Stage 17 contains a task of very large size (5223 KiB). The maximum recommended task size is 1000 KiB.\n",
      "22/04/10 10:07:20 WARN TaskSetManager: Stage 18 contains a task of very large size (5220 KiB). The maximum recommended task size is 1000 KiB.\n",
      "22/04/10 10:07:21 WARN TaskSetManager: Stage 21 contains a task of very large size (5223 KiB). The maximum recommended task size is 1000 KiB.\n",
      "22/04/10 10:07:21 WARN TaskSetManager: Stage 22 contains a task of very large size (5220 KiB). The maximum recommended task size is 1000 KiB.\n",
      "22/04/10 10:07:21 WARN TaskSetManager: Stage 25 contains a task of very large size (5223 KiB). The maximum recommended task size is 1000 KiB.\n",
      "22/04/10 10:07:22 WARN TaskSetManager: Stage 26 contains a task of very large size (5220 KiB). The maximum recommended task size is 1000 KiB.\n",
      "22/04/10 10:07:22 WARN TaskSetManager: Stage 29 contains a task of very large size (5223 KiB). The maximum recommended task size is 1000 KiB.\n",
      "22/04/10 10:07:22 WARN TaskSetManager: Stage 30 contains a task of very large size (5220 KiB). The maximum recommended task size is 1000 KiB.\n",
      "22/04/10 10:07:23 WARN TaskSetManager: Stage 33 contains a task of very large size (5223 KiB). The maximum recommended task size is 1000 KiB.\n",
      "22/04/10 10:07:23 WARN TaskSetManager: Stage 34 contains a task of very large size (5220 KiB). The maximum recommended task size is 1000 KiB.\n"
     ]
    },
    {
     "data": {
      "text/plain": [
       "[<matplotlib.lines.Line2D at 0x7f7314a61f70>]"
      ]
     },
     "execution_count": 11,
     "metadata": {},
     "output_type": "execute_result"
    },
    {
     "data": {
      "image/png": "[encoded data removed]",
      "text/plain": [
       "<Figure size 360x720 with 4 Axes>"
      ]
     },
     "metadata": {
      "needs_background": "light"
     },
     "output_type": "display_data"
    }
   ],
   "source": [
    "msn_1 = data_psdf.iloc[0][\"MSN\"]\n",
    "\n",
    "plt.figure(figsize=(5,10))\n",
    "\n",
    "# Cuviers\n",
    "plt.subplot(2, 2, 1)\n",
    "plt.plot(data_psdf.iloc[0][\"MSN\"])\n",
    "plt.title(\"Cuviers\")\n",
    "plt.ylabel(\"MSN\")\n",
    "\n",
    "plt.subplot(2,2,3)\n",
    "plt.plot(data_psdf.iloc[0][\"MSP\"])\n",
    "plt.ylabel(\"MSP\")\n",
    "\n",
    "# Gervais\n",
    "plt.subplot(2,2,2)\n",
    "plt.plot(df_gervais.iloc[0][\"MSN\"])\n",
    "plt.title(\"Gervais\")\n",
    "\n",
    "plt.subplot(2,2,4)\n",
    "plt.plot(df_gervais.iloc[0][\"MSP\"])"
   ]
  },
  {
   "cell_type": "markdown",
   "metadata": {},
   "source": [
    "MSN raw ticks signals is hardly modelizable.\n",
    "\n",
    "The power spectral density MSP will be used to build the model."
   ]
  },
  {
   "cell_type": "code",
   "execution_count": 12,
   "metadata": {},
   "outputs": [
    {
     "name": "stderr",
     "output_type": "stream",
     "text": [
      "/home/zenbook/.local/lib/python3.9/site-packages/pyspark/sql/pandas/conversion.py:87: UserWarning: toPandas attempted Arrow optimization because 'spark.sql.execution.arrow.pyspark.enabled' is set to true; however, failed by the reason below:\n",
      "  Unsupported type in conversion to Arrow: VectorUDT\n",
      "Attempting non-optimization as 'spark.sql.execution.arrow.pyspark.fallback.enabled' is set to true.\n",
      "  warnings.warn(msg)\n",
      "22/04/10 10:07:24 WARN WindowExec: No Partition Defined for Window operation! Moving all data to a single partition, this can cause serious performance degradation.\n",
      "22/04/10 10:07:24 WARN WindowExec: No Partition Defined for Window operation! Moving all data to a single partition, this can cause serious performance degradation.\n",
      "22/04/10 10:07:24 WARN TaskSetManager: Stage 37 contains a task of very large size (5223 KiB). The maximum recommended task size is 1000 KiB.\n"
     ]
    },
    {
     "data": {
      "text/html": [
       "<div>\n",
       "<style scoped>\n",
       "    .dataframe tbody tr th:only-of-type {\n",
       "        vertical-align: middle;\n",
       "    }\n",
       "\n",
       "    .dataframe tbody tr th {\n",
       "        vertical-align: top;\n",
       "    }\n",
       "\n",
       "    .dataframe thead th {\n",
       "        text-align: right;\n",
       "    }\n",
       "</style>\n",
       "<table border=\"1\" class=\"dataframe\">\n",
       "  <thead>\n",
       "    <tr style=\"text-align: right;\">\n",
       "      <th></th>\n",
       "      <th>label</th>\n",
       "      <th>peak_to_peak</th>\n",
       "      <th>MSN</th>\n",
       "      <th>MSP</th>\n",
       "      <th>rec_no</th>\n",
       "      <th>features</th>\n",
       "    </tr>\n",
       "  </thead>\n",
       "  <tbody>\n",
       "    <tr>\n",
       "      <th>0</th>\n",
       "      <td>1</td>\n",
       "      <td>50.2422</td>\n",
       "      <td>[9.3197, -13.5086, -6.1229, 5.5962, -0.8494, 1...</td>\n",
       "      <td>[-37.7052, -40.2157, -64.4694, -69.3526, -68.2...</td>\n",
       "      <td>01</td>\n",
       "      <td>[-37.7052, -40.2157, -64.4694, -69.3526, -68.2...</td>\n",
       "    </tr>\n",
       "    <tr>\n",
       "      <th>1</th>\n",
       "      <td>1</td>\n",
       "      <td>55.0377</td>\n",
       "      <td>[-2.2228, 6.5712, -14.2926, 8.2005, -1.0006, 2...</td>\n",
       "      <td>[-34.7333, -37.8125, -76.5551, -63.8601, -63.2...</td>\n",
       "      <td>01</td>\n",
       "      <td>[-34.7333, -37.8125, -76.5551, -63.8601, -63.2...</td>\n",
       "    </tr>\n",
       "    <tr>\n",
       "      <th>2</th>\n",
       "      <td>1</td>\n",
       "      <td>44.9439</td>\n",
       "      <td>[5.8497, 0.9312, -1.3678, -1.0723, -4.6082, 0....</td>\n",
       "      <td>[-39.6219, -42.9117, -70.0049, -80.345, -82.53...</td>\n",
       "      <td>01</td>\n",
       "      <td>[-39.6219, -42.9117, -70.0049, -80.345, -82.53...</td>\n",
       "    </tr>\n",
       "  </tbody>\n",
       "</table>\n",
       "</div>"
      ],
      "text/plain": [
       "   label  peak_to_peak                                                                                                                                                                                                                                                                                                                                                                                                                                                                                                                                                                                                                                                                                                                                                                                                                                                                                                                               MSN                                                                                                                                                                                                                                                                                                                                                                                                                                                                                                                                                                                                                                                                                                                                                                                                                                                                                                                                                                                                                                    MSP rec_no                                                                                                                                                                                                                                                                                                                                                                                                                                                                                                                                                                                                                                                                                                                                                                                                                                                                                                                                                                                                                               features\n",
       "0      1       50.2422                         [9.3197, -13.5086, -6.1229, 5.5962, -0.8494, 1.726, 0.5058, 3.2518, 4.2202, 7.7504, 2.5194, 0.955, 2.916, -5.6104, -1.5902, -2.7221, -10.9791, -6.9721, -10.2568, 7.3515, 16.9292, 6.4905, 4.1464, -4.1804, -2.9589, 4.949, 1.216, 5.1183, 5.5082, -2.2345, 1.4669, 1.5189, 1.7144, -7.0055, -10.1417, -0.6847, 4.5961, -1.345, -6.6947, -2.7695, 6.2404, 10.5815, -0.3694, 0.7556, 6.9644, 6.0439, -0.9048, -1.0284, 0.7019, -6.4307, -3.2577, 1.5216, -6.2039, -1.0233, 4.724, 2.6202, 8.3715, 2.0776, 4.1682, 2.2587, -7.1114, 0.598, -1.4332, -2.0689, 1.8766, -3.6167, -5.7862, -0.7723, -6.0236, 12.9591, 25.2204, 4.3252, 0.1114, -5.0774, -16.9807, -5.4148, -4.7946, -10.3231, 7.1067, 1.1683, -0.0623, 3.6494, -0.042, 31.7556, 62.2416, 18.151, -73.3102, -110.5774, -25.3297, 64.3319, 108.0752, 22.7256, -84.8323, -43.6911, 63.5124, 96.0849, -26.6306, -111.1852, -86.8286, -21.2044, ...]                 [-37.7052, -40.2157, -64.4694, -69.3526, -68.2034, -66.6252, -49.5534, -52.3493, -42.3063, -38.8516, -34.7091, -27.2549, -23.3728, -22.7544, -20.7459, -18.3725, -23.5369, -25.7589, -16.9624, -15.6126, -16.6254, -14.2758, -11.84, -11.3627, -12.1285, -13.8271, -17.2974, -21.8288, -23.7577, -20.0803, -15.8926, -13.6446, -14.3504, -13.1279, -11.1934, -9.7308, -8.4769, -7.2438, -5.8337, -5.1598, -5.3962, -6.3061, -7.62, -8.9028, -9.6228, -8.9768, -8.4314, -9.2537, -10.3163, -11.9477, -14.372, -17.3032, -21.6974, -23.5276, -27.9225, -28.6318, -24.6104, -21.0517, -19.6463, -19.0679, -19.0846, -20.2084, -22.4005, -23.0807, -23.2711, -25.1411, -26.2329, -25.9631, -24.418, -22.3899, -21.8553, -24.7447, -33.0307, -40.0381, -32.2275, -37.9084, -26.3666, -22.4458, -22.282, -21.9781, -24.7282, -29.1269, -29.2755, -26.3737, -27.0824, -27.537, -26.4761, -25.7176, -26.5572, -29.4264, -31.3871, -33.7689, -32.6276, -28.6053, -26.1929, -27.234, -33.2682, -47.4567, -66.103, -70.0067, ...]     01                 [-37.7052, -40.2157, -64.4694, -69.3526, -68.2034, -66.6252, -49.5534, -52.3493, -42.3063, -38.8516, -34.7091, -27.2549, -23.3728, -22.7544, -20.7459, -18.3725, -23.5369, -25.7589, -16.9624, -15.6126, -16.6254, -14.2758, -11.84, -11.3627, -12.1285, -13.8271, -17.2974, -21.8288, -23.7577, -20.0803, -15.8926, -13.6446, -14.3504, -13.1279, -11.1934, -9.7308, -8.4769, -7.2438, -5.8337, -5.1598, -5.3962, -6.3061, -7.62, -8.9028, -9.6228, -8.9768, -8.4314, -9.2537, -10.3163, -11.9477, -14.372, -17.3032, -21.6974, -23.5276, -27.9225, -28.6318, -24.6104, -21.0517, -19.6463, -19.0679, -19.0846, -20.2084, -22.4005, -23.0807, -23.2711, -25.1411, -26.2329, -25.9631, -24.418, -22.3899, -21.8553, -24.7447, -33.0307, -40.0381, -32.2275, -37.9084, -26.3666, -22.4458, -22.282, -21.9781, -24.7282, -29.1269, -29.2755, -26.3737, -27.0824, -27.537, -26.4761, -25.7176, -26.5572, -29.4264, -31.3871, -33.7689, -32.6276, -28.6053, -26.1929, -27.234, -33.2682, -47.4567, -66.103, -70.0067, ...]\n",
       "1      1       55.0377  [-2.2228, 6.5712, -14.2926, 8.2005, -1.0006, 2.021, -3.4677, -2.8953, 7.3442, -4.5454, 2.8399, 5.013, 8.882, 0.6707, -0.1386, -15.5218, -7.8023, -1.7955, -10.4572, 0.4963, -8.1923, -0.3492, 10.4241, 10.564, 11.8222, 4.0353, -2.019, -13.2966, -6.5697, -1.8509, -1.7337, -4.0927, -6.9264, 0.5168, 1.1357, 14.0178, -1.0767, 2.0881, -4.3993, -4.8315, -0.1245, -6.5503, 6.1813, 1.9608, 1.3696, -5.9741, -9.8654, -4.8075, 7.6092, 1.7748, 2.6283, 2.7923, -4.3556, -2.7055, -4.8155, -5.9689, 3.1153, 1.5342, -0.1355, 6.146, -1.5086, -4.9741, -1.0361, -4.5962, -6.4952, -0.8253, 4.4447, 21.0049, 20.9133, 4.3076, -17.9158, -34.3628, -12.5218, 10.6659, 3.9374, -9.1249, -26.6417, -19.8321, 16.7927, 16.2904, 1.6744, 28.9723, 58.618, 86.8952, -3.4476, -162.5947, -38.1215, -16.5596, -38.4651, 126.6433, 33.4734, -58.1979, -161.279, -118.3934, 225.529, 227.2806, -26.0998, -154.9158, -69.4961, -58.6192, ...]                  [-34.7333, -37.8125, -76.5551, -63.8601, -63.2593, -58.7833, -44.066, -35.1993, -29.3693, -23.1867, -17.4946, -14.8824, -15.8536, -18.0732, -16.5855, -13.8944, -14.1068, -18.8497, -19.0976, -17.9999, -27.8478, -19.753, -12.7539, -9.6578, -8.3761, -9.7377, -12.5713, -11.2146, -8.4219, -6.2817, -3.8099, -2.2156, -1.9755, -1.8373, -1.7494, -2.2358, -2.8362, -3.4954, -4.5056, -6.5907, -10.1304, -12.6585, -12.0983, -11.4744, -13.031, -16.9651, -19.4263, -13.8187, -11.3636, -11.2506, -12.0311, -13.6445, -14.8332, -13.3096, -12.185, -13.0561, -16.0632, -18.4143, -18.017, -19.8517, -21.2135, -20.6498, -20.6226, -20.0401, -18.9722, -18.4254, -18.7796, -19.3163, -16.4342, -13.2832, -11.9751, -12.4055, -13.9271, -15.6725, -17.1011, -19.3976, -22.5118, -24.8616, -29.9264, -30.0183, -27.181, -23.8698, -20.6511, -18.8467, -17.5511, -16.1047, -16.3067, -17.7907, -18.2021, -18.897, -19.7875, -20.0803, -21.6128, -22.4214, -20.7831, -21.565, -26.4311, -35.004, -57.1502, -82.4096, ...]     01                  [-34.7333, -37.8125, -76.5551, -63.8601, -63.2593, -58.7833, -44.066, -35.1993, -29.3693, -23.1867, -17.4946, -14.8824, -15.8536, -18.0732, -16.5855, -13.8944, -14.1068, -18.8497, -19.0976, -17.9999, -27.8478, -19.753, -12.7539, -9.6578, -8.3761, -9.7377, -12.5713, -11.2146, -8.4219, -6.2817, -3.8099, -2.2156, -1.9755, -1.8373, -1.7494, -2.2358, -2.8362, -3.4954, -4.5056, -6.5907, -10.1304, -12.6585, -12.0983, -11.4744, -13.031, -16.9651, -19.4263, -13.8187, -11.3636, -11.2506, -12.0311, -13.6445, -14.8332, -13.3096, -12.185, -13.0561, -16.0632, -18.4143, -18.017, -19.8517, -21.2135, -20.6498, -20.6226, -20.0401, -18.9722, -18.4254, -18.7796, -19.3163, -16.4342, -13.2832, -11.9751, -12.4055, -13.9271, -15.6725, -17.1011, -19.3976, -22.5118, -24.8616, -29.9264, -30.0183, -27.181, -23.8698, -20.6511, -18.8467, -17.5511, -16.1047, -16.3067, -17.7907, -18.2021, -18.897, -19.7875, -20.0803, -21.6128, -22.4214, -20.7831, -21.565, -26.4311, -35.004, -57.1502, -82.4096, ...]\n",
       "2      1       44.9439                  [5.8497, 0.9312, -1.3678, -1.0723, -4.6082, 0.7826, 0.7699, -2.0668, -3.8653, 3.7123, 2.4452, -10.8617, -0.7696, 3.6353, 0.4858, -4.7289, 3.5942, -4.9836, -1.599, 4.2828, 3.9555, 1.0793, -6.1466, 4.2072, 4.9617, 5.8417, -6.0376, -3.0501, -4.972, -0.9877, 1.4442, -7.2777, -3.5569, -0.2112, 4.0565, 3.8523, -1.7861, -7.0764, -5.3603, 3.4675, 7.849, -2.2348, -2.257, 6.6044, 3.2719, -8.2999, -5.4167, 7.0314, 6.6462, 3.3767, -11.6531, 1.5269, -8.7791, -7.9828, 11.8215, -4.5402, 2.2846, 0.5703, -2.2075, 0.1271, -3.6999, -6.1863, 8.3133, 0.6904, 4.9139, -19.5086, 1.4916, 30.8655, 17.1813, -14.3868, -48.4036, 9.3588, 33.1281, 21.0257, -20.7073, -51.9641, -25.2226, 45.065, 53.2265, 8.2122, -70.3099, -95.6508, 21.8091, 72.4707, 97.8569, 35.9613, -88.4016, -24.833, 47.4216, -9.7052, -85.1322, -25.9486, 33.3803, 79.0604, 8.4242, -116.232, 22.9042, 40.9881, -20.0977, -14.7217, ...]  [-39.6219, -42.9117, -70.0049, -80.345, -82.5303, -70.5985, -51.9546, -41.0207, -32.7781, -27.6717, -35.8325, -28.4954, -23.8432, -22.303, -22.0382, -21.502, -21.3023, -22.9658, -24.0134, -27.0921, -24.0045, -18.2647, -15.9423, -13.7135, -13.9268, -16.4204, -17.5216, -17.9256, -18.9585, -21.6837, -21.7506, -18.4533, -19.1586, -19.2602, -14.9386, -17.791, -16.6807, -13.8132, -11.6916, -10.6033, -11.1845, -14.2185, -15.1585, -13.7863, -14.0497, -13.9033, -14.034, -13.9733, -12.4724, -12.2543, -15.3642, -20.0372, -19.1282, -18.2676, -20.3262, -22.0784, -22.2169, -25.7848, -35.7513, -31.2365, -26.618, -27.3011, -28.2263, -24.2013, -21.1366, -20.5961, -23.483, -25.3802, -23.7441, -22.4506, -20.2223, -19.6003, -23.0492, -25.0567, -23.2175, -22.8159, -22.8124, -26.4034, -32.1443, -27.7134, -26.8382, -25.585, -25.9548, -27.2722, -27.6363, -25.1193, -23.5495, -24.5934, -25.4769, -27.2681, -27.9092, -32.8622, -45.5226, -37.5646, -35.4231, -34.9526, -40.2216, -49.4441, -68.1204, -75.6891, ...]     01  [-39.6219, -42.9117, -70.0049, -80.345, -82.5303, -70.5985, -51.9546, -41.0207, -32.7781, -27.6717, -35.8325, -28.4954, -23.8432, -22.303, -22.0382, -21.502, -21.3023, -22.9658, -24.0134, -27.0921, -24.0045, -18.2647, -15.9423, -13.7135, -13.9268, -16.4204, -17.5216, -17.9256, -18.9585, -21.6837, -21.7506, -18.4533, -19.1586, -19.2602, -14.9386, -17.791, -16.6807, -13.8132, -11.6916, -10.6033, -11.1845, -14.2185, -15.1585, -13.7863, -14.0497, -13.9033, -14.034, -13.9733, -12.4724, -12.2543, -15.3642, -20.0372, -19.1282, -18.2676, -20.3262, -22.0784, -22.2169, -25.7848, -35.7513, -31.2365, -26.618, -27.3011, -28.2263, -24.2013, -21.1366, -20.5961, -23.483, -25.3802, -23.7441, -22.4506, -20.2223, -19.6003, -23.0492, -25.0567, -23.2175, -22.8159, -22.8124, -26.4034, -32.1443, -27.7134, -26.8382, -25.585, -25.9548, -27.2722, -27.6363, -25.1193, -23.5495, -24.5934, -25.4769, -27.2681, -27.9092, -32.8622, -45.5226, -37.5646, -35.4231, -34.9526, -40.2216, -49.4441, -68.1204, -75.6891, ...]"
      ]
     },
     "execution_count": 12,
     "metadata": {},
     "output_type": "execute_result"
    }
   ],
   "source": [
    "from pyspark.ml.functions import array_to_vector\n",
    "# => sql df to use sparkML functions\n",
    "data_sqldf = data_psdf.to_spark()\n",
    "\n",
    "# Converts MSP column of array of numeric type into a column of pyspark.ml.linalg.DenseVector instances\n",
    "data_sqldf = data_sqldf.withColumn(\"features\", array_to_vector('MSP').alias('features'))\n",
    "\n",
    "data_psdf = data_sqldf.to_pandas_on_spark()\n",
    "data_psdf.head(3)"
   ]
  },
  {
   "cell_type": "markdown",
   "metadata": {},
   "source": [
    "## Dimensionality reduction"
   ]
  },
  {
   "cell_type": "markdown",
   "metadata": {},
   "source": [
    "The size of the MSP parameter array is too big for modeling: "
   ]
  },
  {
   "cell_type": "code",
   "execution_count": 13,
   "metadata": {},
   "outputs": [
    {
     "name": "stderr",
     "output_type": "stream",
     "text": [
      "/home/zenbook/.local/lib/python3.9/site-packages/pyspark/sql/pandas/conversion.py:87: UserWarning: toPandas attempted Arrow optimization because 'spark.sql.execution.arrow.pyspark.enabled' is set to true; however, failed by the reason below:\n",
      "  Unsupported type in conversion to Arrow: VectorUDT\n",
      "Attempting non-optimization as 'spark.sql.execution.arrow.pyspark.fallback.enabled' is set to true.\n",
      "  warnings.warn(msg)\n",
      "22/04/10 10:07:25 WARN WindowExec: No Partition Defined for Window operation! Moving all data to a single partition, this can cause serious performance degradation.\n",
      "22/04/10 10:07:25 WARN WindowExec: No Partition Defined for Window operation! Moving all data to a single partition, this can cause serious performance degradation.\n",
      "22/04/10 10:07:25 WARN TaskSetManager: Stage 39 contains a task of very large size (5223 KiB). The maximum recommended task size is 1000 KiB.\n",
      "22/04/10 10:07:25 WARN WindowExec: No Partition Defined for Window operation! Moving all data to a single partition, this can cause serious performance degradation.\n"
     ]
    },
    {
     "name": "stdout",
     "output_type": "stream",
     "text": [
      "Size of MSP array: 101\n"
     ]
    }
   ],
   "source": [
    "array_size = len(data_psdf.iloc[0][\"MSP\"])\n",
    "print(f\"Size of MSP array: {array_size}\")"
   ]
  },
  {
   "cell_type": "markdown",
   "metadata": {},
   "source": [
    "PCA is selected because Linear Discriminant Analysis is not avaible on SparkML"
   ]
  },
  {
   "cell_type": "markdown",
   "metadata": {},
   "source": [
    "### Searching for 90% explained variance"
   ]
  },
  {
   "cell_type": "code",
   "execution_count": 14,
   "metadata": {},
   "outputs": [
    {
     "name": "stderr",
     "output_type": "stream",
     "text": [
      "22/04/10 10:07:26 WARN TaskSetManager: Stage 42 contains a task of very large size (5223 KiB). The maximum recommended task size is 1000 KiB.\n",
      "22/04/10 10:07:26 WARN TaskSetManager: Stage 43 contains a task of very large size (5223 KiB). The maximum recommended task size is 1000 KiB.\n",
      "22/04/10 10:07:26 WARN TaskSetManager: Stage 44 contains a task of very large size (5223 KiB). The maximum recommended task size is 1000 KiB.\n",
      "22/04/10 10:07:27 WARN TaskSetManager: Stage 45 contains a task of very large size (5223 KiB). The maximum recommended task size is 1000 KiB.\n",
      "22/04/10 10:07:28 WARN TaskSetManager: Stage 46 contains a task of very large size (5223 KiB). The maximum recommended task size is 1000 KiB.\n",
      "22/04/10 10:07:29 WARN LAPACK: Failed to load implementation from: com.github.fommil.netlib.NativeSystemLAPACK\n",
      "22/04/10 10:07:29 WARN LAPACK: Failed to load implementation from: com.github.fommil.netlib.NativeRefLAPACK\n"
     ]
    }
   ],
   "source": [
    "from pyspark.ml.feature import PCA\n",
    "\n",
    "pca = PCA(k=40, inputCol=\"features\", outputCol=\"pca_features\")\n",
    "\n",
    "model_pca_tuning = pca.fit(data_sqldf)\n"
   ]
  },
  {
   "cell_type": "markdown",
   "metadata": {},
   "source": [
    "Explained variance:"
   ]
  },
  {
   "cell_type": "code",
   "execution_count": 15,
   "metadata": {},
   "outputs": [
    {
     "data": {
      "text/plain": [
       "Text(0, 0.5, 'Explained Variance')"
      ]
     },
     "execution_count": 15,
     "metadata": {},
     "output_type": "execute_result"
    },
    {
     "data": {
      "image/png": "[encoded data removed]",
      "text/plain": [
       "<Figure size 720x360 with 1 Axes>"
      ]
     },
     "metadata": {
      "needs_background": "light"
     },
     "output_type": "display_data"
    }
   ],
   "source": [
    "explain_var = model_pca_tuning.explainedVariance\n",
    "explain_var.toArray().cumsum()\n",
    "\n",
    "plt.figure(figsize=(10,5))\n",
    "\n",
    "plt.plot(explain_var.toArray().cumsum())\n",
    "plt.xticks(np.arange(1, 40, 1))\n",
    "plt.grid()\n",
    "plt.title(\"MSP PCA results\")\n",
    "plt.xlabel(\"EigenVector\")\n",
    "plt.ylabel(\"Explained Variance\")"
   ]
  },
  {
   "cell_type": "markdown",
   "metadata": {},
   "source": [
    "25 eigen-vectors explain 90% of the total data variance."
   ]
  },
  {
   "cell_type": "code",
   "execution_count": 16,
   "metadata": {},
   "outputs": [
    {
     "name": "stderr",
     "output_type": "stream",
     "text": [
      "22/04/10 10:07:30 WARN TaskSetManager: Stage 47 contains a task of very large size (5223 KiB). The maximum recommended task size is 1000 KiB.\n",
      "22/04/10 10:07:30 WARN TaskSetManager: Stage 48 contains a task of very large size (5223 KiB). The maximum recommended task size is 1000 KiB.\n",
      "22/04/10 10:07:30 WARN TaskSetManager: Stage 49 contains a task of very large size (5223 KiB). The maximum recommended task size is 1000 KiB.\n",
      "22/04/10 10:07:31 WARN TaskSetManager: Stage 50 contains a task of very large size (5223 KiB). The maximum recommended task size is 1000 KiB.\n",
      "22/04/10 10:07:31 WARN TaskSetManager: Stage 51 contains a task of very large size (5223 KiB). The maximum recommended task size is 1000 KiB.\n",
      "                                                                                \r"
     ]
    }
   ],
   "source": [
    "pca = PCA(k=25, inputCol=\"features\", outputCol=\"pca_features\")\n",
    "model_pca = pca.fit(data_sqldf)\n",
    "\n",
    "# project data set\n",
    "data_proj_sqldf = model_pca.transform(data_sqldf)"
   ]
  },
  {
   "cell_type": "markdown",
   "metadata": {},
   "source": [
    "### format parameters"
   ]
  },
  {
   "cell_type": "code",
   "execution_count": 17,
   "metadata": {},
   "outputs": [
    {
     "name": "stderr",
     "output_type": "stream",
     "text": [
      "22/04/10 10:07:32 WARN WindowExec: No Partition Defined for Window operation! Moving all data to a single partition, this can cause serious performance degradation.\n",
      "22/04/10 10:07:32 WARN WindowExec: No Partition Defined for Window operation! Moving all data to a single partition, this can cause serious performance degradation.\n",
      "22/04/10 10:07:32 WARN TaskSetManager: Stage 52 contains a task of very large size (5223 KiB). The maximum recommended task size is 1000 KiB.\n"
     ]
    },
    {
     "data": {
      "text/html": [
       "<div>\n",
       "<style scoped>\n",
       "    .dataframe tbody tr th:only-of-type {\n",
       "        vertical-align: middle;\n",
       "    }\n",
       "\n",
       "    .dataframe tbody tr th {\n",
       "        vertical-align: top;\n",
       "    }\n",
       "\n",
       "    .dataframe thead th {\n",
       "        text-align: right;\n",
       "    }\n",
       "</style>\n",
       "<table border=\"1\" class=\"dataframe\">\n",
       "  <thead>\n",
       "    <tr style=\"text-align: right;\">\n",
       "      <th></th>\n",
       "      <th>label</th>\n",
       "      <th>peak_to_peak</th>\n",
       "      <th>eigen_vec</th>\n",
       "    </tr>\n",
       "  </thead>\n",
       "  <tbody>\n",
       "    <tr>\n",
       "      <th>0</th>\n",
       "      <td>1</td>\n",
       "      <td>50.2422</td>\n",
       "      <td>[223.42572149351003, 11.216241200228666, -142....</td>\n",
       "    </tr>\n",
       "    <tr>\n",
       "      <th>1</th>\n",
       "      <td>1</td>\n",
       "      <td>55.0377</td>\n",
       "      <td>[172.46215141896158, 11.390818317603765, -110....</td>\n",
       "    </tr>\n",
       "    <tr>\n",
       "      <th>2</th>\n",
       "      <td>1</td>\n",
       "      <td>44.9439</td>\n",
       "      <td>[238.112547022345, -4.903540332511209, -135.01...</td>\n",
       "    </tr>\n",
       "  </tbody>\n",
       "</table>\n",
       "</div>"
      ],
      "text/plain": [
       "   label  peak_to_peak                                                                                                                                                                                                                                                                                                                                                                                                                                                                                                                 eigen_vec\n",
       "0      1       50.2422         [223.42572149351003, 11.216241200228666, -142.91931266736128, -10.643588748434516, -67.8703654303477, -22.1643513600472, 14.075185998726559, -53.0404988481819, -10.7013446979961, -64.19134658082695, 15.351937946470631, 35.65041556513881, 4.988683771153507, -18.596385138374604, 6.600400430628022, -24.47052177833048, -3.3481935335392348, 27.701094884274156, -39.080991481857076, 19.638484534772996, 8.857874012475943, -11.699885815546837, 24.590048347710848, -27.46863661191547, 7.956810112144263]\n",
       "1      1       55.0377  [172.46215141896158, 11.390818317603765, -110.02019833138488, -16.789943434052148, -68.29109880928225, -28.519546829122277, 5.647415919796663, -40.769006208862216, -18.914926456683453, -45.05069998131751, 18.29580451390421, 13.541150462895613, -35.63092443123703, -16.473065169786988, 7.1162072254264865, -34.31451990912658, -9.295137702997124, 31.175520818383923, -51.105404061253545, 30.071326337187227, 24.48073433268444, -28.327592278901676, 33.78331906677776, -21.635972427301354, 5.724563352233867]\n",
       "2      1       44.9439         [238.112547022345, -4.903540332511209, -135.0169135317966, -7.175953761394497, -79.35448845843669, -31.52476334813651, 26.780210039060247, -59.31574106770179, -4.163783418439063, -53.70459588997491, 14.962800609847498, 13.17143448406413, -10.86215277258747, -15.996552411992688, 7.598023408669515, -26.597926229351533, -6.279654819889265, 33.62111714635688, -41.740004497122555, 39.64807211417646, 22.44078536036448, -14.997608163356057, 33.36631055270113, -15.496912402840104, -6.779415544373998]"
      ]
     },
     "execution_count": 17,
     "metadata": {},
     "output_type": "execute_result"
    }
   ],
   "source": [
    "from pyspark.ml.functions import vector_to_array\n",
    "\n",
    "data_sqldf = data_proj_sqldf.withColumn(\"eigen_vec\", vector_to_array(\"pca_features\").alias(\"eigen_vec\")).select(\n",
    "    ['label', 'peak_to_peak', 'eigen_vec'])\n",
    "\n",
    "data_psdf = data_sqldf.to_pandas_on_spark()\n",
    "\n",
    "data_psdf.head(3)"
   ]
  },
  {
   "cell_type": "code",
   "execution_count": 18,
   "metadata": {},
   "outputs": [
    {
     "name": "stderr",
     "output_type": "stream",
     "text": [
      "22/04/10 10:07:33 WARN WindowExec: No Partition Defined for Window operation! Moving all data to a single partition, this can cause serious performance degradation.\n",
      "22/04/10 10:07:33 WARN WindowExec: No Partition Defined for Window operation! Moving all data to a single partition, this can cause serious performance degradation.\n",
      "22/04/10 10:07:33 WARN TaskSetManager: Stage 54 contains a task of very large size (5223 KiB). The maximum recommended task size is 1000 KiB.\n",
      "22/04/10 10:07:33 WARN WindowExec: No Partition Defined for Window operation! Moving all data to a single partition, this can cause serious performance degradation.\n",
      "22/04/10 10:07:33 WARN WindowExec: No Partition Defined for Window operation! Moving all data to a single partition, this can cause serious performance degradation.\n",
      "22/04/10 10:07:33 WARN TaskSetManager: Stage 56 contains a task of very large size (5223 KiB). The maximum recommended task size is 1000 KiB.\n",
      "22/04/10 10:07:33 WARN WindowExec: No Partition Defined for Window operation! Moving all data to a single partition, this can cause serious performance degradation.\n",
      "22/04/10 10:07:33 WARN WindowExec: No Partition Defined for Window operation! Moving all data to a single partition, this can cause serious performance degradation.\n",
      "22/04/10 10:07:33 WARN TaskSetManager: Stage 58 contains a task of very large size (5223 KiB). The maximum recommended task size is 1000 KiB.\n",
      "22/04/10 10:07:34 WARN WindowExec: No Partition Defined for Window operation! Moving all data to a single partition, this can cause serious performance degradation.\n",
      "22/04/10 10:07:34 WARN WindowExec: No Partition Defined for Window operation! Moving all data to a single partition, this can cause serious performance degradation.\n",
      "22/04/10 10:07:34 WARN TaskSetManager: Stage 60 contains a task of very large size (5223 KiB). The maximum recommended task size is 1000 KiB.\n",
      "22/04/10 10:07:34 WARN WindowExec: No Partition Defined for Window operation! Moving all data to a single partition, this can cause serious performance degradation.\n",
      "22/04/10 10:07:34 WARN WindowExec: No Partition Defined for Window operation! Moving all data to a single partition, this can cause serious performance degradation.\n",
      "22/04/10 10:07:34 WARN TaskSetManager: Stage 62 contains a task of very large size (5223 KiB). The maximum recommended task size is 1000 KiB.\n",
      "22/04/10 10:07:34 WARN WindowExec: No Partition Defined for Window operation! Moving all data to a single partition, this can cause serious performance degradation.\n",
      "22/04/10 10:07:34 WARN WindowExec: No Partition Defined for Window operation! Moving all data to a single partition, this can cause serious performance degradation.\n",
      "22/04/10 10:07:34 WARN TaskSetManager: Stage 64 contains a task of very large size (5223 KiB). The maximum recommended task size is 1000 KiB.\n",
      "22/04/10 10:07:35 WARN WindowExec: No Partition Defined for Window operation! Moving all data to a single partition, this can cause serious performance degradation.\n",
      "22/04/10 10:07:35 WARN WindowExec: No Partition Defined for Window operation! Moving all data to a single partition, this can cause serious performance degradation.\n",
      "22/04/10 10:07:35 WARN TaskSetManager: Stage 66 contains a task of very large size (5223 KiB). The maximum recommended task size is 1000 KiB.\n",
      "22/04/10 10:07:35 WARN WindowExec: No Partition Defined for Window operation! Moving all data to a single partition, this can cause serious performance degradation.\n",
      "22/04/10 10:07:35 WARN WindowExec: No Partition Defined for Window operation! Moving all data to a single partition, this can cause serious performance degradation.\n",
      "22/04/10 10:07:35 WARN TaskSetManager: Stage 68 contains a task of very large size (5223 KiB). The maximum recommended task size is 1000 KiB.\n",
      "22/04/10 10:07:35 WARN WindowExec: No Partition Defined for Window operation! Moving all data to a single partition, this can cause serious performance degradation.\n",
      "22/04/10 10:07:35 WARN WindowExec: No Partition Defined for Window operation! Moving all data to a single partition, this can cause serious performance degradation.\n",
      "22/04/10 10:07:35 WARN TaskSetManager: Stage 70 contains a task of very large size (5223 KiB). The maximum recommended task size is 1000 KiB.\n",
      "22/04/10 10:07:36 WARN WindowExec: No Partition Defined for Window operation! Moving all data to a single partition, this can cause serious performance degradation.\n",
      "22/04/10 10:07:36 WARN WindowExec: No Partition Defined for Window operation! Moving all data to a single partition, this can cause serious performance degradation.\n",
      "22/04/10 10:07:36 WARN TaskSetManager: Stage 72 contains a task of very large size (5223 KiB). The maximum recommended task size is 1000 KiB.\n",
      "22/04/10 10:07:36 WARN WindowExec: No Partition Defined for Window operation! Moving all data to a single partition, this can cause serious performance degradation.\n",
      "22/04/10 10:07:36 WARN WindowExec: No Partition Defined for Window operation! Moving all data to a single partition, this can cause serious performance degradation.\n",
      "22/04/10 10:07:36 WARN TaskSetManager: Stage 74 contains a task of very large size (5223 KiB). The maximum recommended task size is 1000 KiB.\n",
      "22/04/10 10:07:36 WARN WindowExec: No Partition Defined for Window operation! Moving all data to a single partition, this can cause serious performance degradation.\n",
      "22/04/10 10:07:36 WARN WindowExec: No Partition Defined for Window operation! Moving all data to a single partition, this can cause serious performance degradation.\n",
      "22/04/10 10:07:36 WARN TaskSetManager: Stage 76 contains a task of very large size (5223 KiB). The maximum recommended task size is 1000 KiB.\n",
      "22/04/10 10:07:36 WARN WindowExec: No Partition Defined for Window operation! Moving all data to a single partition, this can cause serious performance degradation.\n",
      "22/04/10 10:07:36 WARN WindowExec: No Partition Defined for Window operation! Moving all data to a single partition, this can cause serious performance degradation.\n",
      "22/04/10 10:07:36 WARN TaskSetManager: Stage 78 contains a task of very large size (5223 KiB). The maximum recommended task size is 1000 KiB.\n",
      "22/04/10 10:07:37 WARN WindowExec: No Partition Defined for Window operation! Moving all data to a single partition, this can cause serious performance degradation.\n",
      "22/04/10 10:07:37 WARN WindowExec: No Partition Defined for Window operation! Moving all data to a single partition, this can cause serious performance degradation.\n",
      "22/04/10 10:07:37 WARN TaskSetManager: Stage 80 contains a task of very large size (5223 KiB). The maximum recommended task size is 1000 KiB.\n",
      "22/04/10 10:07:37 WARN WindowExec: No Partition Defined for Window operation! Moving all data to a single partition, this can cause serious performance degradation.\n",
      "22/04/10 10:07:37 WARN WindowExec: No Partition Defined for Window operation! Moving all data to a single partition, this can cause serious performance degradation.\n",
      "22/04/10 10:07:37 WARN TaskSetManager: Stage 82 contains a task of very large size (5223 KiB). The maximum recommended task size is 1000 KiB.\n",
      "22/04/10 10:07:37 WARN WindowExec: No Partition Defined for Window operation! Moving all data to a single partition, this can cause serious performance degradation.\n",
      "22/04/10 10:07:37 WARN WindowExec: No Partition Defined for Window operation! Moving all data to a single partition, this can cause serious performance degradation.\n",
      "22/04/10 10:07:37 WARN TaskSetManager: Stage 84 contains a task of very large size (5223 KiB). The maximum recommended task size is 1000 KiB.\n",
      "22/04/10 10:07:38 WARN WindowExec: No Partition Defined for Window operation! Moving all data to a single partition, this can cause serious performance degradation.\n",
      "22/04/10 10:07:38 WARN WindowExec: No Partition Defined for Window operation! Moving all data to a single partition, this can cause serious performance degradation.\n",
      "22/04/10 10:07:38 WARN TaskSetManager: Stage 86 contains a task of very large size (5223 KiB). The maximum recommended task size is 1000 KiB.\n",
      "22/04/10 10:07:38 WARN WindowExec: No Partition Defined for Window operation! Moving all data to a single partition, this can cause serious performance degradation.\n",
      "22/04/10 10:07:38 WARN WindowExec: No Partition Defined for Window operation! Moving all data to a single partition, this can cause serious performance degradation.\n",
      "22/04/10 10:07:38 WARN TaskSetManager: Stage 88 contains a task of very large size (5223 KiB). The maximum recommended task size is 1000 KiB.\n",
      "22/04/10 10:07:38 WARN WindowExec: No Partition Defined for Window operation! Moving all data to a single partition, this can cause serious performance degradation.\n",
      "22/04/10 10:07:38 WARN WindowExec: No Partition Defined for Window operation! Moving all data to a single partition, this can cause serious performance degradation.\n",
      "22/04/10 10:07:38 WARN TaskSetManager: Stage 90 contains a task of very large size (5223 KiB). The maximum recommended task size is 1000 KiB.\n",
      "22/04/10 10:07:38 WARN WindowExec: No Partition Defined for Window operation! Moving all data to a single partition, this can cause serious performance degradation.\n",
      "22/04/10 10:07:38 WARN WindowExec: No Partition Defined for Window operation! Moving all data to a single partition, this can cause serious performance degradation.\n",
      "22/04/10 10:07:39 WARN TaskSetManager: Stage 92 contains a task of very large size (5223 KiB). The maximum recommended task size is 1000 KiB.\n",
      "22/04/10 10:07:39 WARN WindowExec: No Partition Defined for Window operation! Moving all data to a single partition, this can cause serious performance degradation.\n",
      "22/04/10 10:07:39 WARN WindowExec: No Partition Defined for Window operation! Moving all data to a single partition, this can cause serious performance degradation.\n",
      "22/04/10 10:07:39 WARN TaskSetManager: Stage 94 contains a task of very large size (5223 KiB). The maximum recommended task size is 1000 KiB.\n",
      "22/04/10 10:07:39 WARN WindowExec: No Partition Defined for Window operation! Moving all data to a single partition, this can cause serious performance degradation.\n",
      "22/04/10 10:07:39 WARN WindowExec: No Partition Defined for Window operation! Moving all data to a single partition, this can cause serious performance degradation.\n",
      "22/04/10 10:07:39 WARN TaskSetManager: Stage 96 contains a task of very large size (5223 KiB). The maximum recommended task size is 1000 KiB.\n",
      "22/04/10 10:07:39 WARN WindowExec: No Partition Defined for Window operation! Moving all data to a single partition, this can cause serious performance degradation.\n",
      "22/04/10 10:07:39 WARN WindowExec: No Partition Defined for Window operation! Moving all data to a single partition, this can cause serious performance degradation.\n",
      "22/04/10 10:07:39 WARN TaskSetManager: Stage 98 contains a task of very large size (5223 KiB). The maximum recommended task size is 1000 KiB.\n",
      "22/04/10 10:07:40 WARN WindowExec: No Partition Defined for Window operation! Moving all data to a single partition, this can cause serious performance degradation.\n",
      "22/04/10 10:07:40 WARN WindowExec: No Partition Defined for Window operation! Moving all data to a single partition, this can cause serious performance degradation.\n",
      "22/04/10 10:07:40 WARN TaskSetManager: Stage 100 contains a task of very large size (5223 KiB). The maximum recommended task size is 1000 KiB.\n",
      "22/04/10 10:07:40 WARN WindowExec: No Partition Defined for Window operation! Moving all data to a single partition, this can cause serious performance degradation.\n",
      "22/04/10 10:07:40 WARN WindowExec: No Partition Defined for Window operation! Moving all data to a single partition, this can cause serious performance degradation.\n",
      "22/04/10 10:07:40 WARN TaskSetManager: Stage 102 contains a task of very large size (5223 KiB). The maximum recommended task size is 1000 KiB.\n"
     ]
    }
   ],
   "source": [
    "# Select 90% of variance => 25 EV\n",
    "ev_size = 25\n",
    "\n",
    "for count_ev in range(0, ev_size, 1):\n",
    "    ev_name = \"ev\"+ str(count_ev+1)\n",
    "    data_psdf[ev_name] = data_psdf[\"eigen_vec\"].apply(lambda row: row[count_ev])"
   ]
  },
  {
   "cell_type": "code",
   "execution_count": 19,
   "metadata": {},
   "outputs": [
    {
     "name": "stderr",
     "output_type": "stream",
     "text": [
      "22/04/10 10:07:40 WARN WindowExec: No Partition Defined for Window operation! Moving all data to a single partition, this can cause serious performance degradation.\n",
      "22/04/10 10:07:40 WARN WindowExec: No Partition Defined for Window operation! Moving all data to a single partition, this can cause serious performance degradation.\n",
      "22/04/10 10:07:40 WARN package: Truncated the string representation of a plan since it was too large. This behavior can be adjusted by setting 'spark.sql.debug.maxToStringFields'.\n",
      "22/04/10 10:07:41 WARN TaskSetManager: Stage 104 contains a task of very large size (5223 KiB). The maximum recommended task size is 1000 KiB.\n"
     ]
    },
    {
     "data": {
      "text/html": [
       "<div>\n",
       "<style scoped>\n",
       "    .dataframe tbody tr th:only-of-type {\n",
       "        vertical-align: middle;\n",
       "    }\n",
       "\n",
       "    .dataframe tbody tr th {\n",
       "        vertical-align: top;\n",
       "    }\n",
       "\n",
       "    .dataframe thead th {\n",
       "        text-align: right;\n",
       "    }\n",
       "</style>\n",
       "<table border=\"1\" class=\"dataframe\">\n",
       "  <thead>\n",
       "    <tr style=\"text-align: right;\">\n",
       "      <th></th>\n",
       "      <th>label</th>\n",
       "      <th>peak_to_peak</th>\n",
       "      <th>ev1</th>\n",
       "      <th>ev2</th>\n",
       "      <th>ev3</th>\n",
       "      <th>ev4</th>\n",
       "      <th>ev5</th>\n",
       "      <th>ev6</th>\n",
       "      <th>ev7</th>\n",
       "      <th>ev8</th>\n",
       "      <th>ev9</th>\n",
       "      <th>ev10</th>\n",
       "      <th>ev11</th>\n",
       "      <th>ev12</th>\n",
       "      <th>ev13</th>\n",
       "      <th>ev14</th>\n",
       "      <th>ev15</th>\n",
       "      <th>ev16</th>\n",
       "      <th>ev17</th>\n",
       "      <th>ev18</th>\n",
       "      <th>ev19</th>\n",
       "      <th>ev20</th>\n",
       "      <th>ev21</th>\n",
       "      <th>ev22</th>\n",
       "      <th>ev23</th>\n",
       "      <th>ev24</th>\n",
       "      <th>ev25</th>\n",
       "    </tr>\n",
       "  </thead>\n",
       "  <tbody>\n",
       "    <tr>\n",
       "      <th>0</th>\n",
       "      <td>1</td>\n",
       "      <td>50.2422</td>\n",
       "      <td>223.425721</td>\n",
       "      <td>11.216241</td>\n",
       "      <td>-142.919313</td>\n",
       "      <td>-10.643589</td>\n",
       "      <td>-67.870365</td>\n",
       "      <td>-22.164351</td>\n",
       "      <td>14.075186</td>\n",
       "      <td>-53.040499</td>\n",
       "      <td>-10.701345</td>\n",
       "      <td>-64.191347</td>\n",
       "      <td>15.351938</td>\n",
       "      <td>35.650416</td>\n",
       "      <td>4.988684</td>\n",
       "      <td>-18.596385</td>\n",
       "      <td>6.600400</td>\n",
       "      <td>-24.470522</td>\n",
       "      <td>-3.348194</td>\n",
       "      <td>27.701095</td>\n",
       "      <td>-39.080991</td>\n",
       "      <td>19.638485</td>\n",
       "      <td>8.857874</td>\n",
       "      <td>-11.699886</td>\n",
       "      <td>24.590048</td>\n",
       "      <td>-27.468637</td>\n",
       "      <td>7.956810</td>\n",
       "    </tr>\n",
       "    <tr>\n",
       "      <th>1</th>\n",
       "      <td>1</td>\n",
       "      <td>55.0377</td>\n",
       "      <td>172.462151</td>\n",
       "      <td>11.390818</td>\n",
       "      <td>-110.020198</td>\n",
       "      <td>-16.789943</td>\n",
       "      <td>-68.291099</td>\n",
       "      <td>-28.519547</td>\n",
       "      <td>5.647416</td>\n",
       "      <td>-40.769006</td>\n",
       "      <td>-18.914926</td>\n",
       "      <td>-45.050700</td>\n",
       "      <td>18.295805</td>\n",
       "      <td>13.541150</td>\n",
       "      <td>-35.630924</td>\n",
       "      <td>-16.473065</td>\n",
       "      <td>7.116207</td>\n",
       "      <td>-34.314520</td>\n",
       "      <td>-9.295138</td>\n",
       "      <td>31.175521</td>\n",
       "      <td>-51.105404</td>\n",
       "      <td>30.071326</td>\n",
       "      <td>24.480734</td>\n",
       "      <td>-28.327592</td>\n",
       "      <td>33.783319</td>\n",
       "      <td>-21.635972</td>\n",
       "      <td>5.724563</td>\n",
       "    </tr>\n",
       "    <tr>\n",
       "      <th>2</th>\n",
       "      <td>1</td>\n",
       "      <td>44.9439</td>\n",
       "      <td>238.112547</td>\n",
       "      <td>-4.903540</td>\n",
       "      <td>-135.016914</td>\n",
       "      <td>-7.175954</td>\n",
       "      <td>-79.354488</td>\n",
       "      <td>-31.524763</td>\n",
       "      <td>26.780210</td>\n",
       "      <td>-59.315741</td>\n",
       "      <td>-4.163783</td>\n",
       "      <td>-53.704596</td>\n",
       "      <td>14.962801</td>\n",
       "      <td>13.171434</td>\n",
       "      <td>-10.862153</td>\n",
       "      <td>-15.996552</td>\n",
       "      <td>7.598023</td>\n",
       "      <td>-26.597926</td>\n",
       "      <td>-6.279655</td>\n",
       "      <td>33.621117</td>\n",
       "      <td>-41.740004</td>\n",
       "      <td>39.648072</td>\n",
       "      <td>22.440785</td>\n",
       "      <td>-14.997608</td>\n",
       "      <td>33.366311</td>\n",
       "      <td>-15.496912</td>\n",
       "      <td>-6.779416</td>\n",
       "    </tr>\n",
       "  </tbody>\n",
       "</table>\n",
       "</div>"
      ],
      "text/plain": [
       "   label  peak_to_peak         ev1        ev2         ev3        ev4        ev5        ev6        ev7        ev8        ev9       ev10       ev11       ev12       ev13       ev14      ev15       ev16      ev17       ev18       ev19       ev20       ev21       ev22       ev23       ev24      ev25\n",
       "0      1       50.2422  223.425721  11.216241 -142.919313 -10.643589 -67.870365 -22.164351  14.075186 -53.040499 -10.701345 -64.191347  15.351938  35.650416   4.988684 -18.596385  6.600400 -24.470522 -3.348194  27.701095 -39.080991  19.638485   8.857874 -11.699886  24.590048 -27.468637  7.956810\n",
       "1      1       55.0377  172.462151  11.390818 -110.020198 -16.789943 -68.291099 -28.519547   5.647416 -40.769006 -18.914926 -45.050700  18.295805  13.541150 -35.630924 -16.473065  7.116207 -34.314520 -9.295138  31.175521 -51.105404  30.071326  24.480734 -28.327592  33.783319 -21.635972  5.724563\n",
       "2      1       44.9439  238.112547  -4.903540 -135.016914  -7.175954 -79.354488 -31.524763  26.780210 -59.315741  -4.163783 -53.704596  14.962801  13.171434 -10.862153 -15.996552  7.598023 -26.597926 -6.279655  33.621117 -41.740004  39.648072  22.440785 -14.997608  33.366311 -15.496912 -6.779416"
      ]
     },
     "execution_count": 19,
     "metadata": {},
     "output_type": "execute_result"
    }
   ],
   "source": [
    "data_train_psdf = data_psdf.drop(columns=[\"eigen_vec\"])\n",
    "data_train_psdf.head(3)"
   ]
  },
  {
   "cell_type": "markdown",
   "metadata": {},
   "source": [
    "## XGBoost Trees"
   ]
  },
  {
   "cell_type": "markdown",
   "metadata": {},
   "source": [
    "The XGBoost model is a series of trees (like a random forest).\n",
    "\n",
    "But XGBoost trees are built based on the latest tree result. Parallelization is worthless."
   ]
  },
  {
   "cell_type": "code",
   "execution_count": 20,
   "metadata": {},
   "outputs": [
    {
     "name": "stderr",
     "output_type": "stream",
     "text": [
      "22/04/10 10:07:41 WARN WindowExec: No Partition Defined for Window operation! Moving all data to a single partition, this can cause serious performance degradation.\n",
      "22/04/10 10:07:41 WARN WindowExec: No Partition Defined for Window operation! Moving all data to a single partition, this can cause serious performance degradation.\n",
      "22/04/10 10:07:41 WARN TaskSetManager: Stage 106 contains a task of very large size (5223 KiB). The maximum recommended task size is 1000 KiB.\n",
      "22/04/10 10:07:41 WARN WindowExec: No Partition Defined for Window operation! Moving all data to a single partition, this can cause serious performance degradation.\n"
     ]
    },
    {
     "data": {
      "text/html": [
       "<div>\n",
       "<style scoped>\n",
       "    .dataframe tbody tr th:only-of-type {\n",
       "        vertical-align: middle;\n",
       "    }\n",
       "\n",
       "    .dataframe tbody tr th {\n",
       "        vertical-align: top;\n",
       "    }\n",
       "\n",
       "    .dataframe thead th {\n",
       "        text-align: right;\n",
       "    }\n",
       "</style>\n",
       "<table border=\"1\" class=\"dataframe\">\n",
       "  <thead>\n",
       "    <tr style=\"text-align: right;\">\n",
       "      <th></th>\n",
       "      <th>label</th>\n",
       "      <th>peak_to_peak</th>\n",
       "      <th>eigen_vec</th>\n",
       "      <th>ev1</th>\n",
       "      <th>ev2</th>\n",
       "      <th>ev3</th>\n",
       "      <th>ev4</th>\n",
       "      <th>ev5</th>\n",
       "      <th>ev6</th>\n",
       "      <th>ev7</th>\n",
       "      <th>...</th>\n",
       "      <th>ev16</th>\n",
       "      <th>ev17</th>\n",
       "      <th>ev18</th>\n",
       "      <th>ev19</th>\n",
       "      <th>ev20</th>\n",
       "      <th>ev21</th>\n",
       "      <th>ev22</th>\n",
       "      <th>ev23</th>\n",
       "      <th>ev24</th>\n",
       "      <th>ev25</th>\n",
       "    </tr>\n",
       "  </thead>\n",
       "  <tbody>\n",
       "    <tr>\n",
       "      <th>0</th>\n",
       "      <td>1</td>\n",
       "      <td>50.2422</td>\n",
       "      <td>[223.42572149351003, 11.216241200228666, -142....</td>\n",
       "      <td>223.425721</td>\n",
       "      <td>11.216241</td>\n",
       "      <td>-142.919313</td>\n",
       "      <td>-10.643589</td>\n",
       "      <td>-67.870365</td>\n",
       "      <td>-22.164351</td>\n",
       "      <td>14.075186</td>\n",
       "      <td>...</td>\n",
       "      <td>-24.470522</td>\n",
       "      <td>-3.348194</td>\n",
       "      <td>27.701095</td>\n",
       "      <td>-39.080991</td>\n",
       "      <td>19.638485</td>\n",
       "      <td>8.857874</td>\n",
       "      <td>-11.699886</td>\n",
       "      <td>24.590048</td>\n",
       "      <td>-27.468637</td>\n",
       "      <td>7.956810</td>\n",
       "    </tr>\n",
       "    <tr>\n",
       "      <th>1</th>\n",
       "      <td>1</td>\n",
       "      <td>55.0377</td>\n",
       "      <td>[172.46215141896158, 11.390818317603765, -110....</td>\n",
       "      <td>172.462151</td>\n",
       "      <td>11.390818</td>\n",
       "      <td>-110.020198</td>\n",
       "      <td>-16.789943</td>\n",
       "      <td>-68.291099</td>\n",
       "      <td>-28.519547</td>\n",
       "      <td>5.647416</td>\n",
       "      <td>...</td>\n",
       "      <td>-34.314520</td>\n",
       "      <td>-9.295138</td>\n",
       "      <td>31.175521</td>\n",
       "      <td>-51.105404</td>\n",
       "      <td>30.071326</td>\n",
       "      <td>24.480734</td>\n",
       "      <td>-28.327592</td>\n",
       "      <td>33.783319</td>\n",
       "      <td>-21.635972</td>\n",
       "      <td>5.724563</td>\n",
       "    </tr>\n",
       "    <tr>\n",
       "      <th>2</th>\n",
       "      <td>1</td>\n",
       "      <td>44.9439</td>\n",
       "      <td>[238.112547022345, -4.903540332511209, -135.01...</td>\n",
       "      <td>238.112547</td>\n",
       "      <td>-4.903540</td>\n",
       "      <td>-135.016914</td>\n",
       "      <td>-7.175954</td>\n",
       "      <td>-79.354488</td>\n",
       "      <td>-31.524763</td>\n",
       "      <td>26.780210</td>\n",
       "      <td>...</td>\n",
       "      <td>-26.597926</td>\n",
       "      <td>-6.279655</td>\n",
       "      <td>33.621117</td>\n",
       "      <td>-41.740004</td>\n",
       "      <td>39.648072</td>\n",
       "      <td>22.440785</td>\n",
       "      <td>-14.997608</td>\n",
       "      <td>33.366311</td>\n",
       "      <td>-15.496912</td>\n",
       "      <td>-6.779416</td>\n",
       "    </tr>\n",
       "    <tr>\n",
       "      <th>3</th>\n",
       "      <td>1</td>\n",
       "      <td>72.7624</td>\n",
       "      <td>[7.367667152476132, 3.1794577074233055, -115.7...</td>\n",
       "      <td>7.367667</td>\n",
       "      <td>3.179458</td>\n",
       "      <td>-115.774538</td>\n",
       "      <td>-5.080926</td>\n",
       "      <td>-65.201271</td>\n",
       "      <td>-13.907906</td>\n",
       "      <td>3.535402</td>\n",
       "      <td>...</td>\n",
       "      <td>-31.180537</td>\n",
       "      <td>-7.641818</td>\n",
       "      <td>10.503518</td>\n",
       "      <td>-37.524804</td>\n",
       "      <td>30.800294</td>\n",
       "      <td>19.907498</td>\n",
       "      <td>-22.203941</td>\n",
       "      <td>23.219282</td>\n",
       "      <td>-27.910632</td>\n",
       "      <td>1.647312</td>\n",
       "    </tr>\n",
       "    <tr>\n",
       "      <th>4</th>\n",
       "      <td>1</td>\n",
       "      <td>57.1313</td>\n",
       "      <td>[183.58886406421874, -49.92791257876021, -158....</td>\n",
       "      <td>183.588864</td>\n",
       "      <td>-49.927913</td>\n",
       "      <td>-158.776951</td>\n",
       "      <td>13.082657</td>\n",
       "      <td>-83.158088</td>\n",
       "      <td>-20.904950</td>\n",
       "      <td>10.476100</td>\n",
       "      <td>...</td>\n",
       "      <td>-36.732194</td>\n",
       "      <td>4.692566</td>\n",
       "      <td>15.101350</td>\n",
       "      <td>-31.512943</td>\n",
       "      <td>33.321361</td>\n",
       "      <td>23.848768</td>\n",
       "      <td>-13.930197</td>\n",
       "      <td>30.287154</td>\n",
       "      <td>-15.742309</td>\n",
       "      <td>-0.552047</td>\n",
       "    </tr>\n",
       "  </tbody>\n",
       "</table>\n",
       "<p>5 rows × 28 columns</p>\n",
       "</div>"
      ],
      "text/plain": [
       "   label  peak_to_peak                                          eigen_vec  \\\n",
       "0      1       50.2422  [223.42572149351003, 11.216241200228666, -142....   \n",
       "1      1       55.0377  [172.46215141896158, 11.390818317603765, -110....   \n",
       "2      1       44.9439  [238.112547022345, -4.903540332511209, -135.01...   \n",
       "3      1       72.7624  [7.367667152476132, 3.1794577074233055, -115.7...   \n",
       "4      1       57.1313  [183.58886406421874, -49.92791257876021, -158....   \n",
       "\n",
       "          ev1        ev2         ev3        ev4        ev5        ev6  \\\n",
       "0  223.425721  11.216241 -142.919313 -10.643589 -67.870365 -22.164351   \n",
       "1  172.462151  11.390818 -110.020198 -16.789943 -68.291099 -28.519547   \n",
       "2  238.112547  -4.903540 -135.016914  -7.175954 -79.354488 -31.524763   \n",
       "3    7.367667   3.179458 -115.774538  -5.080926 -65.201271 -13.907906   \n",
       "4  183.588864 -49.927913 -158.776951  13.082657 -83.158088 -20.904950   \n",
       "\n",
       "         ev7  ...       ev16      ev17       ev18       ev19       ev20  \\\n",
       "0  14.075186  ... -24.470522 -3.348194  27.701095 -39.080991  19.638485   \n",
       "1   5.647416  ... -34.314520 -9.295138  31.175521 -51.105404  30.071326   \n",
       "2  26.780210  ... -26.597926 -6.279655  33.621117 -41.740004  39.648072   \n",
       "3   3.535402  ... -31.180537 -7.641818  10.503518 -37.524804  30.800294   \n",
       "4  10.476100  ... -36.732194  4.692566  15.101350 -31.512943  33.321361   \n",
       "\n",
       "        ev21       ev22       ev23       ev24      ev25  \n",
       "0   8.857874 -11.699886  24.590048 -27.468637  7.956810  \n",
       "1  24.480734 -28.327592  33.783319 -21.635972  5.724563  \n",
       "2  22.440785 -14.997608  33.366311 -15.496912 -6.779416  \n",
       "3  19.907498 -22.203941  23.219282 -27.910632  1.647312  \n",
       "4  23.848768 -13.930197  30.287154 -15.742309 -0.552047  \n",
       "\n",
       "[5 rows x 28 columns]"
      ]
     },
     "execution_count": 20,
     "metadata": {},
     "output_type": "execute_result"
    }
   ],
   "source": [
    "\n",
    "df_data = data_psdf.to_pandas()\n",
    "df_data.head(5)"
   ]
  },
  {
   "cell_type": "code",
   "execution_count": 21,
   "metadata": {},
   "outputs": [],
   "source": [
    "X_data = df_data[['peak_to_peak', 'ev1', 'ev2', 'ev3', 'ev4', 'ev5', 'ev6',\n",
    "       'ev7', 'ev8', 'ev9', 'ev10', 'ev11', 'ev12', 'ev13', 'ev14', 'ev15',\n",
    "       'ev16', 'ev17', 'ev18', 'ev19', 'ev20', 'ev21', 'ev22', 'ev23', 'ev24',\n",
    "       'ev25']]\n",
    "y_data = df_data[\"label\"]"
   ]
  },
  {
   "cell_type": "code",
   "execution_count": 22,
   "metadata": {},
   "outputs": [
    {
     "name": "stdout",
     "output_type": "stream",
     "text": [
      "Size: Xtrain:(2922, 26), X_test:(626, 26), X_val:(627, 26)\n"
     ]
    }
   ],
   "source": [
    "from sklearn.model_selection import train_test_split\n",
    "import xgboost as xgb\n",
    "\n",
    "X_train, X_test, y_train, y_test = train_test_split(X_data, y_data, train_size=0.7) # train: 70%\n",
    "X_test, X_val, y_test, y_val = train_test_split(X_test, y_test, test_size=0.5) # Validation: 15%, Testing: 15%\n",
    "print(f\"Size: Xtrain:{X_train.shape}, X_test:{X_test.shape}, X_val:{X_val.shape}\")\n",
    "# convert to XGB matrix\n",
    "dtrain = xgb.DMatrix(X_train, label=y_train)\n",
    "dval = xgb.DMatrix(X_val, y_val)\n",
    "dtest = xgb.DMatrix(X_test, label=y_test)"
   ]
  },
  {
   "cell_type": "markdown",
   "metadata": {},
   "source": [
    "### Point of comparaison"
   ]
  },
  {
   "cell_type": "markdown",
   "metadata": {},
   "source": [
    "Dummy score on most frequent:"
   ]
  },
  {
   "cell_type": "code",
   "execution_count": 23,
   "metadata": {},
   "outputs": [
    {
     "name": "stdout",
     "output_type": "stream",
     "text": [
      "Random classifier score: 0.55 \n"
     ]
    }
   ],
   "source": [
    "from sklearn.dummy import DummyClassifier\n",
    "\n",
    "dummy_clf = DummyClassifier(strategy=\"most_frequent\")\n",
    "dummy_clf.fit(X_train, y_train)\n",
    "print(f\"Random classifier score: {dummy_clf.score(X_val, y_val).round(2)} \")"
   ]
  },
  {
   "cell_type": "markdown",
   "metadata": {},
   "source": [
    "## Tuning Hyperparameters "
   ]
  },
  {
   "cell_type": "code",
   "execution_count": 24,
   "metadata": {},
   "outputs": [],
   "source": [
    "from sklearn.model_selection import GridSearchCV\n",
    "import xgboost as xgb\n",
    "xgb_model = xgb.XGBClassifier(use_label_encoder=False)\n",
    "\n",
    "parameters = {'nthread':[4], #when use hyperthread, xgboost may become slower\n",
    "              'objective':['binary:logistic'],\n",
    "              'learning_rate': [0.08, 0.1, 0.3], # eta\n",
    "              'max_depth': [2,3,4], # trees max deep\n",
    "              'eval_metric' : ['logloss'], # smoother than error\n",
    "              'n_estimators': [200], #number of trees\n",
    "}\n",
    "\n",
    "clf = GridSearchCV(xgb_model, parameters, n_jobs=5, \n",
    "                   verbose=0, refit=True)\n",
    "\n",
    "bst = clf.fit(X_train, y_train)"
   ]
  },
  {
   "cell_type": "code",
   "execution_count": 25,
   "metadata": {},
   "outputs": [
    {
     "data": {
      "text/plain": [
       "{'eval_metric': 'logloss',\n",
       " 'learning_rate': 0.08,\n",
       " 'max_depth': 4,\n",
       " 'n_estimators': 200,\n",
       " 'nthread': 4,\n",
       " 'objective': 'binary:logistic'}"
      ]
     },
     "execution_count": 25,
     "metadata": {},
     "output_type": "execute_result"
    }
   ],
   "source": [
    "clf.best_params_"
   ]
  },
  {
   "cell_type": "markdown",
   "metadata": {},
   "source": [
    "Note: After a few shots, a learning rate of 0.3 is better."
   ]
  },
  {
   "cell_type": "code",
   "execution_count": 26,
   "metadata": {},
   "outputs": [
    {
     "name": "stdout",
     "output_type": "stream",
     "text": [
      "{'nthread': 4, 'objective': 'binary:logistic', 'learning_rate': 0.3, 'max_depth': 3, 'eval_metric': ['auc', 'logloss', 'error']}\n"
     ]
    }
   ],
   "source": [
    "param = {   'nthread':4, #when use hyperthread, xgboost may become slower\n",
    "            'objective':'binary:logistic',\n",
    "            'learning_rate': 0.3, # eta: shrinkage parameter\n",
    "            'max_depth': 3, # depth of tree\n",
    "            'eval_metric' : ['auc', 'logloss', 'error'], # last metric will be used for the best eval\n",
    "            'nthread' : 4\n",
    "}\n",
    "\n",
    "evals_result = {}\n",
    "print(param)\n",
    "evallist = [(dtrain, 'train'), (dtest, 'test')]"
   ]
  },
  {
   "cell_type": "code",
   "execution_count": 27,
   "metadata": {},
   "outputs": [],
   "source": [
    "evals_result = {}\n",
    "num_round = 500\n",
    "\n",
    "bst = xgb.train(param, dtrain, num_round, evallist,verbose_eval=False, evals_result=evals_result)"
   ]
  },
  {
   "cell_type": "code",
   "execution_count": 28,
   "metadata": {},
   "outputs": [
    {
     "name": "stdout",
     "output_type": "stream",
     "text": [
      "500\n"
     ]
    },
    {
     "data": {
      "image/png": "[encoded data removed]",
      "text/plain": [
       "<Figure size 432x288 with 1 Axes>"
      ]
     },
     "metadata": {
      "needs_background": "light"
     },
     "output_type": "display_data"
    }
   ],
   "source": [
    "epochs = len(evals_result['train']['error'])\n",
    "x_axis = range(0, epochs)\n",
    "print(epochs)\n",
    "\n",
    "fig, ax = plt.subplots()\n",
    "ax.plot(x_axis, evals_result['train']['error'], label='Train')\n",
    "ax.plot(x_axis, evals_result['test']['error'], label='test')\n",
    "ax.legend()\n",
    "plt.ylabel('ERROR')\n",
    "plt.title('XGBoost ERROR')\n",
    "plt.show()"
   ]
  },
  {
   "cell_type": "code",
   "execution_count": 29,
   "metadata": {},
   "outputs": [
    {
     "data": {
      "image/png": "[encoded data removed]",
      "text/plain": [
       "<Figure size 432x288 with 1 Axes>"
      ]
     },
     "metadata": {
      "needs_background": "light"
     },
     "output_type": "display_data"
    }
   ],
   "source": [
    "fig, ax = plt.subplots()\n",
    "ax.plot(x_axis, evals_result['train']['logloss'], label='Train_logloss')\n",
    "ax.plot(x_axis, evals_result['test']['logloss'], label='test_logloss')\n",
    "ax.legend()\n",
    "plt.ylabel('LogLoss')\n",
    "plt.title('XGBoost LogLoss')\n",
    "plt.show()"
   ]
  },
  {
   "cell_type": "markdown",
   "metadata": {},
   "source": [
    "### Tuning best number of trees"
   ]
  },
  {
   "cell_type": "code",
   "execution_count": 30,
   "metadata": {},
   "outputs": [
    {
     "name": "stdout",
     "output_type": "stream",
     "text": [
      "Best error score: 0.135783 on round 57. \n"
     ]
    }
   ],
   "source": [
    "num_round=200\n",
    "evals_result = {}\n",
    "# early_stopping_rounds\n",
    "bst = xgb.train(param, dtrain, num_round, evallist, early_stopping_rounds=100 ,verbose_eval=False, evals_result=evals_result)\n",
    "print(f\"Best error score: {bst.best_score} on round {bst.best_iteration}. \")"
   ]
  },
  {
   "cell_type": "code",
   "execution_count": 31,
   "metadata": {},
   "outputs": [],
   "source": [
    "features_map = {'f0' : 'peak_to_peak',\n",
    "                'f1' : 'Eigen Projection 1', 'f2' : 'Eigen Projection 2',\n",
    "                'f3' : 'Eigen Projection 3', 'f4' : 'Eigen Projection 4',\n",
    "                'f5' : 'Eigen Projection 5', 'f6' : 'Eigen Projection 6',\n",
    "                'f7' : 'Eigen Projection 7', 'f8' : 'Eigen Projection 8',\n",
    "                'f9' : 'Eigen Projection 9', 'f10' : 'Eigen Projection 10',\n",
    "                'f11' : 'Eigen Projection 11', 'f12' : 'Eigen Projection 12',\n",
    "                'f13' : 'Eigen Projection 13', 'f14' : 'Eigen Projection 14',\n",
    "                'f15' : 'Eigen Projection 15', 'f16' : 'Eigen Projection 16',\n",
    "                'f17' : 'Eigen Projection 17', 'f18' : 'Eigen Projection 18',\n",
    "                'f19' : 'Eigen Projection 19', 'f20' : 'Eigen Projection 20',\n",
    "                'f21' : 'Eigen Projection 21', 'f22' : 'Eigen Projection 22',\n",
    "                'f23' : 'Eigen Projection 23', 'f24' : 'Eigen Projection 24',\n",
    "                'f25' : 'Eigen Projection 25'\n",
    "}"
   ]
  },
  {
   "cell_type": "code",
   "execution_count": 32,
   "metadata": {},
   "outputs": [
    {
     "name": "stdout",
     "output_type": "stream",
     "text": [
      "100 Iterations\n"
     ]
    },
    {
     "data": {
      "text/plain": [
       "<AxesSubplot:title={'center':'Feature importance'}, xlabel='F score', ylabel='Features'>"
      ]
     },
     "execution_count": 32,
     "metadata": {},
     "output_type": "execute_result"
    },
    {
     "data": {
      "text/plain": [
       "<Figure size 360x360 with 0 Axes>"
      ]
     },
     "metadata": {},
     "output_type": "display_data"
    },
    {
     "data": {
      "image/png": "[encoded data removed]",
      "text/plain": [
       "<Figure size 432x288 with 1 Axes>"
      ]
     },
     "metadata": {
      "needs_background": "light"
     },
     "output_type": "display_data"
    }
   ],
   "source": [
    "num_round = 80\n",
    "evals_result = {}\n",
    "bst = xgb.train(param, dtrain, num_round, evallist, verbose_eval=False, evals_result=evals_result)\n",
    "print(\"100 Iterations\")\n",
    "\n",
    "plt.figure(figsize=(5,5))\n",
    "xgb.plot_importance(bst, grid=True, height=(0.6))"
   ]
  },
  {
   "cell_type": "markdown",
   "metadata": {},
   "source": [
    "### ROC"
   ]
  },
  {
   "cell_type": "code",
   "execution_count": 33,
   "metadata": {},
   "outputs": [
    {
     "data": {
      "image/png": "[encoded data removed]",
      "text/plain": [
       "<Figure size 576x432 with 1 Axes>"
      ]
     },
     "metadata": {
      "needs_background": "light"
     },
     "output_type": "display_data"
    }
   ],
   "source": [
    "\n",
    "y_pred = bst.predict(dval, output_margin=True)\n",
    "\n",
    "from sklearn.metrics import roc_curve\n",
    "plt.figure(figsize=(8, 6))\n",
    "false_pos_rate, true_pos_rate, thresholds = roc_curve(y_val, y_pred)\n",
    "plt.plot(false_pos_rate, true_pos_rate)\n",
    "plt.xlabel('False Positive Rate')\n",
    "plt.ylabel('True Positive Rate')\n",
    "plt.title(\"ROC Curve\")\n",
    "plt.grid()\n",
    "plt.show()"
   ]
  },
  {
   "cell_type": "markdown",
   "metadata": {},
   "source": [
    "The ROC is symmetric: Cuviers and Gervais are fairly predicted."
   ]
  },
  {
   "cell_type": "code",
   "execution_count": 34,
   "metadata": {},
   "outputs": [
    {
     "name": "stdout",
     "output_type": "stream",
     "text": [
      "\n",
      "Confusion Matrix : \n",
      "[[241  43]\n",
      " [ 42 301]]\n",
      "\n",
      "Classification Report : \n",
      "              precision    recall  f1-score   support\n",
      "\n",
      "           0       0.85      0.85      0.85       284\n",
      "           1       0.88      0.88      0.88       343\n",
      "\n",
      "    accuracy                           0.86       627\n",
      "   macro avg       0.86      0.86      0.86       627\n",
      "weighted avg       0.86      0.86      0.86       627\n",
      "\n"
     ]
    }
   ],
   "source": [
    "from sklearn.metrics import classification_report, confusion_matrix\n",
    "\n",
    "param = {'nthread':4,\n",
    "              'learning_rate': 0.3,\n",
    "              'max_depth': 3,\n",
    "              'colsample_bytree' : 0.3,\n",
    "              'n_estimators' : 80,\n",
    "              'objective' :'binary:logistic',\n",
    "              'eval_metric' : ['auc', 'logloss', 'error'],\n",
    "                'use_label_encoder' : False # The use of label encoder in XGBClassifier is deprecated\n",
    "}\n",
    "\n",
    "bst_clf = xgb.XGBClassifier(**param)\n",
    "\n",
    "bst_clf = bst_clf.fit(X_train, y_train)\n",
    "\n",
    "y_val_pred = bst_clf.predict(X_val)\n",
    "\n",
    "print(\"\\nConfusion Matrix : \")\n",
    "print(confusion_matrix(y_val, y_val_pred))\n",
    "\n",
    "print(\"\\nClassification Report : \")\n",
    "print(classification_report(y_val, y_val_pred))"
   ]
  },
  {
   "cell_type": "markdown",
   "metadata": {},
   "source": [
    "## Conclusion"
   ]
  },
  {
   "cell_type": "markdown",
   "metadata": {},
   "source": [
    "The echo-location clicks emitted by beaked whales are used to predict whale species (Curviers and Gervais). Precisely, the power spectral density (PSD) of echo-location clicks.\n",
    "\n",
    "The large size of the PSD array is reduced by a factor of 4 using PCA projection using Spark.\n",
    "\n",
    "THe XGBoost model is built and tuned using the XGB Python model and SKLearn.\n",
    "\n",
    "Finally, the model predicts equitably the 2 species of whales with 85% precision and 85% recall."
   ]
  }
 ],
 "metadata": {
  "celltoolbar": "Slideshow",
  "kernelspec": {
   "display_name": "Python 3",
   "language": "python",
   "name": "python3"
  },
  "language_info": {
   "codemirror_mode": {
    "name": "ipython",
    "version": 3
   },
   "file_extension": ".py",
   "mimetype": "text/x-python",
   "name": "python",
   "nbconvert_exporter": "python",
   "pygments_lexer": "ipython3",
   "version": "3.9.7"
  },
  "toc": {
   "base_numbering": 1,
   "nav_menu": {},
   "number_sections": true,
   "sideBar": true,
   "skip_h1_title": false,
   "title_cell": "Table of Contents",
   "title_sidebar": "Contents",
   "toc_cell": false,
   "toc_position": {},
   "toc_section_display": true,
   "toc_window_display": false
  },
  "varInspector": {
   "cols": {
    "lenName": 16,
    "lenType": 16,
    "lenVar": 40
   },
   "kernels_config": {
    "python": {
     "delete_cmd_postfix": "",
     "delete_cmd_prefix": "del ",
     "library": "var_list.py",
     "varRefreshCmd": "print(var_dic_list())"
    },
    "r": {
     "delete_cmd_postfix": ") ",
     "delete_cmd_prefix": "rm(",
     "library": "var_list.r",
     "varRefreshCmd": "cat(var_dic_list()) "
    }
   },
   "types_to_exclude": [
    "module",
    "function",
    "builtin_function_or_method",
    "instance",
    "_Feature"
   ],
   "window_display": false
  }
 },
 "nbformat": 4,
 "nbformat_minor": 1
}
